{
 "cells": [
  {
   "cell_type": "markdown",
   "id": "bf333fbe",
   "metadata": {},
   "source": [
    "\n",
    "\n",
    "\n",
    "\n",
    "\n",
    "\n",
    "\n",
    "\n",
    "\n",
    "\n",
    "\n",
    "\n",
    "\n",
    "\n",
    "\n",
    "\n",
    "\n",
    "\n",
    "\n",
    "\n",
    "\n",
    "\n",
    "\n",
    "\n",
    "\n",
    "\n",
    "\n",
    "\n",
    "\n",
    "\n",
    "\n",
    "\n",
    "\n",
    "\n",
    "\n",
    "\n",
    "\n",
    "\n",
    "\n",
    "\n",
    "\n",
    "\n",
    "\n",
    "\n",
    "\n",
    "\n",
    "\n",
    "\n",
    "\n",
    "\n",
    "\n",
    "# integer value"
   ]
  },
  {
   "cell_type": "code",
   "execution_count": null,
   "id": "f0cc6eee",
   "metadata": {},
   "outputs": [],
   "source": []
  },
  {
   "cell_type": "code",
   "execution_count": 4,
   "id": "4d07f50b",
   "metadata": {},
   "outputs": [
    {
     "name": "stdout",
     "output_type": "stream",
     "text": [
      "<class 'int'>\n"
     ]
    }
   ],
   "source": [
    "a=1\n",
    "print(type(a))"
   ]
  },
  {
   "cell_type": "code",
   "execution_count": 5,
   "id": "440ca559",
   "metadata": {},
   "outputs": [
    {
     "name": "stdout",
     "output_type": "stream",
     "text": [
      "<class 'int'>\n"
     ]
    }
   ],
   "source": [
    "a=-1\n",
    "print(type(a))"
   ]
  },
  {
   "cell_type": "code",
   "execution_count": 6,
   "id": "fc866a71",
   "metadata": {},
   "outputs": [
    {
     "name": "stdout",
     "output_type": "stream",
     "text": [
      "<class 'int'>\n"
     ]
    }
   ],
   "source": [
    "a=100\n",
    "print(type(a))"
   ]
  },
  {
   "cell_type": "code",
   "execution_count": 7,
   "id": "be722e3c",
   "metadata": {},
   "outputs": [
    {
     "name": "stdout",
     "output_type": "stream",
     "text": [
      "<class 'int'>\n"
     ]
    }
   ],
   "source": [
    "a=-12\n",
    "print(type(a))"
   ]
  },
  {
   "cell_type": "markdown",
   "id": "2a7b98e5",
   "metadata": {},
   "source": [
    "# float value"
   ]
  },
  {
   "cell_type": "code",
   "execution_count": 8,
   "id": "ea97b834",
   "metadata": {},
   "outputs": [
    {
     "name": "stdout",
     "output_type": "stream",
     "text": [
      "<class 'float'>\n"
     ]
    }
   ],
   "source": [
    "a=1.3\n",
    "print(type(a))"
   ]
  },
  {
   "cell_type": "code",
   "execution_count": 9,
   "id": "ec728ea2",
   "metadata": {},
   "outputs": [
    {
     "name": "stdout",
     "output_type": "stream",
     "text": [
      "<class 'float'>\n"
     ]
    }
   ],
   "source": [
    "a=0.5\n",
    "print(type(a))"
   ]
  },
  {
   "cell_type": "markdown",
   "id": "09fffe8d",
   "metadata": {},
   "source": [
    "# string value"
   ]
  },
  {
   "cell_type": "markdown",
   "id": "2e83eab2",
   "metadata": {},
   "source": [
    "string is collection of charactor or \"\" (double quote) and '' (single quote)"
   ]
  },
  {
   "cell_type": "code",
   "execution_count": 10,
   "id": "a60cbb76",
   "metadata": {},
   "outputs": [
    {
     "name": "stdout",
     "output_type": "stream",
     "text": [
      "<class 'str'>\n"
     ]
    }
   ],
   "source": [
    "a='abhishek'\n",
    "print(type(a))"
   ]
  },
  {
   "cell_type": "code",
   "execution_count": 11,
   "id": "a13d610e",
   "metadata": {},
   "outputs": [
    {
     "name": "stdout",
     "output_type": "stream",
     "text": [
      "<class 'str'>\n"
     ]
    }
   ],
   "source": [
    "a='123'\n",
    "print(type(a))"
   ]
  },
  {
   "cell_type": "code",
   "execution_count": 12,
   "id": "3f574e5c",
   "metadata": {},
   "outputs": [
    {
     "name": "stdout",
     "output_type": "stream",
     "text": [
      "<class 'str'>\n"
     ]
    }
   ],
   "source": [
    "a=\"12.4\"\n",
    "print(type(a))"
   ]
  },
  {
   "cell_type": "code",
   "execution_count": 13,
   "id": "4c6daed7",
   "metadata": {},
   "outputs": [
    {
     "name": "stdout",
     "output_type": "stream",
     "text": [
      "<class 'str'>\n"
     ]
    }
   ],
   "source": [
    "a=\"-12\"\n",
    "print(type(a))"
   ]
  },
  {
   "cell_type": "markdown",
   "id": "191c2f4e",
   "metadata": {},
   "source": [
    "how to find a no of charactor len (fuction)"
   ]
  },
  {
   "cell_type": "code",
   "execution_count": 17,
   "id": "e5f1448a",
   "metadata": {},
   "outputs": [
    {
     "name": "stdout",
     "output_type": "stream",
     "text": [
      "5\n"
     ]
    }
   ],
   "source": [
    "a=\"12.34\"\n",
    "print(len(a))"
   ]
  },
  {
   "cell_type": "code",
   "execution_count": 18,
   "id": "8f4f96a6",
   "metadata": {},
   "outputs": [
    {
     "name": "stdout",
     "output_type": "stream",
     "text": [
      "4\n"
     ]
    }
   ],
   "source": [
    "a='-134'\n",
    "print(len(a))"
   ]
  },
  {
   "cell_type": "code",
   "execution_count": 19,
   "id": "3f3bd87c",
   "metadata": {},
   "outputs": [
    {
     "name": "stdout",
     "output_type": "stream",
     "text": [
      "6\n"
     ]
    }
   ],
   "source": [
    "a='123_34'\n",
    "print(len(a))"
   ]
  },
  {
   "cell_type": "markdown",
   "id": "510ab1c0",
   "metadata": {},
   "source": [
    "# boolean data type"
   ]
  },
  {
   "cell_type": "markdown",
   "id": "39f5f615",
   "metadata": {},
   "source": [
    "boolean data only show in 'true ' and 'False'"
   ]
  },
  {
   "cell_type": "code",
   "execution_count": 20,
   "id": "c41ca43b",
   "metadata": {},
   "outputs": [
    {
     "name": "stdout",
     "output_type": "stream",
     "text": [
      "<class 'bool'>\n"
     ]
    }
   ],
   "source": [
    "a=True\n",
    "print(type(a))"
   ]
  },
  {
   "cell_type": "code",
   "execution_count": 21,
   "id": "e7a37804",
   "metadata": {},
   "outputs": [
    {
     "name": "stdout",
     "output_type": "stream",
     "text": [
      "<class 'bool'>\n"
     ]
    }
   ],
   "source": [
    "a=False\n",
    "print(type(a))"
   ]
  },
  {
   "cell_type": "code",
   "execution_count": 22,
   "id": "e23fa925",
   "metadata": {},
   "outputs": [
    {
     "ename": "NameError",
     "evalue": "name 'male' is not defined",
     "output_type": "error",
     "traceback": [
      "\u001b[1;31m---------------------------------------------------------------------------\u001b[0m",
      "\u001b[1;31mNameError\u001b[0m                                 Traceback (most recent call last)",
      "Input \u001b[1;32mIn [22]\u001b[0m, in \u001b[0;36m<cell line: 1>\u001b[1;34m()\u001b[0m\n\u001b[1;32m----> 1\u001b[0m a\u001b[38;5;241m=\u001b[39m\u001b[43mmale\u001b[49m\n\u001b[0;32m      2\u001b[0m \u001b[38;5;28mprint\u001b[39m(\u001b[38;5;28mtype\u001b[39m(a))\n",
      "\u001b[1;31mNameError\u001b[0m: name 'male' is not defined"
     ]
    }
   ],
   "source": [
    "a=male\n",
    "print(type(a))"
   ]
  },
  {
   "cell_type": "markdown",
   "id": "6fe691e1",
   "metadata": {},
   "source": [
    "some exercise"
   ]
  },
  {
   "cell_type": "code",
   "execution_count": 23,
   "id": "2f0eab98",
   "metadata": {},
   "outputs": [
    {
     "ename": "SyntaxError",
     "evalue": "cannot assign to literal (3320437850.py, line 1)",
     "output_type": "error",
     "traceback": [
      "\u001b[1;36m  Input \u001b[1;32mIn [23]\u001b[1;36m\u001b[0m\n\u001b[1;33m    12= intergar\u001b[0m\n\u001b[1;37m    ^\u001b[0m\n\u001b[1;31mSyntaxError\u001b[0m\u001b[1;31m:\u001b[0m cannot assign to literal\n"
     ]
    }
   ],
   "source": [
    "12= intergar\n",
    "12.34=float\n",
    "'123'= string\n",
    "'abhishek'=str\n",
    "False=boolean\n",
    "*&^%#@$*=invaild data type\n"
   ]
  },
  {
   "cell_type": "code",
   "execution_count": 24,
   "id": "2c98d4cb",
   "metadata": {},
   "outputs": [
    {
     "name": "stdout",
     "output_type": "stream",
     "text": [
      "5\n"
     ]
    }
   ],
   "source": [
    "a=2+3\n",
    "print(a)"
   ]
  },
  {
   "cell_type": "code",
   "execution_count": 25,
   "id": "2052317e",
   "metadata": {},
   "outputs": [
    {
     "name": "stdout",
     "output_type": "stream",
     "text": [
      "3+2\n"
     ]
    }
   ],
   "source": [
    "a='3+2'\n",
    "print(a)"
   ]
  },
  {
   "cell_type": "code",
   "execution_count": 26,
   "id": "37c07c89",
   "metadata": {},
   "outputs": [
    {
     "name": "stdout",
     "output_type": "stream",
     "text": [
      "abhishek\n"
     ]
    }
   ],
   "source": [
    "a='abhishek'\n",
    "print(a)"
   ]
  },
  {
   "cell_type": "code",
   "execution_count": 27,
   "id": "9179eed3",
   "metadata": {},
   "outputs": [
    {
     "ename": "NameError",
     "evalue": "name 'abhishek' is not defined",
     "output_type": "error",
     "traceback": [
      "\u001b[1;31m---------------------------------------------------------------------------\u001b[0m",
      "\u001b[1;31mNameError\u001b[0m                                 Traceback (most recent call last)",
      "Input \u001b[1;32mIn [27]\u001b[0m, in \u001b[0;36m<cell line: 1>\u001b[1;34m()\u001b[0m\n\u001b[1;32m----> 1\u001b[0m \u001b[38;5;28mprint\u001b[39m(\u001b[43mabhishek\u001b[49m)\n",
      "\u001b[1;31mNameError\u001b[0m: name 'abhishek' is not defined"
     ]
    }
   ],
   "source": [
    "print(abhishek)"
   ]
  },
  {
   "cell_type": "code",
   "execution_count": 28,
   "id": "62580077",
   "metadata": {},
   "outputs": [
    {
     "name": "stdout",
     "output_type": "stream",
     "text": [
      "1234\n"
     ]
    }
   ],
   "source": [
    "print(1234)"
   ]
  },
  {
   "cell_type": "code",
   "execution_count": 29,
   "id": "3d164791",
   "metadata": {},
   "outputs": [
    {
     "name": "stdout",
     "output_type": "stream",
     "text": [
      "12.4\n"
     ]
    }
   ],
   "source": [
    "print(12.4)"
   ]
  },
  {
   "cell_type": "code",
   "execution_count": 32,
   "id": "54ef2b90",
   "metadata": {},
   "outputs": [
    {
     "name": "stdout",
     "output_type": "stream",
     "text": [
      "abhishek\n"
     ]
    }
   ],
   "source": [
    "print(\"abhishek\")"
   ]
  },
  {
   "cell_type": "markdown",
   "id": "8be20570",
   "metadata": {},
   "source": [
    "# variable"
   ]
  },
  {
   "cell_type": "code",
   "execution_count": 33,
   "id": "6a56119f",
   "metadata": {},
   "outputs": [
    {
     "name": "stdout",
     "output_type": "stream",
     "text": [
      "30\n"
     ]
    }
   ],
   "source": [
    "age=20\n",
    "age=30\n",
    "print(age)"
   ]
  },
  {
   "cell_type": "code",
   "execution_count": 34,
   "id": "a64f0d41",
   "metadata": {},
   "outputs": [
    {
     "name": "stdout",
     "output_type": "stream",
     "text": [
      "20\n"
     ]
    }
   ],
   "source": [
    "age=20\n",
    "print(age)\n",
    "age=30"
   ]
  },
  {
   "cell_type": "markdown",
   "id": "aaf5a1fc",
   "metadata": {},
   "source": [
    "# variable limits"
   ]
  },
  {
   "cell_type": "markdown",
   "id": "ac42d2c0",
   "metadata": {},
   "source": [
    "don't be start variable in number"
   ]
  },
  {
   "cell_type": "code",
   "execution_count": 35,
   "id": "ca713f1c",
   "metadata": {},
   "outputs": [
    {
     "ename": "SyntaxError",
     "evalue": "invalid syntax (2682264507.py, line 1)",
     "output_type": "error",
     "traceback": [
      "\u001b[1;36m  Input \u001b[1;32mIn [35]\u001b[1;36m\u001b[0m\n\u001b[1;33m    1a=3\u001b[0m\n\u001b[1;37m     ^\u001b[0m\n\u001b[1;31mSyntaxError\u001b[0m\u001b[1;31m:\u001b[0m invalid syntax\n"
     ]
    }
   ],
   "source": [
    "1a=3\n",
    "print(1a)"
   ]
  },
  {
   "cell_type": "markdown",
   "id": "877212fc",
   "metadata": {},
   "source": [
    "don't b allowed spece in variable"
   ]
  },
  {
   "cell_type": "code",
   "execution_count": 36,
   "id": "6dd7a04f",
   "metadata": {},
   "outputs": [
    {
     "ename": "SyntaxError",
     "evalue": "invalid syntax (4141019513.py, line 1)",
     "output_type": "error",
     "traceback": [
      "\u001b[1;36m  Input \u001b[1;32mIn [36]\u001b[1;36m\u001b[0m\n\u001b[1;33m    love dose=3\u001b[0m\n\u001b[1;37m         ^\u001b[0m\n\u001b[1;31mSyntaxError\u001b[0m\u001b[1;31m:\u001b[0m invalid syntax\n"
     ]
    }
   ],
   "source": [
    "love dose=3\n",
    "print(love dose)"
   ]
  },
  {
   "cell_type": "markdown",
   "id": "12b73568",
   "metadata": {},
   "source": [
    "only one syntex is allowed in variable _(under score) "
   ]
  },
  {
   "cell_type": "code",
   "execution_count": 37,
   "id": "9dfaea9f",
   "metadata": {},
   "outputs": [
    {
     "name": "stdout",
     "output_type": "stream",
     "text": [
      "12\n"
     ]
    }
   ],
   "source": [
    "_love_3=12\n",
    "print(_love_3)"
   ]
  },
  {
   "cell_type": "markdown",
   "id": "672ce299",
   "metadata": {},
   "source": [
    "don't allowed be function name is variable name"
   ]
  },
  {
   "cell_type": "code",
   "execution_count": 38,
   "id": "4a47647c",
   "metadata": {},
   "outputs": [
    {
     "ename": "TypeError",
     "evalue": "'int' object is not callable",
     "output_type": "error",
     "traceback": [
      "\u001b[1;31m---------------------------------------------------------------------------\u001b[0m",
      "\u001b[1;31mTypeError\u001b[0m                                 Traceback (most recent call last)",
      "Input \u001b[1;32mIn [38]\u001b[0m, in \u001b[0;36m<cell line: 2>\u001b[1;34m()\u001b[0m\n\u001b[0;32m      1\u001b[0m \u001b[38;5;28mprint\u001b[39m\u001b[38;5;241m=\u001b[39m\u001b[38;5;241m2\u001b[39m\n\u001b[1;32m----> 2\u001b[0m \u001b[38;5;28;43mprint\u001b[39;49m\u001b[43m(\u001b[49m\u001b[38;5;28;43mprint\u001b[39;49m\u001b[43m)\u001b[49m\n",
      "\u001b[1;31mTypeError\u001b[0m: 'int' object is not callable"
     ]
    }
   ],
   "source": [
    "print=2\n",
    "print(print)"
   ]
  },
  {
   "cell_type": "code",
   "execution_count": 39,
   "id": "6d89f6a2",
   "metadata": {},
   "outputs": [
    {
     "ename": "TypeError",
     "evalue": "'int' object is not callable",
     "output_type": "error",
     "traceback": [
      "\u001b[1;31m---------------------------------------------------------------------------\u001b[0m",
      "\u001b[1;31mTypeError\u001b[0m                                 Traceback (most recent call last)",
      "Input \u001b[1;32mIn [39]\u001b[0m, in \u001b[0;36m<cell line: 2>\u001b[1;34m()\u001b[0m\n\u001b[0;32m      1\u001b[0m \u001b[38;5;28mtype\u001b[39m\u001b[38;5;241m=\u001b[39m\u001b[38;5;241m3\u001b[39m\n\u001b[1;32m----> 2\u001b[0m \u001b[38;5;28;43mprint\u001b[39;49m\u001b[43m(\u001b[49m\u001b[38;5;28;43mtype\u001b[39;49m\u001b[43m)\u001b[49m\n",
      "\u001b[1;31mTypeError\u001b[0m: 'int' object is not callable"
     ]
    }
   ],
   "source": [
    "type=3\n",
    "print(type)"
   ]
  },
  {
   "cell_type": "markdown",
   "id": "0af04716",
   "metadata": {},
   "source": [
    "how to assigen a variable and value in single line"
   ]
  },
  {
   "cell_type": "code",
   "execution_count": 6,
   "id": "26060227",
   "metadata": {},
   "outputs": [
    {
     "name": "stdout",
     "output_type": "stream",
     "text": [
      "('nikhil', 28, 'male')\n"
     ]
    }
   ],
   "source": [
    "a=name,age,sex='nikhil',28,\"male\"\n",
    "print(a)"
   ]
  },
  {
   "cell_type": "code",
   "execution_count": 1,
   "id": "f99af515",
   "metadata": {},
   "outputs": [
    {
     "name": "stdout",
     "output_type": "stream",
     "text": [
      "india india india\n"
     ]
    }
   ],
   "source": [
    "country='india'\n",
    "flag='india'\n",
    "citizen='india'\n",
    "print(country,flag,citizen)\n"
   ]
  },
  {
   "cell_type": "code",
   "execution_count": 4,
   "id": "4d9d271b",
   "metadata": {},
   "outputs": [
    {
     "ename": "ValueError",
     "evalue": "too many values to unpack (expected 3)",
     "output_type": "error",
     "traceback": [
      "\u001b[1;31m---------------------------------------------------------------------------\u001b[0m",
      "\u001b[1;31mValueError\u001b[0m                                Traceback (most recent call last)",
      "Input \u001b[1;32mIn [4]\u001b[0m, in \u001b[0;36m<cell line: 1>\u001b[1;34m()\u001b[0m\n\u001b[1;32m----> 1\u001b[0m country,flag,citizen\u001b[38;5;241m=\u001b[39m\u001b[38;5;124m\"\u001b[39m\u001b[38;5;124mindia\u001b[39m\u001b[38;5;124m\"\u001b[39m\n\u001b[0;32m      2\u001b[0m \u001b[38;5;28mprint\u001b[39m(country,flag,citize)\n",
      "\u001b[1;31mValueError\u001b[0m: too many values to unpack (expected 3)"
     ]
    }
   ],
   "source": [
    "country,flag,citizen=\"india\"\n",
    "print(country,flag,citize)"
   ]
  },
  {
   "cell_type": "markdown",
   "id": "49048496",
   "metadata": {},
   "source": [
    "# operator"
   ]
  },
  {
   "cell_type": "raw",
   "id": "bc855566",
   "metadata": {},
   "source": [
    "Artmetic Operator"
   ]
  },
  {
   "cell_type": "code",
   "execution_count": 8,
   "id": "2aedd713",
   "metadata": {},
   "outputs": [
    {
     "name": "stdout",
     "output_type": "stream",
     "text": [
      "the v value is-225\n"
     ]
    }
   ],
   "source": [
    "age=220\n",
    "b=5\n",
    "v=age+b\n",
    "print(f'the v value is-{v}')"
   ]
  },
  {
   "cell_type": "code",
   "execution_count": 9,
   "id": "30d9fd0d",
   "metadata": {},
   "outputs": [
    {
     "name": "stdout",
     "output_type": "stream",
     "text": [
      "the value of v-0\n"
     ]
    }
   ],
   "source": [
    "a=123\n",
    "b=23\n",
    "v=a+b-a-b\n",
    "print(f\"the value of v-{v}\")"
   ]
  },
  {
   "cell_type": "markdown",
   "id": "f810de7f",
   "metadata": {},
   "source": [
    "division(/)-the division value gives alaways float number"
   ]
  },
  {
   "cell_type": "code",
   "execution_count": 10,
   "id": "0137f290",
   "metadata": {},
   "outputs": [
    {
     "name": "stdout",
     "output_type": "stream",
     "text": [
      "v division value is-2.0\n"
     ]
    }
   ],
   "source": [
    "a=10\n",
    "b=5\n",
    "v=a/b\n",
    "print(f\"v division value is-{v}\")"
   ]
  },
  {
   "cell_type": "code",
   "execution_count": 11,
   "id": "93af2e62",
   "metadata": {},
   "outputs": [
    {
     "name": "stdout",
     "output_type": "stream",
     "text": [
      "c division value is:25.0\n"
     ]
    }
   ],
   "source": [
    "a=125\n",
    "b=5\n",
    "c=a/b\n",
    "print(f'c division value is:{c}')"
   ]
  },
  {
   "cell_type": "markdown",
   "id": "5aff52f3",
   "metadata": {},
   "source": [
    "Floor division(//)- the gives the value in only integer form"
   ]
  },
  {
   "cell_type": "code",
   "execution_count": 13,
   "id": "8aa40020",
   "metadata": {},
   "outputs": [
    {
     "name": "stdout",
     "output_type": "stream",
     "text": [
      "c floor division is:3\n"
     ]
    }
   ],
   "source": [
    "a=10\n",
    "b=3\n",
    "c=a//b\n",
    "print(f\"c floor division is:{c}\")"
   ]
  },
  {
   "cell_type": "code",
   "execution_count": 14,
   "id": "ccc66472",
   "metadata": {},
   "outputs": [
    {
     "name": "stdout",
     "output_type": "stream",
     "text": [
      "v floor value is : 7\n"
     ]
    }
   ],
   "source": [
    "a=15\n",
    "b=2\n",
    "v=a//b\n",
    "print(f\"v floor value is : {v}\")"
   ]
  },
  {
   "cell_type": "markdown",
   "id": "afdedcc2",
   "metadata": {},
   "source": [
    "mudelo function(%)-the gives reminder value in integer form"
   ]
  },
  {
   "cell_type": "code",
   "execution_count": 15,
   "id": "390db974",
   "metadata": {},
   "outputs": [
    {
     "name": "stdout",
     "output_type": "stream",
     "text": [
      "c mudelo value is : 2\n"
     ]
    }
   ],
   "source": [
    "a=6\n",
    "b=4\n",
    "c=a%4\n",
    "print(f\"c mudelo value is : {c}\")"
   ]
  },
  {
   "cell_type": "code",
   "execution_count": 16,
   "id": "a496398c",
   "metadata": {},
   "outputs": [
    {
     "name": "stdout",
     "output_type": "stream",
     "text": [
      " g mudelo value is: 1\n"
     ]
    }
   ],
   "source": [
    "a=16\n",
    "b=3\n",
    "g=a%b\n",
    "print(f\" g mudelo value is: {g}\")"
   ]
  },
  {
   "cell_type": "markdown",
   "id": "d36675cf",
   "metadata": {},
   "source": [
    "exoponet"
   ]
  },
  {
   "cell_type": "code",
   "execution_count": 17,
   "id": "3941d4c4",
   "metadata": {},
   "outputs": [
    {
     "name": "stdout",
     "output_type": "stream",
     "text": [
      " a exoponet value is: 8\n"
     ]
    }
   ],
   "source": [
    "a=2**3\n",
    "print(f\" a exoponet value is: {a}\")"
   ]
  },
  {
   "cell_type": "code",
   "execution_count": 21,
   "id": "06e05de6",
   "metadata": {},
   "outputs": [
    {
     "name": "stdout",
     "output_type": "stream",
     "text": [
      "s exoponet value is :256\n"
     ]
    }
   ],
   "source": [
    "s=4**4\n",
    "print(f\"s exoponet value is :{s}\")"
   ]
  },
  {
   "cell_type": "code",
   "execution_count": 22,
   "id": "4409d75a",
   "metadata": {},
   "outputs": [
    {
     "name": "stdout",
     "output_type": "stream",
     "text": [
      "v exponet value is:15625\n"
     ]
    }
   ],
   "source": [
    "v=5**6\n",
    "print(f\"v exponet value is:{v}\")"
   ]
  },
  {
   "cell_type": "markdown",
   "id": "f226d80d",
   "metadata": {},
   "source": [
    "# Assiegement operator"
   ]
  },
  {
   "cell_type": "markdown",
   "id": "5ee6a902",
   "metadata": {},
   "source": [
    "=,=>,=<,!="
   ]
  },
  {
   "cell_type": "code",
   "execution_count": 6,
   "id": "0f296860",
   "metadata": {},
   "outputs": [
    {
     "name": "stdout",
     "output_type": "stream",
     "text": [
      "False\n"
     ]
    }
   ],
   "source": [
    "a=4\n",
    "b=5\n",
    "\n",
    "print(a==b)\n"
   ]
  },
  {
   "cell_type": "code",
   "execution_count": 7,
   "id": "b85409f9",
   "metadata": {},
   "outputs": [
    {
     "name": "stdout",
     "output_type": "stream",
     "text": [
      "False\n"
     ]
    }
   ],
   "source": [
    "a=3\n",
    "b=7\n",
    "c=a==b\n",
    "print(c)\n"
   ]
  },
  {
   "cell_type": "markdown",
   "id": "5a9076b5",
   "metadata": {},
   "source": [
    "(>) greater then"
   ]
  },
  {
   "cell_type": "code",
   "execution_count": 8,
   "id": "bf947212",
   "metadata": {},
   "outputs": [
    {
     "name": "stdout",
     "output_type": "stream",
     "text": [
      "True\n"
     ]
    }
   ],
   "source": [
    "a=6\n",
    "b=3\n",
    "c=a>b\n",
    "print(c)"
   ]
  },
  {
   "cell_type": "code",
   "execution_count": 9,
   "id": "cca5ba87",
   "metadata": {},
   "outputs": [
    {
     "name": "stdout",
     "output_type": "stream",
     "text": [
      "False\n"
     ]
    }
   ],
   "source": [
    "a=5\n",
    "b=6\n",
    "c=a>b\n",
    "print(c)"
   ]
  },
  {
   "cell_type": "code",
   "execution_count": 10,
   "id": "eee50e85",
   "metadata": {},
   "outputs": [
    {
     "name": "stdout",
     "output_type": "stream",
     "text": [
      "False\n"
     ]
    }
   ],
   "source": [
    "a=8\n",
    "b=7\n",
    "c=a<b\n",
    "print(c)"
   ]
  },
  {
   "cell_type": "code",
   "execution_count": 11,
   "id": "1dbe44c7",
   "metadata": {},
   "outputs": [
    {
     "name": "stdout",
     "output_type": "stream",
     "text": [
      "False\n"
     ]
    }
   ],
   "source": [
    "b=8\n",
    "c=10\n",
    "a=c<b\n",
    "print(a)\n"
   ]
  },
  {
   "cell_type": "code",
   "execution_count": 12,
   "id": "c4458c66",
   "metadata": {},
   "outputs": [
    {
     "name": "stdout",
     "output_type": "stream",
     "text": [
      "False\n"
     ]
    }
   ],
   "source": [
    "a=5\n",
    "b=7\n",
    "c=a>=b\n",
    "print(c)"
   ]
  },
  {
   "cell_type": "code",
   "execution_count": 13,
   "id": "11df4b9e",
   "metadata": {},
   "outputs": [
    {
     "name": "stdout",
     "output_type": "stream",
     "text": [
      "True\n"
     ]
    }
   ],
   "source": [
    "a=10\n",
    "b=12\n",
    "c=a<=b\n",
    "print(c)"
   ]
  },
  {
   "cell_type": "code",
   "execution_count": 14,
   "id": "2261672d",
   "metadata": {},
   "outputs": [
    {
     "data": {
      "text/plain": [
       "True"
      ]
     },
     "execution_count": 14,
     "metadata": {},
     "output_type": "execute_result"
    }
   ],
   "source": [
    "a=12\n",
    "b=14\n",
    "c=20\n",
    "a>b or b<=c and a<c"
   ]
  },
  {
   "cell_type": "code",
   "execution_count": 15,
   "id": "9eb05449",
   "metadata": {},
   "outputs": [
    {
     "data": {
      "text/plain": [
       "True"
      ]
     },
     "execution_count": 15,
     "metadata": {},
     "output_type": "execute_result"
    }
   ],
   "source": [
    "a=12\n",
    "b=12.5\n",
    "c=25\n",
    "d=25.7\n",
    "a<=c and a>=d and c>=a or a<=c"
   ]
  },
  {
   "cell_type": "code",
   "execution_count": 16,
   "id": "93b5028d",
   "metadata": {},
   "outputs": [
    {
     "data": {
      "text/plain": [
       "False"
      ]
     },
     "execution_count": 16,
     "metadata": {},
     "output_type": "execute_result"
    }
   ],
   "source": [
    "a=12\n",
    "b=10\n",
    "c=14\n",
    "d=7\n",
    "a>d and b>=c or c<=a or d>=a and d<=a"
   ]
  },
  {
   "cell_type": "code",
   "execution_count": 20,
   "id": "dcfadd22",
   "metadata": {},
   "outputs": [
    {
     "data": {
      "text/plain": [
       "True"
      ]
     },
     "execution_count": 20,
     "metadata": {},
     "output_type": "execute_result"
    }
   ],
   "source": [
    "a=12\n",
    "b=15\n",
    "c=11\n",
    "d=17\n",
    "e=12\n",
    "f=14\n",
    "g=9\n",
    "a>=b and a<=d and a>=g or b==c and b!=d or a>=f or not True or not False"
   ]
  },
  {
   "cell_type": "markdown",
   "id": "080bbde1",
   "metadata": {},
   "source": [
    "# logical operator "
   ]
  },
  {
   "cell_type": "raw",
   "id": "f52a8cd1",
   "metadata": {},
   "source": [
    " and              or              not\n",
    "t and f=f       t or f=t       not True= False\n",
    "f and t=f       f or t=t       not False= True\n",
    "t and t=t       t or t=t\n",
    "f and f= f      f or f=f  \n"
   ]
  },
  {
   "cell_type": "code",
   "execution_count": 23,
   "id": "d5ef4b20",
   "metadata": {},
   "outputs": [
    {
     "name": "stdout",
     "output_type": "stream",
     "text": [
      "460\n"
     ]
    }
   ],
   "source": [
    "a=10\n",
    "b=20\n",
    "c=12\n",
    "m=(a*b)+b+c*b\n",
    "print(m)"
   ]
  },
  {
   "cell_type": "code",
   "execution_count": 1,
   "id": "6241f36f",
   "metadata": {},
   "outputs": [
    {
     "name": "stdout",
     "output_type": "stream",
     "text": [
      "-21\n"
     ]
    }
   ],
   "source": [
    "x=19\n",
    "y=10\n",
    "z=50\n",
    "w=x+y-z\n",
    "print(w)"
   ]
  },
  {
   "cell_type": "code",
   "execution_count": 2,
   "id": "6e46290f",
   "metadata": {},
   "outputs": [
    {
     "name": "stdout",
     "output_type": "stream",
     "text": [
      "-6\n"
     ]
    }
   ],
   "source": [
    "x=2\n",
    "y=2\n",
    "z=2\n",
    "p=2\n",
    "a=x-y*z**p\n",
    "print(a)"
   ]
  },
  {
   "cell_type": "code",
   "execution_count": 3,
   "id": "e52af738",
   "metadata": {},
   "outputs": [
    {
     "name": "stdout",
     "output_type": "stream",
     "text": [
      "-75\n"
     ]
    }
   ],
   "source": [
    "x=3\n",
    "y=3\n",
    "z=3\n",
    "p=3\n",
    "a=x+y-z*p**x\n",
    "print(a)"
   ]
  },
  {
   "cell_type": "markdown",
   "id": "5680d27f",
   "metadata": {},
   "source": [
    "# not operator"
   ]
  },
  {
   "cell_type": "code",
   "execution_count": 4,
   "id": "0b2ce27c",
   "metadata": {},
   "outputs": [
    {
     "name": "stdout",
     "output_type": "stream",
     "text": [
      "False\n"
     ]
    }
   ],
   "source": [
    "a=not(7>3)\n",
    "print(a)"
   ]
  },
  {
   "cell_type": "code",
   "execution_count": 6,
   "id": "0b7dec46",
   "metadata": {},
   "outputs": [
    {
     "data": {
      "text/plain": [
       "True"
      ]
     },
     "execution_count": 6,
     "metadata": {},
     "output_type": "execute_result"
    }
   ],
   "source": [
    "a=3\n",
    "b=4\n",
    "c=5\n",
    "a>b and a<=c or c!=a and not False"
   ]
  },
  {
   "cell_type": "code",
   "execution_count": 7,
   "id": "c70b4f02",
   "metadata": {},
   "outputs": [
    {
     "name": "stdout",
     "output_type": "stream",
     "text": [
      "False\n"
     ]
    }
   ],
   "source": [
    "b=not(7<=8)\n",
    "print(b)"
   ]
  },
  {
   "cell_type": "code",
   "execution_count": 8,
   "id": "9657bf01",
   "metadata": {},
   "outputs": [
    {
     "data": {
      "text/plain": [
       "True"
      ]
     },
     "execution_count": 8,
     "metadata": {},
     "output_type": "execute_result"
    }
   ],
   "source": [
    "a=34\n",
    "b=45\n",
    "c=20\n",
    "d=10\n",
    "a<=c and b>=d or a>=d or not False"
   ]
  },
  {
   "cell_type": "code",
   "execution_count": null,
   "id": "27bb15d4",
   "metadata": {},
   "outputs": [],
   "source": []
  },
  {
   "cell_type": "code",
   "execution_count": null,
   "id": "f9f464a0",
   "metadata": {},
   "outputs": [],
   "source": []
  },
  {
   "cell_type": "code",
   "execution_count": null,
   "id": "ced0d794",
   "metadata": {},
   "outputs": [],
   "source": []
  },
  {
   "cell_type": "code",
   "execution_count": null,
   "id": "6af919f1",
   "metadata": {},
   "outputs": [],
   "source": []
  },
  {
   "cell_type": "code",
   "execution_count": null,
   "id": "e0ca14d1",
   "metadata": {},
   "outputs": [],
   "source": []
  },
  {
   "cell_type": "code",
   "execution_count": null,
   "id": "33488ca5",
   "metadata": {},
   "outputs": [],
   "source": [
    "# "
   ]
  },
  {
   "cell_type": "code",
   "execution_count": null,
   "id": "9c70586d",
   "metadata": {},
   "outputs": [],
   "source": []
  },
  {
   "cell_type": "code",
   "execution_count": null,
   "id": "1aa96530",
   "metadata": {},
   "outputs": [],
   "source": []
  },
  {
   "cell_type": "code",
   "execution_count": null,
   "id": "0cc6b512",
   "metadata": {},
   "outputs": [],
   "source": []
  },
  {
   "cell_type": "markdown",
   "id": "9cd97c7b",
   "metadata": {},
   "source": [
    "# ep5 string"
   ]
  },
  {
   "cell_type": "markdown",
   "id": "6e04ab57",
   "metadata": {},
   "source": [
    "# + ,* this artmetric oprator use in string "
   ]
  },
  {
   "cell_type": "code",
   "execution_count": 10,
   "id": "7b0df441",
   "metadata": {},
   "outputs": [
    {
     "name": "stdout",
     "output_type": "stream",
     "text": [
      "pythondata\n"
     ]
    }
   ],
   "source": [
    "print('python'+ 'data')"
   ]
  },
  {
   "cell_type": "code",
   "execution_count": 11,
   "id": "88097688",
   "metadata": {},
   "outputs": [
    {
     "ename": "TypeError",
     "evalue": "can't multiply sequence by non-int of type 'str'",
     "output_type": "error",
     "traceback": [
      "\u001b[1;31m---------------------------------------------------------------------------\u001b[0m",
      "\u001b[1;31mTypeError\u001b[0m                                 Traceback (most recent call last)",
      "Input \u001b[1;32mIn [11]\u001b[0m, in \u001b[0;36m<cell line: 1>\u001b[1;34m()\u001b[0m\n\u001b[1;32m----> 1\u001b[0m \u001b[38;5;28mprint\u001b[39m(\u001b[38;5;124;43m\"\u001b[39;49m\u001b[38;5;124;43mpython\u001b[39;49m\u001b[38;5;124;43m\"\u001b[39;49m\u001b[38;5;241;43m*\u001b[39;49m\u001b[38;5;124;43m\"\u001b[39;49m\u001b[38;5;124;43mdata\u001b[39;49m\u001b[38;5;124;43m\"\u001b[39;49m)\n",
      "\u001b[1;31mTypeError\u001b[0m: can't multiply sequence by non-int of type 'str'"
     ]
    }
   ],
   "source": [
    "print(\"python\"*\"data\")"
   ]
  },
  {
   "cell_type": "markdown",
   "id": "6d3bd397",
   "metadata": {},
   "source": [
    "using in + artmetic oprator in same data type in string cocateration..ex- print(\"nikhil\"+ \"pal\")= nikhilpal"
   ]
  },
  {
   "cell_type": "code",
   "execution_count": 12,
   "id": "73bb91e3",
   "metadata": {},
   "outputs": [
    {
     "name": "stdout",
     "output_type": "stream",
     "text": [
      "nikhil23\n"
     ]
    }
   ],
   "source": [
    "print('nikhil' + '23')"
   ]
  },
  {
   "cell_type": "code",
   "execution_count": 13,
   "id": "fe57f628",
   "metadata": {},
   "outputs": [
    {
     "name": "stdout",
     "output_type": "stream",
     "text": [
      "123nikhil\n"
     ]
    }
   ],
   "source": [
    "print('123'+\"nikhil\")"
   ]
  },
  {
   "cell_type": "code",
   "execution_count": 15,
   "id": "450e69bb",
   "metadata": {},
   "outputs": [
    {
     "name": "stdout",
     "output_type": "stream",
     "text": [
      "123123\n"
     ]
    }
   ],
   "source": [
    "print(\"123\"+ \"123\")"
   ]
  },
  {
   "cell_type": "markdown",
   "id": "9db39360",
   "metadata": {},
   "source": [
    "# * use in string"
   ]
  },
  {
   "cell_type": "code",
   "execution_count": 4,
   "id": "c2da6ef5",
   "metadata": {},
   "outputs": [
    {
     "name": "stdout",
     "output_type": "stream",
     "text": [
      "nikhilnikhilnikhilnikhilnikhil\n"
     ]
    }
   ],
   "source": [
    "name='nikhil'\n",
    "m=5\n",
    "g=name * m\n",
    "print(g)"
   ]
  },
  {
   "cell_type": "code",
   "execution_count": 5,
   "id": "831cdc31",
   "metadata": {},
   "outputs": [
    {
     "name": "stdout",
     "output_type": "stream",
     "text": [
      "nikhilpalnikhilpalnikhilpalnikhilpalnikhilpalnikhilpalnikhilpalnikhilpalnikhilpalnikhilpal\n"
     ]
    }
   ],
   "source": [
    "name=\"nikhilpal\"\n",
    "m=10\n",
    "p=name * m\n",
    "print(p)"
   ]
  },
  {
   "cell_type": "code",
   "execution_count": 6,
   "id": "f948316c",
   "metadata": {},
   "outputs": [
    {
     "name": "stdout",
     "output_type": "stream",
     "text": [
      "nikhilpalnikhilpalnikhilpalnikhilpalnikhilpalnikhilpalnikhilpalnikhilpalnikhilpalnikhilpalnikhilpalnikhilpal\n"
     ]
    }
   ],
   "source": [
    "print(\"nikhilpal\"*12)"
   ]
  },
  {
   "cell_type": "code",
   "execution_count": 7,
   "id": "aa8a1791",
   "metadata": {},
   "outputs": [
    {
     "name": "stdout",
     "output_type": "stream",
     "text": [
      "123123123123123123123123123123123123\n"
     ]
    }
   ],
   "source": [
    "print(\"123\"*12)"
   ]
  },
  {
   "cell_type": "code",
   "execution_count": 8,
   "id": "a8b6b331",
   "metadata": {},
   "outputs": [
    {
     "ename": "TypeError",
     "evalue": "can't multiply sequence by non-int of type 'float'",
     "output_type": "error",
     "traceback": [
      "\u001b[1;31m---------------------------------------------------------------------------\u001b[0m",
      "\u001b[1;31mTypeError\u001b[0m                                 Traceback (most recent call last)",
      "Input \u001b[1;32mIn [8]\u001b[0m, in \u001b[0;36m<cell line: 1>\u001b[1;34m()\u001b[0m\n\u001b[1;32m----> 1\u001b[0m \u001b[38;5;28mprint\u001b[39m(\u001b[38;5;124;43m\"\u001b[39;49m\u001b[38;5;124;43m123\u001b[39;49m\u001b[38;5;124;43m\"\u001b[39;49m\u001b[38;5;241;43m*\u001b[39;49m\u001b[38;5;241;43m12.5\u001b[39;49m)\n",
      "\u001b[1;31mTypeError\u001b[0m: can't multiply sequence by non-int of type 'float'"
     ]
    }
   ],
   "source": [
    "print(\"123\"*12.5)"
   ]
  },
  {
   "cell_type": "code",
   "execution_count": 9,
   "id": "5be3afee",
   "metadata": {},
   "outputs": [
    {
     "ename": "TypeError",
     "evalue": "can't multiply sequence by non-int of type 'float'",
     "output_type": "error",
     "traceback": [
      "\u001b[1;31m---------------------------------------------------------------------------\u001b[0m",
      "\u001b[1;31mTypeError\u001b[0m                                 Traceback (most recent call last)",
      "Input \u001b[1;32mIn [9]\u001b[0m, in \u001b[0;36m<cell line: 1>\u001b[1;34m()\u001b[0m\n\u001b[1;32m----> 1\u001b[0m \u001b[38;5;28mprint\u001b[39m(\u001b[38;5;124;43m\"\u001b[39;49m\u001b[38;5;124;43mnikhil\u001b[39;49m\u001b[38;5;124;43m\"\u001b[39;49m\u001b[38;5;241;43m*\u001b[39;49m\u001b[38;5;241;43m1.5\u001b[39;49m)\n",
      "\u001b[1;31mTypeError\u001b[0m: can't multiply sequence by non-int of type 'float'"
     ]
    }
   ],
   "source": [
    "print(\"nikhil\"*1.5)"
   ]
  },
  {
   "cell_type": "code",
   "execution_count": null,
   "id": "8d18d451",
   "metadata": {},
   "outputs": [],
   "source": []
  },
  {
   "cell_type": "code",
   "execution_count": null,
   "id": "e556c32b",
   "metadata": {},
   "outputs": [],
   "source": []
  },
  {
   "cell_type": "code",
   "execution_count": null,
   "id": "c7ef83d6",
   "metadata": {},
   "outputs": [],
   "source": []
  },
  {
   "cell_type": "code",
   "execution_count": null,
   "id": "1f9cfe87",
   "metadata": {},
   "outputs": [],
   "source": []
  },
  {
   "cell_type": "code",
   "execution_count": null,
   "id": "172b29bf",
   "metadata": {},
   "outputs": [],
   "source": []
  },
  {
   "cell_type": "markdown",
   "id": "faf9c375",
   "metadata": {},
   "source": [
    "# swapping of two values"
   ]
  },
  {
   "cell_type": "code",
   "execution_count": 12,
   "id": "e095f810",
   "metadata": {},
   "outputs": [
    {
     "name": "stdout",
     "output_type": "stream",
     "text": [
      "20 10\n"
     ]
    }
   ],
   "source": [
    "#swaping of two values\n",
    "a=10\n",
    "b=20\n",
    "#swaping value guess \n",
    "c=10\n",
    "#puting value cross put\n",
    "a=b\n",
    "b=c\n",
    "print(a,b)\n"
   ]
  },
  {
   "cell_type": "code",
   "execution_count": 14,
   "id": "7167c967",
   "metadata": {},
   "outputs": [],
   "source": [
    "##second method of swapping value"
   ]
  },
  {
   "cell_type": "code",
   "execution_count": 15,
   "id": "ec7ae7ed",
   "metadata": {},
   "outputs": [
    {
     "name": "stdout",
     "output_type": "stream",
     "text": [
      "20 10\n"
     ]
    }
   ],
   "source": [
    "a=10\n",
    "b=20\n",
    "a,b=b,a\n",
    "print(a,b)"
   ]
  },
  {
   "cell_type": "markdown",
   "id": "811d9c80",
   "metadata": {},
   "source": [
    "opration of string under is called formatted string"
   ]
  },
  {
   "cell_type": "code",
   "execution_count": 18,
   "id": "dfb4cff9",
   "metadata": {},
   "outputs": [
    {
     "name": "stdout",
     "output_type": "stream",
     "text": [
      "the simple intrest is-:120.0\n"
     ]
    }
   ],
   "source": [
    "p=1200\n",
    "r=5\n",
    "t=2\n",
    "si=p*r*t/100\n",
    "print(f\"the simple intrest is-:{si}\")"
   ]
  },
  {
   "cell_type": "code",
   "execution_count": 19,
   "id": "73a7a2af",
   "metadata": {},
   "outputs": [
    {
     "name": "stdout",
     "output_type": "stream",
     "text": [
      "the sum of two values-:146\n"
     ]
    }
   ],
   "source": [
    "x=123\n",
    "b=23\n",
    "a=x+b\n",
    "print(f\"the sum of two values-:{a}\")"
   ]
  },
  {
   "cell_type": "markdown",
   "id": "fc6a1c3f",
   "metadata": {},
   "source": [
    "# input fuction "
   ]
  },
  {
   "cell_type": "code",
   "execution_count": 23,
   "id": "f225dcdf",
   "metadata": {},
   "outputs": [
    {
     "name": "stdout",
     "output_type": "stream",
     "text": [
      "hi ,'harshit''\n"
     ]
    }
   ],
   "source": [
    "name=\"harshit\"\n",
    "print(f\"hi ,'{name}''\")"
   ]
  },
  {
   "cell_type": "code",
   "execution_count": 26,
   "id": "babd91dc",
   "metadata": {},
   "outputs": [
    {
     "name": "stdout",
     "output_type": "stream",
     "text": [
      "entre the no of 1st:12\n",
      "entre the no 2nd :34\n",
      "the sum two no:1234\n"
     ]
    }
   ],
   "source": [
    "a=input(\"entre the no of 1st:\")\n",
    "b=input(\"entre the no 2nd :\")\n",
    "add=a+b\n",
    "print(f\"the sum two no:{add}\")"
   ]
  },
  {
   "cell_type": "markdown",
   "id": "fc8a99a8",
   "metadata": {},
   "source": [
    "# typecasting# int fuction"
   ]
  },
  {
   "cell_type": "code",
   "execution_count": 27,
   "id": "b6e725d5",
   "metadata": {},
   "outputs": [
    {
     "name": "stdout",
     "output_type": "stream",
     "text": [
      "entre the no of 1st:12\n",
      "entre the no 2nd :3\n",
      "the sum two no:15\n"
     ]
    }
   ],
   "source": [
    "a=int(input(\"entre the no of 1st:\"))\n",
    "b=int(input(\"entre the no 2nd :\"))\n",
    "add=a+b\n",
    "print(f\"the sum two no:{add}\")"
   ]
  },
  {
   "cell_type": "code",
   "execution_count": 30,
   "id": "cb4f2346",
   "metadata": {},
   "outputs": [
    {
     "name": "stdout",
     "output_type": "stream",
     "text": [
      "entre the no of 1st:12\n",
      "entre the no 2nd :12\n",
      "entre the 3nd no:20\n",
      "the result of three no:164\n"
     ]
    }
   ],
   "source": [
    "a=int(input(\"entre the no of 1st:\"))\n",
    "b=int(input(\"entre the no 2nd :\"))\n",
    "c=int(input(\"entre the 3nd no:\"))\n",
    "add=a*b+c\n",
    "print(f\"the result of three no:{add}\")"
   ]
  },
  {
   "cell_type": "markdown",
   "id": "b818cfab",
   "metadata": {},
   "source": [
    "# without typecasting"
   ]
  },
  {
   "cell_type": "code",
   "execution_count": 2,
   "id": "6884401b",
   "metadata": {},
   "outputs": [
    {
     "name": "stdout",
     "output_type": "stream",
     "text": [
      "entre the value 1st:12\n",
      "entre the value 2nd:34\n",
      "the two no of sum:1234\n"
     ]
    }
   ],
   "source": [
    "a=input(\"entre the value 1st:\")\n",
    "b=input(\"entre the value 2nd:\")\n",
    "c=a+b\n",
    "print(f\"the two no of sum:{c}\")"
   ]
  },
  {
   "cell_type": "code",
   "execution_count": 6,
   "id": "3d94d0bf",
   "metadata": {},
   "outputs": [
    {
     "name": "stdout",
     "output_type": "stream",
     "text": [
      "the two times of print 23:232323\n"
     ]
    }
   ],
   "source": [
    "a=23\n",
    "b=\"23\"*3\n",
    "print(f\"the two times of print 23:{b}\")"
   ]
  },
  {
   "cell_type": "markdown",
   "id": "a4b7ee6f",
   "metadata": {},
   "source": [
    "# with typecasting int()"
   ]
  },
  {
   "cell_type": "code",
   "execution_count": 1,
   "id": "be740e6c",
   "metadata": {},
   "outputs": [
    {
     "name": "stdout",
     "output_type": "stream",
     "text": [
      "etre the 1nd no:20\n",
      "entre the 2nd no:10\n",
      " the value of c no is:-170\n"
     ]
    }
   ],
   "source": [
    "a=int(input(\"etre the 1nd no:\"))\n",
    "b=int(input(\"entre the 2nd no:\"))\n",
    "c=a+b-a*b\n",
    "print(f\" the value of c no is:{c}\")"
   ]
  },
  {
   "cell_type": "markdown",
   "id": "c299a1ac",
   "metadata": {},
   "source": [
    "# change in string,float,bool to int"
   ]
  },
  {
   "cell_type": "code",
   "execution_count": 2,
   "id": "4364d5c3",
   "metadata": {},
   "outputs": [
    {
     "name": "stdout",
     "output_type": "stream",
     "text": [
      "<class 'str'>\n"
     ]
    }
   ],
   "source": [
    "a=\"123\"\n",
    "print(type(a))"
   ]
  },
  {
   "cell_type": "code",
   "execution_count": 3,
   "id": "9afa960f",
   "metadata": {},
   "outputs": [
    {
     "name": "stdout",
     "output_type": "stream",
     "text": [
      "<class 'int'>\n"
     ]
    }
   ],
   "source": [
    "c=int(a)\n",
    "print(type(c))"
   ]
  },
  {
   "cell_type": "code",
   "execution_count": 4,
   "id": "ada307c9",
   "metadata": {},
   "outputs": [
    {
     "name": "stdout",
     "output_type": "stream",
     "text": [
      "<class 'str'>\n"
     ]
    }
   ],
   "source": [
    "v=\"abc\"\n",
    "print(type(v))"
   ]
  },
  {
   "cell_type": "code",
   "execution_count": 5,
   "id": "76a576f8",
   "metadata": {},
   "outputs": [
    {
     "ename": "ValueError",
     "evalue": "invalid literal for int() with base 10: 'abc'",
     "output_type": "error",
     "traceback": [
      "\u001b[1;31m---------------------------------------------------------------------------\u001b[0m",
      "\u001b[1;31mValueError\u001b[0m                                Traceback (most recent call last)",
      "Input \u001b[1;32mIn [5]\u001b[0m, in \u001b[0;36m<cell line: 1>\u001b[1;34m()\u001b[0m\n\u001b[1;32m----> 1\u001b[0m c\u001b[38;5;241m=\u001b[39m\u001b[38;5;28;43mint\u001b[39;49m\u001b[43m(\u001b[49m\u001b[43mv\u001b[49m\u001b[43m)\u001b[49m\n\u001b[0;32m      2\u001b[0m \u001b[38;5;28mprint\u001b[39m(\u001b[38;5;28mtype\u001b[39m(c))\n",
      "\u001b[1;31mValueError\u001b[0m: invalid literal for int() with base 10: 'abc'"
     ]
    }
   ],
   "source": [
    "c=int(v)\n",
    "print(type(c))"
   ]
  },
  {
   "cell_type": "code",
   "execution_count": 6,
   "id": "beedcfc4",
   "metadata": {},
   "outputs": [
    {
     "name": "stdout",
     "output_type": "stream",
     "text": [
      "<class 'int'>\n"
     ]
    }
   ],
   "source": [
    "a=23.4\n",
    "c=int(a)\n",
    "print(type(c))"
   ]
  },
  {
   "cell_type": "code",
   "execution_count": 7,
   "id": "c4b50ca9",
   "metadata": {},
   "outputs": [
    {
     "name": "stdout",
     "output_type": "stream",
     "text": [
      "<class 'int'>\n"
     ]
    }
   ],
   "source": [
    "b=-123\n",
    "print(type(b))"
   ]
  },
  {
   "cell_type": "code",
   "execution_count": 9,
   "id": "a78c1235",
   "metadata": {},
   "outputs": [
    {
     "name": "stdout",
     "output_type": "stream",
     "text": [
      "<class 'int'>\n"
     ]
    }
   ],
   "source": [
    "a='35'\n",
    "print(type(int(a)+5))"
   ]
  },
  {
   "cell_type": "code",
   "execution_count": 14,
   "id": "e8ccdd10",
   "metadata": {},
   "outputs": [
    {
     "name": "stdout",
     "output_type": "stream",
     "text": [
      "3510\n"
     ]
    }
   ],
   "source": [
    "b='35'\n",
    "print(b+'10') # conconated method"
   ]
  },
  {
   "cell_type": "code",
   "execution_count": null,
   "id": "2b32d884",
   "metadata": {},
   "outputs": [],
   "source": []
  },
  {
   "cell_type": "code",
   "execution_count": null,
   "id": "da226849",
   "metadata": {},
   "outputs": [],
   "source": []
  },
  {
   "cell_type": "code",
   "execution_count": null,
   "id": "c9d0288f",
   "metadata": {},
   "outputs": [],
   "source": []
  },
  {
   "cell_type": "code",
   "execution_count": null,
   "id": "06a7c4ec",
   "metadata": {},
   "outputs": [],
   "source": []
  },
  {
   "cell_type": "code",
   "execution_count": null,
   "id": "399d9947",
   "metadata": {},
   "outputs": [],
   "source": []
  },
  {
   "cell_type": "markdown",
   "id": "973fd403",
   "metadata": {},
   "source": [
    "# input to changed to float"
   ]
  },
  {
   "cell_type": "code",
   "execution_count": 16,
   "id": "71e45e58",
   "metadata": {},
   "outputs": [
    {
     "name": "stdout",
     "output_type": "stream",
     "text": [
      "entre the 1st no:50\n",
      "entre the 2nd no:5\n",
      "the result of two n:-195.0\n"
     ]
    }
   ],
   "source": [
    "a=float(input(\"entre the 1st no:\"))\n",
    "b=float(input(\"entre the 2nd no:\"))\n",
    "c=a+b-a*b\n",
    "print(f\"the result of two n:{c}\")"
   ]
  },
  {
   "cell_type": "code",
   "execution_count": 17,
   "id": "e00b8f9d",
   "metadata": {},
   "outputs": [
    {
     "name": "stdout",
     "output_type": "stream",
     "text": [
      "entre the 1st no:20\n",
      "entre the 2nd no:10\n",
      "the result of two n:200.0\n"
     ]
    }
   ],
   "source": [
    "a=float(input(\"entre the 1st no:\"))\n",
    "b=float(input(\"entre the 2nd no:\"))\n",
    "c=a+b-a-b+a*b\n",
    "print(f\"the result of two n:{c}\")"
   ]
  },
  {
   "cell_type": "code",
   "execution_count": 18,
   "id": "aeeff847",
   "metadata": {},
   "outputs": [],
   "source": [
    "# 23.5= float\n",
    "#\"abhishek\"=string\n",
    "# 23.5= float\n",
    "#'abhi'= string \n",
    "# \"1234\"=string int\n",
    "# 345=integar\n",
    "# False=boolean\n",
    "#'23.5'=string float\n",
    "#'-23.5'=string float"
   ]
  },
  {
   "cell_type": "markdown",
   "id": "3bc525a1",
   "metadata": {},
   "source": [
    "# data type "
   ]
  },
  {
   "cell_type": "code",
   "execution_count": 19,
   "id": "c4b081cc",
   "metadata": {},
   "outputs": [
    {
     "name": "stdout",
     "output_type": "stream",
     "text": [
      "23\n"
     ]
    }
   ],
   "source": [
    "a=23.5\n",
    "print(int(a))"
   ]
  },
  {
   "cell_type": "code",
   "execution_count": 20,
   "id": "7a794d35",
   "metadata": {},
   "outputs": [
    {
     "name": "stdout",
     "output_type": "stream",
     "text": [
      "23\n"
     ]
    }
   ],
   "source": [
    "b=23.9\n",
    "print(int(b))"
   ]
  },
  {
   "cell_type": "code",
   "execution_count": 21,
   "id": "6706f2f2",
   "metadata": {},
   "outputs": [
    {
     "name": "stdout",
     "output_type": "stream",
     "text": [
      "23\n"
     ]
    }
   ],
   "source": [
    "c='23'\n",
    "d=int(c)\n",
    "print(d)"
   ]
  },
  {
   "cell_type": "code",
   "execution_count": 24,
   "id": "c2d29127",
   "metadata": {},
   "outputs": [
    {
     "name": "stdout",
     "output_type": "stream",
     "text": [
      "23\n",
      "<class 'int'>\n"
     ]
    }
   ],
   "source": [
    "c='23.5'         # don't b  direct changed string to integar\n",
    "d=float(c)        # first to changed string to float \n",
    "e=int(d)           # then you changed integar\n",
    "print(e)\n",
    "print(type(e))"
   ]
  },
  {
   "cell_type": "code",
   "execution_count": 25,
   "id": "b6bf4b1e",
   "metadata": {},
   "outputs": [
    {
     "name": "stdout",
     "output_type": "stream",
     "text": [
      "<class 'int'>\n"
     ]
    }
   ],
   "source": [
    "a='23'\n",
    "b=int(a)\n",
    "print(type(b))"
   ]
  },
  {
   "cell_type": "code",
   "execution_count": 26,
   "id": "971e366c",
   "metadata": {},
   "outputs": [
    {
     "name": "stdout",
     "output_type": "stream",
     "text": [
      "<class 'int'>\n"
     ]
    }
   ],
   "source": [
    "a='-23.5'\n",
    "b=float(a)\n",
    "c=int(b)\n",
    "print(type(c))"
   ]
  },
  {
   "cell_type": "code",
   "execution_count": 27,
   "id": "783cc902",
   "metadata": {},
   "outputs": [
    {
     "name": "stdout",
     "output_type": "stream",
     "text": [
      "<class 'int'>\n"
     ]
    }
   ],
   "source": [
    "a='-23'\n",
    "b=int(a)\n",
    "print(type(b))"
   ]
  },
  {
   "cell_type": "markdown",
   "id": "4b00e34c",
   "metadata": {},
   "source": [
    "# boolean to inteager "
   ]
  },
  {
   "cell_type": "code",
   "execution_count": 29,
   "id": "5597a557",
   "metadata": {},
   "outputs": [
    {
     "name": "stdout",
     "output_type": "stream",
     "text": [
      "0\n"
     ]
    }
   ],
   "source": [
    "a=False\n",
    "b=int(a)\n",
    "print(b)"
   ]
  },
  {
   "cell_type": "code",
   "execution_count": 30,
   "id": "616d8007",
   "metadata": {},
   "outputs": [
    {
     "name": "stdout",
     "output_type": "stream",
     "text": [
      "1\n"
     ]
    }
   ],
   "source": [
    "a=True      # boolean to integar\n",
    "b=int(a)\n",
    "print(b)"
   ]
  },
  {
   "cell_type": "code",
   "execution_count": 31,
   "id": "0b5857e8",
   "metadata": {},
   "outputs": [],
   "source": [
    "# 23.5=int()-convert\n",
    "#'23'=convert=int()\n",
    "#'34.5'=convert=float()then int()\n",
    "# false=int()=convert\n",
    "#12=int()=convert\n",
    "# 'abhishek'-con't be changed\n",
    "#'-23'=int()-convert\n",
    "# '-23.5'=flaot () then int()"
   ]
  },
  {
   "cell_type": "code",
   "execution_count": 33,
   "id": "6a7d785d",
   "metadata": {},
   "outputs": [
    {
     "name": "stdout",
     "output_type": "stream",
     "text": [
      "<class 'int'>\n"
     ]
    }
   ],
   "source": [
    "a=\"-23.5\"\n",
    "c=float(a)\n",
    "d=int(c)\n",
    "print(type(d))"
   ]
  },
  {
   "cell_type": "code",
   "execution_count": 34,
   "id": "7fdb01a9",
   "metadata": {},
   "outputs": [
    {
     "name": "stdout",
     "output_type": "stream",
     "text": [
      "<class 'int'>\n"
     ]
    }
   ],
   "source": [
    "a=-23\n",
    "print(type(a))"
   ]
  },
  {
   "cell_type": "markdown",
   "id": "e9441f70",
   "metadata": {},
   "source": [
    "# change to string format"
   ]
  },
  {
   "cell_type": "code",
   "execution_count": 1,
   "id": "61ace530",
   "metadata": {},
   "outputs": [
    {
     "name": "stdout",
     "output_type": "stream",
     "text": [
      "23\n",
      "<class 'str'>\n"
     ]
    }
   ],
   "source": [
    "a=23\n",
    "b=str(23)\n",
    "print(b)\n",
    "print(type(b))"
   ]
  },
  {
   "cell_type": "code",
   "execution_count": 2,
   "id": "fe0a3b71",
   "metadata": {},
   "outputs": [
    {
     "name": "stdout",
     "output_type": "stream",
     "text": [
      "23.5\n",
      "<class 'str'>\n"
     ]
    }
   ],
   "source": [
    "a=23.5\n",
    "b=str(a)\n",
    "print(b)\n",
    "print(type(b))"
   ]
  },
  {
   "cell_type": "code",
   "execution_count": 3,
   "id": "0b46024a",
   "metadata": {},
   "outputs": [
    {
     "ename": "NameError",
     "evalue": "name 'abhishek' is not defined",
     "output_type": "error",
     "traceback": [
      "\u001b[1;31m---------------------------------------------------------------------------\u001b[0m",
      "\u001b[1;31mNameError\u001b[0m                                 Traceback (most recent call last)",
      "Input \u001b[1;32mIn [3]\u001b[0m, in \u001b[0;36m<cell line: 1>\u001b[1;34m()\u001b[0m\n\u001b[1;32m----> 1\u001b[0m a\u001b[38;5;241m=\u001b[39m\u001b[43mabhishek\u001b[49m\n\u001b[0;32m      2\u001b[0m b\u001b[38;5;241m=\u001b[39m\u001b[38;5;28mstr\u001b[39m(a)\n\u001b[0;32m      3\u001b[0m \u001b[38;5;28mprint\u001b[39m(b)\n",
      "\u001b[1;31mNameError\u001b[0m: name 'abhishek' is not defined"
     ]
    }
   ],
   "source": [
    "a=abhishek\n",
    "b=str(a)\n",
    "print(b)\n",
    "print(type(b))"
   ]
  },
  {
   "cell_type": "code",
   "execution_count": 9,
   "id": "378f8757",
   "metadata": {},
   "outputs": [
    {
     "name": "stdout",
     "output_type": "stream",
     "text": [
      "entre the no:12\n",
      "entre the breath:23\n",
      "the area 276 of this plot\n"
     ]
    }
   ],
   "source": [
    "lan=float(input(\"entre the no:\"))\n",
    "bre=float(input(\"entre the breath:\"))\n",
    "area=int(lan*bre)\n",
    "print(f\"the area {area} of this plot\")"
   ]
  },
  {
   "cell_type": "markdown",
   "id": "0ac1e2b7",
   "metadata": {},
   "source": [
    "# change to boolean() "
   ]
  },
  {
   "cell_type": "code",
   "execution_count": 10,
   "id": "b4d1935f",
   "metadata": {},
   "outputs": [
    {
     "name": "stdout",
     "output_type": "stream",
     "text": [
      "True\n",
      "<class 'str'>\n"
     ]
    }
   ],
   "source": [
    "a=\"234\"\n",
    "print(bool(a))\n",
    "print(type(a))"
   ]
  },
  {
   "cell_type": "code",
   "execution_count": 11,
   "id": "7bf1fb36",
   "metadata": {},
   "outputs": [
    {
     "name": "stdout",
     "output_type": "stream",
     "text": [
      "<class 'bool'>\n",
      "True\n"
     ]
    }
   ],
   "source": [
    "b=23.5\n",
    "c=bool(b)\n",
    "print(type(c))\n",
    "print(c)"
   ]
  },
  {
   "cell_type": "code",
   "execution_count": 15,
   "id": "b501cb4d",
   "metadata": {},
   "outputs": [
    {
     "name": "stdout",
     "output_type": "stream",
     "text": [
      "True\n",
      "<class 'bool'>\n"
     ]
    }
   ],
   "source": [
    "b=\"abhishek\"\n",
    "c=bool(b)\n",
    "print(bool(c))\n",
    "print(type(c))"
   ]
  },
  {
   "cell_type": "code",
   "execution_count": 16,
   "id": "8f62ac08",
   "metadata": {},
   "outputs": [
    {
     "name": "stdout",
     "output_type": "stream",
     "text": [
      "False\n",
      "<class 'bool'>\n"
     ]
    }
   ],
   "source": [
    "a=0             # when value indicate=0 then result come False \n",
    "b=bool(a)\n",
    "print(b)\n",
    "print(type(b))"
   ]
  },
  {
   "cell_type": "code",
   "execution_count": 17,
   "id": "5a8badd8",
   "metadata": {},
   "outputs": [
    {
     "name": "stdout",
     "output_type": "stream",
     "text": [
      "False\n",
      "<class 'bool'>\n"
     ]
    }
   ],
   "source": [
    "a=0.0          # when value indicate=0.0 then result come False \n",
    "c=bool(a)\n",
    "print(c)\n",
    "print(type(c))"
   ]
  },
  {
   "cell_type": "code",
   "execution_count": 18,
   "id": "7eee7f97",
   "metadata": {},
   "outputs": [
    {
     "name": "stdout",
     "output_type": "stream",
     "text": [
      "True\n",
      "<class 'bool'>\n"
     ]
    }
   ],
   "source": [
    "b=\"23.5\"\n",
    "c=bool(b)\n",
    "print(c)\n",
    "print(type(c))"
   ]
  },
  {
   "cell_type": "code",
   "execution_count": 19,
   "id": "a5d378f5",
   "metadata": {},
   "outputs": [
    {
     "name": "stdout",
     "output_type": "stream",
     "text": [
      "True\n",
      "<class 'bool'>\n"
     ]
    }
   ],
   "source": [
    "a=23345\n",
    "b=bool(a)\n",
    "print(b)\n",
    "print(type(b))"
   ]
  },
  {
   "cell_type": "code",
   "execution_count": 20,
   "id": "9c06fb16",
   "metadata": {},
   "outputs": [
    {
     "name": "stdout",
     "output_type": "stream",
     "text": [
      "True\n",
      "<class 'bool'>\n"
     ]
    }
   ],
   "source": [
    "a=-125.67\n",
    "b=bool(a)\n",
    "print(b)\n",
    "print(type(b))"
   ]
  },
  {
   "cell_type": "code",
   "execution_count": 21,
   "id": "6597588b",
   "metadata": {},
   "outputs": [
    {
     "name": "stdout",
     "output_type": "stream",
     "text": [
      "True\n",
      "<class 'bool'>\n"
     ]
    }
   ],
   "source": [
    "d=-1234\n",
    "j=bool(b)\n",
    "print(j)\n",
    "print(type(j))"
   ]
  },
  {
   "cell_type": "markdown",
   "id": "ee6616df",
   "metadata": {},
   "source": [
    "# practice question"
   ]
  },
  {
   "cell_type": "markdown",
   "id": "7e7a0476",
   "metadata": {},
   "source": [
    " 1-take side of a sequre from user and print area and parameter of it?"
   ]
  },
  {
   "cell_type": "code",
   "execution_count": 22,
   "id": "27b69de1",
   "metadata": {},
   "outputs": [
    {
     "name": "stdout",
     "output_type": "stream",
     "text": [
      "entre the the length:12\n",
      "entre the breth :12\n",
      "the area is:144 and parimeter:48\n"
     ]
    }
   ],
   "source": [
    "length=int(input(\"entre the the length:\"))\n",
    "breath=int(input(\"entre the breth :\"))\n",
    "area=length * breath\n",
    "pari=length*4\n",
    "print(f\"the area is:{area} and parimeter:{pari}\")"
   ]
  },
  {
   "cell_type": "code",
   "execution_count": 24,
   "id": "3e928943",
   "metadata": {},
   "outputs": [
    {
     "name": "stdout",
     "output_type": "stream",
     "text": [
      "entre the name:nikhil pal\n",
      "entre the roll no:4577\n",
      "entre the foi:playing game\n",
      "my name is nikhil pal my roll no is:4577 and my foi is playing game.\n"
     ]
    }
   ],
   "source": [
    "name=input(\"entre the name:\")\n",
    "roll=int(input(\"entre the roll no:\"))\n",
    "foi=input(\"entre the foi:\")\n",
    "print(f\"my name is {name} my roll no is:{roll} and my foi is {foi}.\")"
   ]
  },
  {
   "cell_type": "markdown",
   "id": "70cadd3c",
   "metadata": {},
   "source": [
    "write one line "
   ]
  },
  {
   "cell_type": "code",
   "execution_count": 26,
   "id": "f47d8d51",
   "metadata": {},
   "outputs": [
    {
     "name": "stdout",
     "output_type": "stream",
     "text": [
      "entre the personal intrest:data \n",
      "entre the name:nikhil\n",
      "data nikhil\n"
     ]
    }
   ],
   "source": [
    "str1=input(\"entre the personal intrest:\")\n",
    "str2=input(\"entre the name:\")\n",
    "print(str1+str2)"
   ]
  },
  {
   "cell_type": "code",
   "execution_count": null,
   "id": "00d13369",
   "metadata": {},
   "outputs": [],
   "source": []
  },
  {
   "cell_type": "code",
   "execution_count": null,
   "id": "e7f2e2fb",
   "metadata": {},
   "outputs": [],
   "source": []
  },
  {
   "cell_type": "code",
   "execution_count": null,
   "id": "e6d1f123",
   "metadata": {},
   "outputs": [],
   "source": []
  },
  {
   "cell_type": "code",
   "execution_count": null,
   "id": "2678da25",
   "metadata": {},
   "outputs": [],
   "source": []
  },
  {
   "cell_type": "code",
   "execution_count": null,
   "id": "d68427a2",
   "metadata": {},
   "outputs": [],
   "source": []
  },
  {
   "cell_type": "code",
   "execution_count": null,
   "id": "a1d548e3",
   "metadata": {},
   "outputs": [],
   "source": []
  },
  {
   "cell_type": "code",
   "execution_count": null,
   "id": "ada7f8fe",
   "metadata": {},
   "outputs": [],
   "source": []
  },
  {
   "cell_type": "markdown",
   "id": "337ec434",
   "metadata": {},
   "source": [
    "# string ep 7"
   ]
  },
  {
   "cell_type": "code",
   "execution_count": 27,
   "id": "04aef985",
   "metadata": {},
   "outputs": [
    {
     "name": "stdout",
     "output_type": "stream",
     "text": [
      "i love nikhil and i am very special boy then i reliese a movie nAME IS LOVE YOU MORE tyhen my love she love loyutr blkloue ojnmfr lkuo\n"
     ]
    }
   ],
   "source": [
    "stg='i love nikhil and i am very special boy then i reliese a movie nAME IS LOVE YOU MORE tyhen my love she love loyutr blkloue ojnmfr lkuo'\n",
    "print(stg)"
   ]
  },
  {
   "cell_type": "code",
   "execution_count": 2,
   "id": "4bfba71d",
   "metadata": {},
   "outputs": [
    {
     "name": "stdout",
     "output_type": "stream",
     "text": [
      "love is everything 'but' something\n"
     ]
    }
   ],
   "source": [
    "print(\"love is everything 'but' something\")"
   ]
  },
  {
   "cell_type": "code",
   "execution_count": 4,
   "id": "1c80b026",
   "metadata": {},
   "outputs": [
    {
     "name": "stdout",
     "output_type": "stream",
     "text": [
      "love is temparey but \"not\" some\n"
     ]
    }
   ],
   "source": [
    "print('love is temparey but \"not\" some')"
   ]
  },
  {
   "cell_type": "code",
   "execution_count": 5,
   "id": "d09c2306",
   "metadata": {},
   "outputs": [
    {
     "name": "stdout",
     "output_type": "stream",
     "text": [
      "love is tempory but not 'one' is the true\n"
     ]
    }
   ],
   "source": [
    "print(\"love is tempory but not 'one' is the true\")"
   ]
  },
  {
   "cell_type": "markdown",
   "id": "290a8e2a",
   "metadata": {},
   "source": [
    "# indexing"
   ]
  },
  {
   "cell_type": "code",
   "execution_count": 7,
   "id": "01747f77",
   "metadata": {},
   "outputs": [
    {
     "name": "stdout",
     "output_type": "stream",
     "text": [
      "s\n"
     ]
    }
   ],
   "source": [
    "a=\"love is king\"     #01234567891011 - indexing no right to left\n",
    "print(a[6])          #love is king\n",
    "                       "
   ]
  },
  {
   "cell_type": "code",
   "execution_count": 8,
   "id": "e0efb9f5",
   "metadata": {},
   "outputs": [
    {
     "name": "stdout",
     "output_type": "stream",
     "text": [
      "s\n"
     ]
    }
   ],
   "source": [
    "b=\"love is bliend\"\n",
    "print(b[6])"
   ]
  },
  {
   "cell_type": "code",
   "execution_count": 9,
   "id": "95cd35ff",
   "metadata": {},
   "outputs": [
    {
     "name": "stdout",
     "output_type": "stream",
     "text": [
      "e\n"
     ]
    }
   ],
   "source": [
    "c=\"i love you\"\n",
    "print(c[5])"
   ]
  },
  {
   "cell_type": "code",
   "execution_count": 10,
   "id": "dfa55838",
   "metadata": {},
   "outputs": [
    {
     "name": "stdout",
     "output_type": "stream",
     "text": [
      "4\n"
     ]
    }
   ],
   "source": [
    "r=\"11223456787\"\n",
    "print(r[5])"
   ]
  },
  {
   "cell_type": "code",
   "execution_count": 11,
   "id": "6fcc6663",
   "metadata": {},
   "outputs": [
    {
     "name": "stdout",
     "output_type": "stream",
     "text": [
      "4\n"
     ]
    }
   ],
   "source": [
    "a=\"123345465qbnndkdiyu\"\n",
    "print(a[6])"
   ]
  },
  {
   "cell_type": "code",
   "execution_count": 12,
   "id": "438a8432",
   "metadata": {},
   "outputs": [
    {
     "name": "stdout",
     "output_type": "stream",
     "text": [
      "4\n"
     ]
    }
   ],
   "source": [
    "b=\"122345678\"         #-(987654321)  - indexing for right to left \n",
    "print(b[-5])          # \"122345678\""
   ]
  },
  {
   "cell_type": "code",
   "execution_count": 16,
   "id": "32fac59b",
   "metadata": {},
   "outputs": [
    {
     "name": "stdout",
     "output_type": "stream",
     "text": [
      "1\n"
     ]
    }
   ],
   "source": [
    "b=\"#$%^&123shgdgd\"\n",
    "print(b[5])"
   ]
  },
  {
   "cell_type": "code",
   "execution_count": 18,
   "id": "2ed45268",
   "metadata": {},
   "outputs": [
    {
     "name": "stdout",
     "output_type": "stream",
     "text": [
      "h\n"
     ]
    }
   ],
   "source": [
    "b=\"#$%^&123shgdgd\"\n",
    "print(b[-5])"
   ]
  },
  {
   "cell_type": "code",
   "execution_count": 22,
   "id": "8a9e24e0",
   "metadata": {},
   "outputs": [
    {
     "name": "stdout",
     "output_type": "stream",
     "text": [
      "8\n"
     ]
    }
   ],
   "source": [
    "d=\"1.2.3.4.6.7.8\"\n",
    "print(d[-1])"
   ]
  },
  {
   "cell_type": "code",
   "execution_count": 1,
   "id": "df00ad31",
   "metadata": {},
   "outputs": [
    {
     "name": "stdout",
     "output_type": "stream",
     "text": [
      "0\n"
     ]
    }
   ],
   "source": [
    "d=\"1.2.3.4.6.7.8.9.10\"\n",
    "print(d[-1])"
   ]
  },
  {
   "cell_type": "code",
   "execution_count": 1,
   "id": "e56adc4d",
   "metadata": {},
   "outputs": [
    {
     "name": "stdout",
     "output_type": "stream",
     "text": [
      "h\n"
     ]
    }
   ],
   "source": [
    "a=\"abhishek kumar\"\n",
    "print(a[5])"
   ]
  },
  {
   "cell_type": "code",
   "execution_count": 2,
   "id": "8c5b86ae",
   "metadata": {},
   "outputs": [
    {
     "name": "stdout",
     "output_type": "stream",
     "text": [
      "m\n"
     ]
    }
   ],
   "source": [
    "print(a[-3])"
   ]
  },
  {
   "cell_type": "markdown",
   "id": "1f349e00",
   "metadata": {},
   "source": [
    "# slicing ep8"
   ]
  },
  {
   "cell_type": "code",
   "execution_count": 20,
   "id": "2624b860",
   "metadata": {},
   "outputs": [
    {
     "name": "stdout",
     "output_type": "stream",
     "text": [
      "my na\n"
     ]
    }
   ],
   "source": [
    "a='my name is nikhil'\n",
    "print(a[0:5])"
   ]
  },
  {
   "cell_type": "code",
   "execution_count": 4,
   "id": "50ea1539",
   "metadata": {},
   "outputs": [
    {
     "name": "stdout",
     "output_type": "stream",
     "text": [
      "my na\n"
     ]
    }
   ],
   "source": [
    "print(a[:5])"
   ]
  },
  {
   "cell_type": "code",
   "execution_count": 22,
   "id": "45313650",
   "metadata": {},
   "outputs": [
    {
     "name": "stdout",
     "output_type": "stream",
     "text": [
      "my name is nikhil\n"
     ]
    }
   ],
   "source": [
    "print(a[0::])"
   ]
  },
  {
   "cell_type": "code",
   "execution_count": 23,
   "id": "68d25f42",
   "metadata": {},
   "outputs": [
    {
     "name": "stdout",
     "output_type": "stream",
     "text": [
      "m\n"
     ]
    }
   ],
   "source": [
    "print(a[:1:])"
   ]
  },
  {
   "cell_type": "code",
   "execution_count": 14,
   "id": "7c0b5c49",
   "metadata": {},
   "outputs": [
    {
     "name": "stdout",
     "output_type": "stream",
     "text": [
      "my name is nikhil\n"
     ]
    }
   ],
   "source": [
    "print(a[::])"
   ]
  },
  {
   "cell_type": "code",
   "execution_count": 15,
   "id": "f3aa26f2",
   "metadata": {},
   "outputs": [
    {
     "name": "stdout",
     "output_type": "stream",
     "text": [
      "m aei \n"
     ]
    }
   ],
   "source": [
    "print(a[0:12:2])"
   ]
  },
  {
   "cell_type": "code",
   "execution_count": 25,
   "id": "8ff0af8f",
   "metadata": {},
   "outputs": [
    {
     "name": "stdout",
     "output_type": "stream",
     "text": [
      "1223\n"
     ]
    }
   ],
   "source": [
    "a=\"1223456781346\"\n",
    "print(a[:4])"
   ]
  },
  {
   "cell_type": "code",
   "execution_count": 26,
   "id": "1106a7cd",
   "metadata": {},
   "outputs": [
    {
     "name": "stdout",
     "output_type": "stream",
     "text": [
      "1361\n"
     ]
    }
   ],
   "source": [
    "print(a[0:12:3])"
   ]
  },
  {
   "cell_type": "code",
   "execution_count": 27,
   "id": "ee178101",
   "metadata": {},
   "outputs": [
    {
     "name": "stdout",
     "output_type": "stream",
     "text": [
      "13\n"
     ]
    }
   ],
   "source": [
    "print(a[-4:-2])"
   ]
  },
  {
   "cell_type": "code",
   "execution_count": 29,
   "id": "82b664fd",
   "metadata": {},
   "outputs": [
    {
     "name": "stdout",
     "output_type": "stream",
     "text": [
      "567813\n"
     ]
    }
   ],
   "source": [
    "print(a[-8:-2:])"
   ]
  },
  {
   "cell_type": "code",
   "execution_count": 33,
   "id": "db4d0e0e",
   "metadata": {},
   "outputs": [
    {
     "name": "stdout",
     "output_type": "stream",
     "text": [
      "781346\n"
     ]
    }
   ],
   "source": [
    "print(a[-6:])"
   ]
  },
  {
   "cell_type": "code",
   "execution_count": 37,
   "id": "7320d3fa",
   "metadata": {},
   "outputs": [
    {
     "name": "stdout",
     "output_type": "stream",
     "text": [
      "12234567813\n"
     ]
    }
   ],
   "source": [
    "print(a[:-2:])"
   ]
  },
  {
   "cell_type": "code",
   "execution_count": 39,
   "id": "20d67dc3",
   "metadata": {},
   "outputs": [
    {
     "name": "stdout",
     "output_type": "stream",
     "text": [
      "122345678134\n"
     ]
    }
   ],
   "source": [
    "print(a[:-1])"
   ]
  },
  {
   "cell_type": "code",
   "execution_count": 40,
   "id": "914e4c17",
   "metadata": {},
   "outputs": [
    {
     "name": "stdout",
     "output_type": "stream",
     "text": [
      "836\n"
     ]
    }
   ],
   "source": [
    "print(a[-5::2])"
   ]
  },
  {
   "cell_type": "markdown",
   "id": "a8b18b68",
   "metadata": {},
   "source": [
    "# string function len(),max(),lower(),upper(),swapcase()"
   ]
  },
  {
   "cell_type": "code",
   "execution_count": 1,
   "id": "deca2cd9",
   "metadata": {},
   "outputs": [
    {
     "name": "stdout",
     "output_type": "stream",
     "text": [
      "8\n"
     ]
    }
   ],
   "source": [
    "a=\"abhishek\"\n",
    "print(len(a))"
   ]
  },
  {
   "cell_type": "code",
   "execution_count": 2,
   "id": "55e6762d",
   "metadata": {},
   "outputs": [
    {
     "name": "stdout",
     "output_type": "stream",
     "text": [
      "11\n"
     ]
    }
   ],
   "source": [
    "a='123345hujki'\n",
    "print(len(a))"
   ]
  },
  {
   "cell_type": "code",
   "execution_count": 3,
   "id": "1c5e0d27",
   "metadata": {},
   "outputs": [
    {
     "name": "stdout",
     "output_type": "stream",
     "text": [
      "10\n"
     ]
    }
   ],
   "source": [
    "a=\"nikhil pal\"\n",
    "print(len(a))"
   ]
  },
  {
   "cell_type": "code",
   "execution_count": 4,
   "id": "02f214ab",
   "metadata": {},
   "outputs": [
    {
     "name": "stdout",
     "output_type": "stream",
     "text": [
      "16\n"
     ]
    }
   ],
   "source": [
    "a=\"nikhil pal @#$,.\"\n",
    "print(len(a))"
   ]
  },
  {
   "cell_type": "markdown",
   "id": "20c620bf",
   "metadata": {},
   "source": [
    "max method"
   ]
  },
  {
   "cell_type": "code",
   "execution_count": 5,
   "id": "b80009eb",
   "metadata": {},
   "outputs": [
    {
     "name": "stdout",
     "output_type": "stream",
     "text": [
      "9\n"
     ]
    }
   ],
   "source": [
    "a=\"1234567894\"\n",
    "print(max(a))"
   ]
  },
  {
   "cell_type": "code",
   "execution_count": 6,
   "id": "a831be6d",
   "metadata": {
    "scrolled": true
   },
   "outputs": [
    {
     "name": "stdout",
     "output_type": "stream",
     "text": [
      "s\n"
     ]
    }
   ],
   "source": [
    "a=\"abhishek\"\n",
    "print(max(a))"
   ]
  },
  {
   "cell_type": "code",
   "execution_count": 1,
   "id": "331655f0",
   "metadata": {},
   "outputs": [
    {
     "name": "stdout",
     "output_type": "stream",
     "text": [
      "8\n"
     ]
    }
   ],
   "source": [
    "c=\"-1-2-3-4-5-6-7-8\"\n",
    "print(max(c))"
   ]
  },
  {
   "cell_type": "code",
   "execution_count": 2,
   "id": "b2054314",
   "metadata": {},
   "outputs": [
    {
     "name": "stdout",
     "output_type": "stream",
     "text": [
      "1\n"
     ]
    }
   ],
   "source": [
    "a=\"1234567894\"\n",
    "print(min(a))"
   ]
  },
  {
   "cell_type": "code",
   "execution_count": 3,
   "id": "16e30040",
   "metadata": {},
   "outputs": [
    {
     "name": "stdout",
     "output_type": "stream",
     "text": [
      "a\n"
     ]
    }
   ],
   "source": [
    "a=\"abhishek\"\n",
    "print(min(a))"
   ]
  },
  {
   "cell_type": "code",
   "execution_count": 4,
   "id": "443b9f14",
   "metadata": {},
   "outputs": [
    {
     "name": "stdout",
     "output_type": "stream",
     "text": [
      "-\n"
     ]
    }
   ],
   "source": [
    "c=\"-1-2-3-4-5-6-7-8\"\n",
    "print(min(c))"
   ]
  },
  {
   "cell_type": "markdown",
   "id": "acda92aa",
   "metadata": {},
   "source": [
    "swapcase method"
   ]
  },
  {
   "cell_type": "code",
   "execution_count": 6,
   "id": "8ff5f171",
   "metadata": {},
   "outputs": [
    {
     "name": "stdout",
     "output_type": "stream",
     "text": [
      "nIKhIL pAl\n"
     ]
    }
   ],
   "source": [
    "a=\"NikHil PaL\"\n",
    "print(a.swapcase())"
   ]
  },
  {
   "cell_type": "code",
   "execution_count": 7,
   "id": "e387a3e8",
   "metadata": {},
   "outputs": [
    {
     "name": "stdout",
     "output_type": "stream",
     "text": [
      "iLOveYoU\n"
     ]
    }
   ],
   "source": [
    "a=\"IloVEyOu\"\n",
    "print(a.swapcase())"
   ]
  },
  {
   "cell_type": "markdown",
   "id": "3c54b6a0",
   "metadata": {},
   "source": [
    "# title method"
   ]
  },
  {
   "cell_type": "code",
   "execution_count": 8,
   "id": "7d54e4cc",
   "metadata": {},
   "outputs": [
    {
     "name": "stdout",
     "output_type": "stream",
     "text": [
      "Python\n"
     ]
    }
   ],
   "source": [
    "x=\"python\"\n",
    "print(x.title())"
   ]
  },
  {
   "cell_type": "code",
   "execution_count": 10,
   "id": "6df6c465",
   "metadata": {},
   "outputs": [
    {
     "name": "stdout",
     "output_type": "stream",
     "text": [
      "Nikhil Pal\n"
     ]
    }
   ],
   "source": [
    "c=\"NIkhil pal\"\n",
    "print(c.title())"
   ]
  },
  {
   "cell_type": "code",
   "execution_count": 11,
   "id": "13284a48",
   "metadata": {},
   "outputs": [
    {
     "name": "stdout",
     "output_type": "stream",
     "text": [
      "Nikhil Is Very Good Boy\n"
     ]
    }
   ],
   "source": [
    "x=\"nikhil IS very Good boy\"\n",
    "print(x.title())"
   ]
  },
  {
   "cell_type": "markdown",
   "id": "fdc3a359",
   "metadata": {},
   "source": [
    "capitalize() method"
   ]
  },
  {
   "cell_type": "code",
   "execution_count": 12,
   "id": "5775a8a4",
   "metadata": {},
   "outputs": [
    {
     "name": "stdout",
     "output_type": "stream",
     "text": [
      "Nikhil is good boy\n"
     ]
    }
   ],
   "source": [
    "b=\"nikhil is good boy\"\n",
    "print(b.capitalize())"
   ]
  },
  {
   "cell_type": "code",
   "execution_count": 1,
   "id": "2b038137",
   "metadata": {},
   "outputs": [
    {
     "name": "stdout",
     "output_type": "stream",
     "text": [
      "PYTHON is very good language\n"
     ]
    }
   ],
   "source": [
    "c=\"python is very good language\"\n",
    "x=c[0:6].upper()+c[6:]\n",
    "print(x)"
   ]
  },
  {
   "cell_type": "code",
   "execution_count": 8,
   "id": "f94d0326",
   "metadata": {},
   "outputs": [
    {
     "name": "stdout",
     "output_type": "stream",
     "text": [
      "nikhil is good and INNOCENT BOY\n"
     ]
    }
   ],
   "source": [
    "s=\"nikhil is good and innocent boy\".strip(\" \")\n",
    "x=s[0:18]+\" \"+s[-12:].upper().strip(\" \")\n",
    "print(x)"
   ]
  },
  {
   "cell_type": "markdown",
   "id": "93823b2e",
   "metadata": {},
   "source": [
    "# strip () method "
   ]
  },
  {
   "cell_type": "code",
   "execution_count": 16,
   "id": "b2a13828",
   "metadata": {},
   "outputs": [
    {
     "name": "stdout",
     "output_type": "stream",
     "text": [
      "         nikhil pal is very good man       \n",
      "\n",
      "nikhil pal is very good man\n"
     ]
    }
   ],
   "source": [
    "stg=\"         nikhil pal is very good man       \"\n",
    "print(stg)\n",
    "print()\n",
    "print(stg.strip())"
   ]
  },
  {
   "cell_type": "markdown",
   "id": "dfa294b8",
   "metadata": {},
   "source": [
    "# lstrip"
   ]
  },
  {
   "cell_type": "code",
   "execution_count": 17,
   "id": "1935953b",
   "metadata": {},
   "outputs": [
    {
     "name": "stdout",
     "output_type": "stream",
     "text": [
      "         nikhil pal is very good man       \n",
      "\n",
      "nikhil pal is very good man       \n"
     ]
    }
   ],
   "source": [
    "stg=\"         nikhil pal is very good man       \"\n",
    "print(stg)\n",
    "print()\n",
    "print(stg.lstrip())"
   ]
  },
  {
   "cell_type": "markdown",
   "id": "84820b06",
   "metadata": {},
   "source": [
    "# rstrip"
   ]
  },
  {
   "cell_type": "code",
   "execution_count": 18,
   "id": "6214d3a1",
   "metadata": {},
   "outputs": [
    {
     "name": "stdout",
     "output_type": "stream",
     "text": [
      "         nikhil pal is very good man       \n",
      "\n",
      "         nikhil pal is very good man\n"
     ]
    }
   ],
   "source": [
    "stg=\"         nikhil pal is very good man       \"\n",
    "print(stg)\n",
    "print()\n",
    "print(stg.rstrip())"
   ]
  },
  {
   "cell_type": "markdown",
   "id": "11dfcccd",
   "metadata": {},
   "source": [
    "# programe build"
   ]
  },
  {
   "cell_type": "code",
   "execution_count": 4,
   "id": "634e010b",
   "metadata": {},
   "outputs": [
    {
     "name": "stdout",
     "output_type": "stream",
     "text": [
      "entre the no:my name is nikhil\n",
      "entre the 2nd nopython is very\n",
      "the value of z:MY NA me is nikhil\n",
      "\n",
      "the value of y:PYTHON  is very\n"
     ]
    }
   ],
   "source": [
    "x=input(\"entre the no:\")\n",
    "y=input(\"entre the 2nd no:\")\n",
    "z=x[0:5].upper()+\" \"+ x[5:]\n",
    "a=y[0:6].upper()+\" \"+y[6:]\n",
    "print(f\"the value of z:{z}\")\n",
    "print()\n",
    "print(f\"the value of y:{a}\")\n",
    "      "
   ]
  },
  {
   "cell_type": "code",
   "execution_count": 9,
   "id": "eb818d4b",
   "metadata": {},
   "outputs": [
    {
     "name": "stdout",
     "output_type": "stream",
     "text": [
      "entre the no:nikhil pal\n",
      "entre the no:nitesh pal\n",
      "vale of z:NIKHIL\n",
      "\n",
      " value of y:NIKHIL\n"
     ]
    }
   ],
   "source": [
    "x=input(\"entre the no:\")\n",
    "y=input(\"entre the no:\")\n",
    "z=x[0:6].strip().swapcase()\n",
    "y=x[0:6].strip().swapcase()\n",
    "print(f\"vale of z:{z}\")\n",
    "print()\n",
    "print(f\" value of y:{y}\")"
   ]
  },
  {
   "cell_type": "markdown",
   "id": "9bc187c4",
   "metadata": {},
   "source": [
    "# replace()"
   ]
  },
  {
   "cell_type": "code",
   "execution_count": 1,
   "id": "121c179e",
   "metadata": {},
   "outputs": [
    {
     "name": "stdout",
     "output_type": "stream",
     "text": [
      "Mukesh is good boy\n"
     ]
    }
   ],
   "source": [
    "stg=\"nikhil is good boy\"\n",
    "a=stg.replace('nikhil','Mukesh')\n",
    "print(a)"
   ]
  },
  {
   "cell_type": "code",
   "execution_count": 20,
   "id": "38ceb434",
   "metadata": {},
   "outputs": [
    {
     "name": "stdout",
     "output_type": "stream",
     "text": [
      "NIKHIL IS GOOD MAN\n",
      "nikhil Nikhil Is Good Man\n"
     ]
    }
   ],
   "source": [
    "stg=\"mukesh is good man\"\n",
    "s=stg.replace(\"mukesh\",\"nikhil\").upper()\n",
    "d=s[0:6].lower()+\" \"+s.title()\n",
    "print(s)\n",
    "print(d)"
   ]
  },
  {
   "cell_type": "code",
   "execution_count": 23,
   "id": "47a6f261",
   "metadata": {},
   "outputs": [
    {
     "name": "stdout",
     "output_type": "stream",
     "text": [
      "I  Love My Wife\n"
     ]
    }
   ],
   "source": [
    "j=\"i  love my india\"\n",
    "r=j.replace(\"india\",\"wife\").title()\n",
    "print(r)"
   ]
  },
  {
   "cell_type": "code",
   "execution_count": 25,
   "id": "e10bd2ee",
   "metadata": {},
   "outputs": [
    {
     "name": "stdout",
     "output_type": "stream",
     "text": [
      "I Love My India And My India Is So Beautiful\n"
     ]
    }
   ],
   "source": [
    "r=\"i love my wife and my wife is so beautiful\"\n",
    "g=r.replace(\"wife\",\"india\").title()\n",
    "print(g)"
   ]
  },
  {
   "cell_type": "code",
   "execution_count": 2,
   "id": "7a2e75c7",
   "metadata": {},
   "outputs": [
    {
     "name": "stdout",
     "output_type": "stream",
     "text": [
      "entre the string:my name is nikhil\n",
      "entre the sentence:nikhil\n",
      "what you want replace:mukesh\n",
      "the final string is:my name is mukesh\n"
     ]
    }
   ],
   "source": [
    "tg=input(\"entre the string:\")\n",
    "st=input(\"entre the sentence:\")\n",
    "rep=input(\"what you want replace:\")\n",
    "a=tg.replace(st,rep)\n",
    "print(f\"the final string is:{a}\")\n"
   ]
  },
  {
   "cell_type": "code",
   "execution_count": 7,
   "id": "566ac720",
   "metadata": {},
   "outputs": [
    {
     "name": "stdout",
     "output_type": "stream",
     "text": [
      "first string:everyoe is were fake mak\n",
      "do you want the replace name:fake\n",
      "do you want add this:real\n",
      "final string is:everyoe is were real mak\n"
     ]
    }
   ],
   "source": [
    "st=input(\"first string:\")\n",
    "rep=input(\"do you want the replace name:\")\n",
    "add=input(\"do you want add this:\")\n",
    "a=st.replace(rep,add)\n",
    "print(f\"final string is:{a}\")"
   ]
  },
  {
   "cell_type": "markdown",
   "id": "a34bd50d",
   "metadata": {},
   "source": [
    "# count()"
   ]
  },
  {
   "cell_type": "code",
   "execution_count": 8,
   "id": "2c32d926",
   "metadata": {},
   "outputs": [
    {
     "name": "stdout",
     "output_type": "stream",
     "text": [
      "3\n"
     ]
    }
   ],
   "source": [
    "stg=\"12345678987654323456\"\n",
    "a=stg.count(\"5\")\n",
    "print(a)"
   ]
  },
  {
   "cell_type": "code",
   "execution_count": 10,
   "id": "86b0b408",
   "metadata": {},
   "outputs": [
    {
     "name": "stdout",
     "output_type": "stream",
     "text": [
      "3\n"
     ]
    }
   ],
   "source": [
    "a=\"nikhil pal is good boy\"\n",
    "d=a.count(\"i\")\n",
    "print(d)"
   ]
  },
  {
   "cell_type": "code",
   "execution_count": 14,
   "id": "a9811ebb",
   "metadata": {},
   "outputs": [
    {
     "name": "stdout",
     "output_type": "stream",
     "text": [
      "entre the string name:my ame is nikhil pal\n",
      "do you want count string charactor:nikhil\n",
      "the charator of string:nikhil comes in string:1 times\n"
     ]
    }
   ],
   "source": [
    "stg=input(\"entre the string name:\")\n",
    "st=input(\"do you want count string charactor:\")\n",
    "a=stg.count(st)\n",
    "print(f\"the charator of string:{st} comes in string:{a} times\")"
   ]
  },
  {
   "cell_type": "code",
   "execution_count": 3,
   "id": "6cfd6802",
   "metadata": {},
   "outputs": [
    {
     "name": "stdout",
     "output_type": "stream",
     "text": [
      "2\n"
     ]
    }
   ],
   "source": [
    "n=\"12345678123456\"\n",
    "b=n.count(\"1\")\n",
    "print(b)"
   ]
  },
  {
   "cell_type": "code",
   "execution_count": 4,
   "id": "3c982ae8",
   "metadata": {},
   "outputs": [
    {
     "name": "stdout",
     "output_type": "stream",
     "text": [
      "1\n"
     ]
    }
   ],
   "source": [
    "b=\"nikhil is good boy\"\n",
    "c=b.count(\"n\")\n",
    "print(c)"
   ]
  },
  {
   "cell_type": "code",
   "execution_count": 5,
   "id": "891c9a0a",
   "metadata": {},
   "outputs": [
    {
     "name": "stdout",
     "output_type": "stream",
     "text": [
      "2\n"
     ]
    }
   ],
   "source": [
    "c=\"nikhil loves deeksha\"\n",
    "v=c.count(\"k\")\n",
    "print(v)"
   ]
  },
  {
   "cell_type": "code",
   "execution_count": 7,
   "id": "8c772694",
   "metadata": {},
   "outputs": [
    {
     "name": "stdout",
     "output_type": "stream",
     "text": [
      "2\n"
     ]
    }
   ],
   "source": [
    "z=\"love is bliend\"\n",
    "c=z.count(\"l\")\n",
    "print(c)"
   ]
  },
  {
   "cell_type": "code",
   "execution_count": 8,
   "id": "af1665be",
   "metadata": {},
   "outputs": [
    {
     "name": "stdout",
     "output_type": "stream",
     "text": [
      "2\n"
     ]
    }
   ],
   "source": [
    "c=\"black adam is good boy\"\n",
    "b=c.count(\"b\")\n",
    "print(b)"
   ]
  },
  {
   "cell_type": "markdown",
   "id": "23f26fc5",
   "metadata": {},
   "source": [
    "# find( method)"
   ]
  },
  {
   "cell_type": "code",
   "execution_count": 19,
   "id": "ba997e82",
   "metadata": {},
   "outputs": [
    {
     "name": "stdout",
     "output_type": "stream",
     "text": [
      "10\n"
     ]
    }
   ],
   "source": [
    "c=\"i love is deeksha\"\n",
    "f=c.find(\"deeksha\")\n",
    "print(f)"
   ]
  },
  {
   "cell_type": "code",
   "execution_count": 18,
   "id": "89c91bb3",
   "metadata": {},
   "outputs": [
    {
     "name": "stdout",
     "output_type": "stream",
     "text": [
      "8\n"
     ]
    }
   ],
   "source": [
    "b=\"121345678\"\n",
    "g=b.find(\"8\")\n",
    "print(g)"
   ]
  },
  {
   "cell_type": "code",
   "execution_count": 39,
   "id": "b6d213d6",
   "metadata": {},
   "outputs": [
    {
     "name": "stdout",
     "output_type": "stream",
     "text": [
      "8\n"
     ]
    }
   ],
   "source": [
    "c=\"i love nikhil but i love nikhil\"\n",
    "g=c.find(\"i\",8)\n",
    "print(g)"
   ]
  },
  {
   "cell_type": "code",
   "execution_count": 41,
   "id": "590180cc",
   "metadata": {},
   "outputs": [
    {
     "name": "stdout",
     "output_type": "stream",
     "text": [
      "7 25 35\n"
     ]
    }
   ],
   "source": [
    "c=\"i love nikhil but i love nikhil or nikhil\"\n",
    "fi=c.find(\"nikhil\")\n",
    "si=c.find(\"nikhil\",fi+1)\n",
    "ti=c.find(\"nikhil\",si+1)\n",
    "print(fi,si,ti)"
   ]
  },
  {
   "cell_type": "code",
   "execution_count": 1,
   "id": "b9cbe0a1",
   "metadata": {},
   "outputs": [
    {
     "name": "stdout",
     "output_type": "stream",
     "text": [
      "entre the name:my name is nikhil and nikhil pal\n",
      "entre the name do you want find:nikhil\n",
      "the value you want find:nikhil and postion no is:11\n"
     ]
    }
   ],
   "source": [
    "c=input(\"entre the name:\")\n",
    "fv=input(\"entre the name do you want find:\")\n",
    "v=c.find(fv)\n",
    "print(f\"the value you want find:{fv} and postion no is:{v}\")"
   ]
  },
  {
   "cell_type": "markdown",
   "id": "7fc0d903",
   "metadata": {},
   "source": [
    "rfind- right to left find"
   ]
  },
  {
   "cell_type": "code",
   "execution_count": 3,
   "id": "a59c08ff",
   "metadata": {},
   "outputs": [
    {
     "name": "stdout",
     "output_type": "stream",
     "text": [
      "30\n",
      "\n",
      "18\n"
     ]
    }
   ],
   "source": [
    "stg=\"i love nikhil but nikhil love mobile\"\n",
    "f=stg.find(\"mobile\")\n",
    "print(f)\n",
    "print()\n",
    "f1=stg.rfind(\"nikhil\")\n",
    "print(f1)"
   ]
  },
  {
   "cell_type": "code",
   "execution_count": 10,
   "id": "0a6dded9",
   "metadata": {},
   "outputs": [
    {
     "name": "stdout",
     "output_type": "stream",
     "text": [
      "8\n"
     ]
    }
   ],
   "source": [
    "f=\"123456789\"\n",
    "f1=f.rfind(\"9\")\n",
    "print(f1)\n"
   ]
  },
  {
   "cell_type": "markdown",
   "id": "52249f05",
   "metadata": {},
   "source": [
    "# index()"
   ]
  },
  {
   "cell_type": "code",
   "execution_count": 11,
   "id": "64bb3856",
   "metadata": {},
   "outputs": [
    {
     "name": "stdout",
     "output_type": "stream",
     "text": [
      "7\n"
     ]
    }
   ],
   "source": [
    "s=\"i love you\"\n",
    "z=s.index(\"y\")\n",
    "print(z)"
   ]
  },
  {
   "cell_type": "code",
   "execution_count": 12,
   "id": "4e5113d2",
   "metadata": {},
   "outputs": [
    {
     "name": "stdout",
     "output_type": "stream",
     "text": [
      "8\n"
     ]
    }
   ],
   "source": [
    "c=\"122345678910\"\n",
    "f=c.index(\"8\")\n",
    "print(f)"
   ]
  },
  {
   "cell_type": "markdown",
   "id": "f1899c09",
   "metadata": {},
   "source": [
    "rindex()-right to left indexing"
   ]
  },
  {
   "cell_type": "code",
   "execution_count": 14,
   "id": "a6b5e2f9",
   "metadata": {},
   "outputs": [
    {
     "name": "stdout",
     "output_type": "stream",
     "text": [
      "4\n"
     ]
    }
   ],
   "source": [
    "c=\"1234567\"\n",
    "f=c.rindex('5')\n",
    "print(f)"
   ]
  },
  {
   "cell_type": "code",
   "execution_count": 15,
   "id": "d6c40a4c",
   "metadata": {},
   "outputs": [
    {
     "name": "stdout",
     "output_type": "stream",
     "text": [
      "7\n"
     ]
    }
   ],
   "source": [
    "s=\"i love you\"\n",
    "z=s.rindex(\"y\")\n",
    "print(z)"
   ]
  },
  {
   "cell_type": "code",
   "execution_count": 19,
   "id": "54c87f62",
   "metadata": {},
   "outputs": [
    {
     "name": "stdout",
     "output_type": "stream",
     "text": [
      "-1\n",
      "\n",
      "7\n"
     ]
    }
   ],
   "source": [
    "s=\"i love python\"\n",
    "a=s.find(\"java\")\n",
    "print(a)\n",
    "print()\n",
    "c=s.rindex(\"python\")\n",
    "print(c)"
   ]
  },
  {
   "cell_type": "code",
   "execution_count": null,
   "id": "c77e8142",
   "metadata": {},
   "outputs": [],
   "source": []
  },
  {
   "cell_type": "code",
   "execution_count": null,
   "id": "48922eec",
   "metadata": {},
   "outputs": [],
   "source": []
  },
  {
   "cell_type": "code",
   "execution_count": null,
   "id": "e324e204",
   "metadata": {},
   "outputs": [],
   "source": []
  },
  {
   "cell_type": "code",
   "execution_count": null,
   "id": "6e7dcc08",
   "metadata": {},
   "outputs": [],
   "source": []
  },
  {
   "cell_type": "markdown",
   "id": "61fcc463",
   "metadata": {},
   "source": [
    "# string split() method"
   ]
  },
  {
   "cell_type": "code",
   "execution_count": 17,
   "id": "00145c53",
   "metadata": {},
   "outputs": [
    {
     "name": "stdout",
     "output_type": "stream",
     "text": [
      "['this', 'is', 'nikhil']\n"
     ]
    }
   ],
   "source": [
    "s=\"this is nikhil\"\n",
    "d=s.split(\" \")\n",
    "print(d)"
   ]
  },
  {
   "cell_type": "code",
   "execution_count": 24,
   "id": "69cac219",
   "metadata": {},
   "outputs": [
    {
     "name": "stdout",
     "output_type": "stream",
     "text": [
      "['ilovenikhil']\n"
     ]
    }
   ],
   "source": [
    "s=\"ilovenikhil\"\n",
    "c=s.split(' ')\n",
    "print(c)"
   ]
  },
  {
   "cell_type": "code",
   "execution_count": 25,
   "id": "d2a77856",
   "metadata": {},
   "outputs": [
    {
     "name": "stdout",
     "output_type": "stream",
     "text": [
      "['123456789']\n"
     ]
    }
   ],
   "source": [
    "a=\"123456789\"\n",
    "x=a.split(\" \")\n",
    "print(x)"
   ]
  },
  {
   "cell_type": "code",
   "execution_count": 33,
   "id": "ff8d16c6",
   "metadata": {},
   "outputs": [
    {
     "name": "stdout",
     "output_type": "stream",
     "text": [
      "['abhi', 'nikhil', 'ram', 'nisha']\n"
     ]
    }
   ],
   "source": [
    "s='abhi;nikhil;ram;nisha'\n",
    "a=s.split(\";\")\n",
    "print(a)"
   ]
  },
  {
   "cell_type": "markdown",
   "id": "51fcedde",
   "metadata": {},
   "source": [
    "max split()"
   ]
  },
  {
   "cell_type": "code",
   "execution_count": 34,
   "id": "84715d1e",
   "metadata": {},
   "outputs": [
    {
     "name": "stdout",
     "output_type": "stream",
     "text": [
      "['abhi', 'nikhil', 'ram', 'nisha;rahul;nishant']\n"
     ]
    }
   ],
   "source": [
    "s='abhi;nikhil;ram;nisha;rahul;nishant'\n",
    "c=s.split(\";\",3)\n",
    "print(c)"
   ]
  },
  {
   "cell_type": "code",
   "execution_count": 35,
   "id": "e770e3b2",
   "metadata": {},
   "outputs": [
    {
     "name": "stdout",
     "output_type": "stream",
     "text": [
      "['i', 'love', 'nikhil', 'pal', 'but i am not robot']\n"
     ]
    }
   ],
   "source": [
    "b=\"i love nikhil pal but i am not robot\"\n",
    "x=b.split(\" \",4)\n",
    "print(x)"
   ]
  },
  {
   "cell_type": "code",
   "execution_count": 37,
   "id": "73ee054d",
   "metadata": {},
   "outputs": [
    {
     "name": "stdout",
     "output_type": "stream",
     "text": [
      "['abhi', 'nikhil', 'ram', 'nisha', 'rahul', 'nishant']\n"
     ]
    }
   ],
   "source": [
    "s='abhi;nikhil;ram;nisha;rahul;nishant'\n",
    "a=s.split(\";\",5)\n",
    "print(a)"
   ]
  },
  {
   "cell_type": "code",
   "execution_count": 38,
   "id": "1053473d",
   "metadata": {},
   "outputs": [
    {
     "name": "stdout",
     "output_type": "stream",
     "text": [
      "['abhi', 'nikhil', 'ram', 'nisha', 'rahul', 'nishant']\n",
      "['i', 'love', 'nikhil', 'pal', 'but', 'i', 'am', 'not', 'robot']\n"
     ]
    }
   ],
   "source": [
    "#write a programe\n",
    "a='abhi&nikhil&ram&nisha&rahul&nishant'\n",
    "c=a.split(\"&\")\n",
    "print(c)\n",
    "b=\"i@love@nikhil@pal@but@i@am@not@robot\"\n",
    "v=b.split(\"@\")\n",
    "print(v)"
   ]
  },
  {
   "cell_type": "code",
   "execution_count": 44,
   "id": "a7eb7f4f",
   "metadata": {},
   "outputs": [
    {
     "name": "stdout",
     "output_type": "stream",
     "text": [
      "entre the symbol do you want delete the string:&#$\n",
      "the delete of symbol:&#$ the final list:['abhi', 'nikhil', 'ram', 'nisha', 'rahul', 'nishant']\n"
     ]
    }
   ],
   "source": [
    "a='abhi&#$nikhil&#$ram&#$nisha&#$rahul&#$nishant'\n",
    "b=str(input('entre the symbol do you want delete the string:'))\n",
    "c=a.split(b)\n",
    "print(f\"the delete of symbol:{b} the final list:{c}\")"
   ]
  },
  {
   "cell_type": "code",
   "execution_count": 45,
   "id": "5dda2540",
   "metadata": {},
   "outputs": [
    {
     "name": "stdout",
     "output_type": "stream",
     "text": [
      "['1', '2', '3', '456789']\n"
     ]
    }
   ],
   "source": [
    "x=\"1*2*3*456789\"\n",
    "s=x.split(\"*\",3)\n",
    "print(s)"
   ]
  },
  {
   "cell_type": "markdown",
   "id": "a830c09b",
   "metadata": {},
   "source": [
    "# partition()"
   ]
  },
  {
   "cell_type": "code",
   "execution_count": 46,
   "id": "e3d26d9d",
   "metadata": {},
   "outputs": [
    {
     "name": "stdout",
     "output_type": "stream",
     "text": [
      "('abhi&#$nikhil&#$ram&#$nisha&#$rahul&#$nishant', '', '')\n"
     ]
    }
   ],
   "source": [
    "a='abhi&#$nikhil&#$ram&#$nisha&#$rahul&#$nishant'\n",
    "c=a.partition(\" \")\n",
    "print(c)"
   ]
  },
  {
   "cell_type": "code",
   "execution_count": 53,
   "id": "f7c43f16",
   "metadata": {},
   "outputs": [
    {
     "name": "stdout",
     "output_type": "stream",
     "text": [
      "('this', ' ', 'is python no love')\n"
     ]
    }
   ],
   "source": [
    "a='this is python no love'\n",
    "s=a.partition(\" \")\n",
    "print(s)"
   ]
  },
  {
   "cell_type": "code",
   "execution_count": 54,
   "id": "bd1babde",
   "metadata": {},
   "outputs": [
    {
     "name": "stdout",
     "output_type": "stream",
     "text": [
      "('i', '@', 'love@nikhil@pal@but@i@am@not@robot')\n"
     ]
    }
   ],
   "source": [
    "b=\"i@love@nikhil@pal@but@i@am@not@robot\"\n",
    "c=b.partition(\"@\")\n",
    "print(c)"
   ]
  },
  {
   "cell_type": "markdown",
   "id": "0dd2be16",
   "metadata": {},
   "source": [
    "# rpartition"
   ]
  },
  {
   "cell_type": "code",
   "execution_count": null,
   "id": "b1965861",
   "metadata": {},
   "outputs": [],
   "source": []
  },
  {
   "cell_type": "code",
   "execution_count": null,
   "id": "a7ea3061",
   "metadata": {},
   "outputs": [],
   "source": []
  },
  {
   "cell_type": "code",
   "execution_count": null,
   "id": "3feabb5b",
   "metadata": {},
   "outputs": [],
   "source": []
  },
  {
   "cell_type": "code",
   "execution_count": null,
   "id": "2754edaf",
   "metadata": {},
   "outputs": [],
   "source": []
  },
  {
   "cell_type": "markdown",
   "id": "fc2b65c1",
   "metadata": {},
   "source": [
    "# islower() method"
   ]
  },
  {
   "cell_type": "code",
   "execution_count": 55,
   "id": "07b730ed",
   "metadata": {},
   "outputs": [
    {
     "name": "stdout",
     "output_type": "stream",
     "text": [
      "True\n"
     ]
    }
   ],
   "source": [
    "s='sandeep'\n",
    "c=s.islower()\n",
    "print(c)"
   ]
  },
  {
   "cell_type": "code",
   "execution_count": 56,
   "id": "ea8906bf",
   "metadata": {},
   "outputs": [
    {
     "name": "stdout",
     "output_type": "stream",
     "text": [
      "True\n"
     ]
    }
   ],
   "source": [
    "v=\"nikhil1234\"\n",
    "c=v.islower()\n",
    "print(c)"
   ]
  },
  {
   "cell_type": "code",
   "execution_count": 57,
   "id": "b2b07ddf",
   "metadata": {},
   "outputs": [
    {
     "name": "stdout",
     "output_type": "stream",
     "text": [
      "False\n"
     ]
    }
   ],
   "source": [
    "n=\"NIKhil\"\n",
    "c=n.islower()\n",
    "print(c)"
   ]
  },
  {
   "cell_type": "markdown",
   "id": "07c4e89c",
   "metadata": {},
   "source": [
    "# isupper() method"
   ]
  },
  {
   "cell_type": "code",
   "execution_count": 59,
   "id": "a00cf4cd",
   "metadata": {},
   "outputs": [
    {
     "name": "stdout",
     "output_type": "stream",
     "text": [
      "True\n"
     ]
    }
   ],
   "source": [
    "stg=\"NIUKHIL\"\n",
    "s=stg.isupper()\n",
    "print(s)"
   ]
  },
  {
   "cell_type": "code",
   "execution_count": 61,
   "id": "58aa2e5a",
   "metadata": {},
   "outputs": [
    {
     "name": "stdout",
     "output_type": "stream",
     "text": [
      "True\n"
     ]
    }
   ],
   "source": [
    "s=\"NIKHIL!@#2345\"\n",
    "c=s.isupper()\n",
    "print(c)"
   ]
  },
  {
   "cell_type": "code",
   "execution_count": 62,
   "id": "7f5f51ec",
   "metadata": {},
   "outputs": [
    {
     "name": "stdout",
     "output_type": "stream",
     "text": [
      "False\n"
     ]
    }
   ],
   "source": [
    "s=\"nikhil\"\n",
    "v=s.isupper()\n",
    "print(v)"
   ]
  },
  {
   "cell_type": "markdown",
   "id": "ad2e2a47",
   "metadata": {},
   "source": [
    "# isalpha()method"
   ]
  },
  {
   "cell_type": "code",
   "execution_count": 63,
   "id": "14bc2f33",
   "metadata": {},
   "outputs": [
    {
     "name": "stdout",
     "output_type": "stream",
     "text": [
      "True\n"
     ]
    }
   ],
   "source": [
    "c=\"nikhilpaldskUYYTTRF\"\n",
    "s=c.isalpha()\n",
    "print(s)"
   ]
  },
  {
   "cell_type": "code",
   "execution_count": 64,
   "id": "015accb5",
   "metadata": {},
   "outputs": [
    {
     "name": "stdout",
     "output_type": "stream",
     "text": [
      "False\n"
     ]
    }
   ],
   "source": [
    "v=\"abnhklETYUUH123\"\n",
    "s=v.isalpha()\n",
    "print(s)"
   ]
  },
  {
   "cell_type": "markdown",
   "id": "5e629d07",
   "metadata": {},
   "source": [
    "# isalnum()method"
   ]
  },
  {
   "cell_type": "code",
   "execution_count": 65,
   "id": "85568d5d",
   "metadata": {},
   "outputs": [
    {
     "name": "stdout",
     "output_type": "stream",
     "text": [
      "True\n"
     ]
    }
   ],
   "source": [
    "x=\"love12\"\n",
    "c=x.isalnum()\n",
    "print(c)\n"
   ]
  },
  {
   "cell_type": "code",
   "execution_count": 66,
   "id": "d433ac36",
   "metadata": {},
   "outputs": [
    {
     "name": "stdout",
     "output_type": "stream",
     "text": [
      "True\n"
     ]
    }
   ],
   "source": [
    "x=\"1234\"\n",
    "c=x.isalnum()\n",
    "print(c)"
   ]
  },
  {
   "cell_type": "code",
   "execution_count": 67,
   "id": "60e54f88",
   "metadata": {},
   "outputs": [
    {
     "name": "stdout",
     "output_type": "stream",
     "text": [
      "True\n"
     ]
    }
   ],
   "source": [
    "b=\"wRYUbgjm\"\n",
    "k=b.isalnum()\n",
    "print(k)"
   ]
  },
  {
   "cell_type": "code",
   "execution_count": 68,
   "id": "a145e434",
   "metadata": {},
   "outputs": [
    {
     "name": "stdout",
     "output_type": "stream",
     "text": [
      "False\n"
     ]
    }
   ],
   "source": [
    "c=\"#$%^ashjk123\"\n",
    "b=c.isalnum()\n",
    "print(b)"
   ]
  },
  {
   "cell_type": "markdown",
   "id": "69cd9e25",
   "metadata": {},
   "source": [
    "# startswith()method"
   ]
  },
  {
   "cell_type": "code",
   "execution_count": 70,
   "id": "5a3fa1a9",
   "metadata": {},
   "outputs": [
    {
     "name": "stdout",
     "output_type": "stream",
     "text": [
      "True\n"
     ]
    }
   ],
   "source": [
    "s=\"abhishek\"\n",
    "c=s.startswith(\"abhi\")\n",
    "print(c)"
   ]
  },
  {
   "cell_type": "code",
   "execution_count": 71,
   "id": "49fa1404",
   "metadata": {},
   "outputs": [
    {
     "name": "stdout",
     "output_type": "stream",
     "text": [
      "False\n"
     ]
    }
   ],
   "source": [
    "a=\"nikhil\"\n",
    "c=a.startswith(\"nikl\")\n",
    "print(c)"
   ]
  },
  {
   "cell_type": "markdown",
   "id": "5ef70fbe",
   "metadata": {},
   "source": [
    "# endswith()"
   ]
  },
  {
   "cell_type": "code",
   "execution_count": 72,
   "id": "66718a92",
   "metadata": {},
   "outputs": [
    {
     "name": "stdout",
     "output_type": "stream",
     "text": [
      "True\n"
     ]
    }
   ],
   "source": [
    "s=\"nikhil pal\"\n",
    "v=s.endswith(\"al\")\n",
    "print(v)"
   ]
  },
  {
   "cell_type": "code",
   "execution_count": 73,
   "id": "9125d03f",
   "metadata": {},
   "outputs": [
    {
     "name": "stdout",
     "output_type": "stream",
     "text": [
      "False\n"
     ]
    }
   ],
   "source": [
    "c=\"sanddep singh\"\n",
    "c=c.endswith(\"ghj\")\n",
    "print(c)"
   ]
  },
  {
   "cell_type": "markdown",
   "id": "cc07e118",
   "metadata": {},
   "source": [
    "# membership operator- in,not in"
   ]
  },
  {
   "cell_type": "code",
   "execution_count": 4,
   "id": "06d0cb7d",
   "metadata": {},
   "outputs": [
    {
     "name": "stdout",
     "output_type": "stream",
     "text": [
      "False\n"
     ]
    }
   ],
   "source": [
    "d='this is python'\n",
    "c=\"python not string\"\n",
    "print(  c in d )"
   ]
  },
  {
   "cell_type": "code",
   "execution_count": 6,
   "id": "dbaa22de",
   "metadata": {},
   "outputs": [
    {
     "name": "stdout",
     "output_type": "stream",
     "text": [
      "True\n"
     ]
    }
   ],
   "source": [
    "s=\"my name is nikhil\"\n",
    "d=\"nikhil\"\n",
    "print( d in s)"
   ]
  },
  {
   "cell_type": "code",
   "execution_count": 7,
   "id": "51f7445d",
   "metadata": {},
   "outputs": [
    {
     "name": "stdout",
     "output_type": "stream",
     "text": [
      "True\n"
     ]
    }
   ],
   "source": [
    "d=\"nikhil love python\"\n",
    "s=\"love\"\n",
    "print(s in d)"
   ]
  },
  {
   "cell_type": "code",
   "execution_count": 9,
   "id": "1ca0ad33",
   "metadata": {},
   "outputs": [
    {
     "name": "stdout",
     "output_type": "stream",
     "text": [
      "entre the name do you want find:nikhil\n",
      "True\n"
     ]
    }
   ],
   "source": [
    "stg=\"hello this is python i am nikhil\"\n",
    "f=input(\"entre the name do you want find:\")\n",
    "print(f in stg)"
   ]
  },
  {
   "cell_type": "code",
   "execution_count": 11,
   "id": "839c68c3",
   "metadata": {},
   "outputs": [
    {
     "name": "stdout",
     "output_type": "stream",
     "text": [
      "False\n"
     ]
    }
   ],
   "source": [
    "v=\"1234567890\"\n",
    "b=\"9\"\n",
    "print(b not in v)"
   ]
  },
  {
   "cell_type": "code",
   "execution_count": 12,
   "id": "8fbaaec3",
   "metadata": {},
   "outputs": [
    {
     "name": "stdout",
     "output_type": "stream",
     "text": [
      "True\n"
     ]
    }
   ],
   "source": [
    "c=\"1234567\"\n",
    "b=\"9\"\n",
    "print(b not in c)"
   ]
  },
  {
   "cell_type": "code",
   "execution_count": 14,
   "id": "6c7a6388",
   "metadata": {},
   "outputs": [
    {
     "name": "stdout",
     "output_type": "stream",
     "text": [
      "True\n"
     ]
    }
   ],
   "source": [
    "b=\"i love in so much\"\n",
    "c=\"nikhil\"\n",
    "print( c not in b)"
   ]
  },
  {
   "cell_type": "code",
   "execution_count": null,
   "id": "bfa7f4f4",
   "metadata": {},
   "outputs": [],
   "source": []
  },
  {
   "cell_type": "markdown",
   "id": "bca8e954",
   "metadata": {},
   "source": [
    "# condistional statement-if,else,elif,"
   ]
  },
  {
   "cell_type": "code",
   "execution_count": 17,
   "id": "2acd0961",
   "metadata": {},
   "outputs": [
    {
     "name": "stdout",
     "output_type": "stream",
     "text": [
      "entre the string:nikhil\n",
      "NIKHIL\n"
     ]
    }
   ],
   "source": [
    "stg=input(\"entre the string:\")\n",
    "if(stg.upper()):\n",
    "    print(stg.upper())"
   ]
  },
  {
   "cell_type": "code",
   "execution_count": 20,
   "id": "b938b2b2",
   "metadata": {},
   "outputs": [
    {
     "name": "stdout",
     "output_type": "stream",
     "text": [
      "entre the stringNIKHIL PAL IS GOOD BOY\n",
      "nikhil pal is good boy\n"
     ]
    }
   ],
   "source": [
    "\n",
    "\n",
    "\n",
    "\n",
    "\n",
    "\n",
    "\n",
    "\n",
    "\n",
    "\n",
    "\n",
    "\n",
    "v=input(\"entre the string\")\n",
    "if(v.lower()):\n",
    "    print(v.lower())"
   ]
  },
  {
   "cell_type": "code",
   "execution_count": 24,
   "id": "126357c9",
   "metadata": {},
   "outputs": [
    {
     "name": "stdout",
     "output_type": "stream",
     "text": [
      "entre the string:NiKHil LoVE PytHOn\n",
      "nIkhIL lOve pYThoN\n"
     ]
    }
   ],
   "source": [
    "c=input(\"entre the string:\")\n",
    "if(c.swapcase()):\n",
    "    print(c.swapcase())\n"
   ]
  },
  {
   "cell_type": "code",
   "execution_count": 25,
   "id": "bf68b4be",
   "metadata": {},
   "outputs": [
    {
     "name": "stdout",
     "output_type": "stream",
     "text": [
      "entre the string:NIKhil pal IS\n",
      "Nikhil Pal Is\n"
     ]
    }
   ],
   "source": [
    "b=input(\"entre the string:\")\n",
    "if(b.title()):\n",
    "    print(b.title())\n",
    "    "
   ]
  },
  {
   "cell_type": "code",
   "execution_count": 28,
   "id": "9b69fa90",
   "metadata": {},
   "outputs": [
    {
     "name": "stdout",
     "output_type": "stream",
     "text": [
      "entre the name do you want replace:dog\n",
      "do you want add this:cat\n",
      "nikhil love cat\n"
     ]
    }
   ],
   "source": [
    "b=\"nikhil love dog\"\n",
    "v=input(\"entre the name do you want replace:\")\n",
    "c=input(\"do you want add this:\")\n",
    "if(b.replace(v,c)):\n",
    "    print(b.replace(v,c))\n"
   ]
  },
  {
   "cell_type": "markdown",
   "id": "c164362a",
   "metadata": {},
   "source": [
    "# find odd and even"
   ]
  },
  {
   "cell_type": "code",
   "execution_count": 5,
   "id": "8806bab5",
   "metadata": {},
   "outputs": [
    {
     "name": "stdout",
     "output_type": "stream",
     "text": [
      "entre the value:2\n",
      "even number\n",
      "have a good day\n"
     ]
    }
   ],
   "source": [
    "num=int(input(\"entre the value:\"))\n",
    "if(num%2==0):\n",
    "    print(\"even number\")\n",
    "else:\n",
    "    print(\"odd number\")\n",
    "print(\"have a good day\")"
   ]
  },
  {
   "cell_type": "markdown",
   "id": "426cab14",
   "metadata": {},
   "source": [
    "# find area of area"
   ]
  },
  {
   "cell_type": "code",
   "execution_count": 2,
   "id": "58a626c7",
   "metadata": {},
   "outputs": [
    {
     "name": "stdout",
     "output_type": "stream",
     "text": [
      "entre the of the area lenght:12\n",
      "entre the of the area of breath:13\n",
      "rectangle\n"
     ]
    }
   ],
   "source": [
    "length=int(input(\"entre the of the area lenght:\"))\n",
    "breath=int(input(\"entre the of the area of breath:\"))\n",
    "if(length==breath):\n",
    "    print(\"sequre\")\n",
    "else:\n",
    "    print(\"rectangle\")\n"
   ]
  },
  {
   "cell_type": "code",
   "execution_count": 3,
   "id": "601a8512",
   "metadata": {},
   "outputs": [
    {
     "name": "stdout",
     "output_type": "stream",
     "text": [
      "entre the salary:50000\n",
      "entre the experience:6\n",
      "your Bonus:5000.0\n",
      "salary this month:55000.0\n",
      "have a good day\n"
     ]
    }
   ],
   "source": [
    "sal=int(input(\"entre the salary:\"))\n",
    "exp=int(input(\"entre the experience:\"))\n",
    "if(exp>5):\n",
    "    bonus=sal*10/100\n",
    "else:\n",
    "    bonus=0\n",
    "print(f\"your Bonus:{bonus}\")\n",
    "print(f\"salary this month:{sal+bonus}\")\n",
    "print(\"have a good day\")"
   ]
  },
  {
   "cell_type": "code",
   "execution_count": 16,
   "id": "a94dc188",
   "metadata": {},
   "outputs": [
    {
     "name": "stdout",
     "output_type": "stream",
     "text": [
      "entre the name:11\n",
      "i hate you\n"
     ]
    }
   ],
   "source": [
    "num=int(input(\"entre the name:\"))\n",
    "if(num>5 and num<10 ):\n",
    "    print(\"i love you nikhil\")\n",
    "else:\n",
    "    print(\"i hate you\")"
   ]
  },
  {
   "cell_type": "code",
   "execution_count": 23,
   "id": "5a78e2cb",
   "metadata": {},
   "outputs": [
    {
     "name": "stdout",
     "output_type": "stream",
     "text": [
      "how many pens did you buy:101\n",
      "discount:101.0\n",
      "total bill:909.0\n"
     ]
    }
   ],
   "source": [
    "quantity=int(input(\"how many pens did you buy:\"))\n",
    "copq=quantity *10\n",
    "if(copq>1000):\n",
    "    discount=copq*10/100\n",
    "else:\n",
    "    discount=0\n",
    "print(f\"discount:{discount}\")\n",
    "print(f\"total bill:{copq-discount}\")"
   ]
  },
  {
   "cell_type": "code",
   "execution_count": 1,
   "id": "e83114c8",
   "metadata": {},
   "outputs": [
    {
     "name": "stdout",
     "output_type": "stream",
     "text": [
      "entre your marks:56\n",
      "you got C grade\n"
     ]
    }
   ],
   "source": [
    "marks=int(input(\"entre your marks:\"))\n",
    "if(marks>=80):\n",
    "    print(\"you got A Grade\")\n",
    "elif(marks>=60 and marks < 80):\n",
    "    print(\"you got B Grade\")\n",
    "elif(marks>=50 and marks < 60):\n",
    "    print(\"you got C grade\")\n",
    "elif (marks>=40 and marks <50):\n",
    "    print(\"you got D grade\")\n",
    "elif(marks>=25 and marks<40):\n",
    "    print(\"you got E grade\")\n",
    "else:\n",
    "    print(\"you fail\")\n"
   ]
  },
  {
   "cell_type": "code",
   "execution_count": 10,
   "id": "d739ada4",
   "metadata": {},
   "outputs": [
    {
     "name": "stdout",
     "output_type": "stream",
     "text": [
      "what do you have:amazon\n",
      "watch the family man\n",
      "keep watching\n"
     ]
    }
   ],
   "source": [
    "ott=input(\"what do you have:\")\n",
    "if(ott==\"netflix\"):\n",
    "    print(\"watch black adam\")\n",
    "elif(ott==\"amazon\"):\n",
    "    print(\"watch the family man\")\n",
    "elif(ott==\"sonytv\"):\n",
    "    print(\"watch scam 1992\")\n",
    "else:\n",
    "    print(\"watch doordarshan\")\n",
    "print(\"keep watching\")"
   ]
  },
  {
   "cell_type": "code",
   "execution_count": 18,
   "id": "4b0e8fc2",
   "metadata": {},
   "outputs": [
    {
     "name": "stdout",
     "output_type": "stream",
     "text": [
      "entre the number:76\n",
      "very good\n",
      "keep learing\n"
     ]
    }
   ],
   "source": [
    "marks=int(input(\"entre the number:\"))\n",
    "if(marks>=80):\n",
    "    print(\"topper\")\n",
    "elif(marks>=60 and marks<80):\n",
    "    print(\"very good\")\n",
    "elif(marks>=40 and marks<60):\n",
    "    print(\"good\")\n",
    "else:\n",
    "    print(\"fail\")\n",
    "print(\"keep learing\")"
   ]
  },
  {
   "cell_type": "code",
   "execution_count": 25,
   "id": "57339efe",
   "metadata": {},
   "outputs": [
    {
     "name": "stdout",
     "output_type": "stream",
     "text": [
      "is mall open?yes\n",
      "is big bazar open?yes\n",
      "is playstation availbaleyes\n",
      "is there any discountyes\n",
      "buy it\n"
     ]
    }
   ],
   "source": [
    "mall_open=input(\"is mall open?\")\n",
    "if(mall_open==\"yes\"):\n",
    "    big_b=input(\"is big bazar open?\")\n",
    "    if(big_b==\"yes\"):\n",
    "        plays=input(\"is playstation availbale\")\n",
    "        if(plays==\"yes\"):\n",
    "            discount=input(\"is there any discount\")\n",
    "            if(discount==\"yes\"):\n",
    "                print(\"buy it\")\n"
   ]
  },
  {
   "cell_type": "code",
   "execution_count": 32,
   "id": "5a757c2a",
   "metadata": {},
   "outputs": [
    {
     "name": "stdout",
     "output_type": "stream",
     "text": [
      "create your user id:NIKhil\n",
      "ceate your user password:12345\n",
      "entre your user id:nikHIL\n",
      "entre your user password:12345\n",
      "login sucessfully welcome\n"
     ]
    }
   ],
   "source": [
    "s_id=input(\"create your user id:\").lower()\n",
    "s_pd=input(\"ceate your user password:\")\n",
    "l_id=input(\"entre your user id:\").lower()\n",
    "l_pd=input(\"entre your user password:\")\n",
    "if(s_id==l_id and s_pd==l_pd):\n",
    "    print(\"login sucessfully welcome\")\n",
    "else:\n",
    "    print(\"login failed please try again\")"
   ]
  },
  {
   "cell_type": "code",
   "execution_count": 41,
   "id": "b56a509a",
   "metadata": {},
   "outputs": [
    {
     "name": "stdout",
     "output_type": "stream",
     "text": [
      "create your user id:nikhil\n",
      "ceate your user password:12345\n",
      "entre your user id:nikhil\n",
      "entre your user password:12345\n",
      "login sucessfully welcome\n"
     ]
    }
   ],
   "source": [
    "s_id=input(\"create your user id:\").lower()\n",
    "s_pd=input(\"ceate your user password:\")\n",
    "l_id=input(\"entre your user id:\").lower()\n",
    "l_pd=input(\"entre your user password:\")\n",
    "if(s_id==l_id and s_pd==l_pd):\n",
    "    print(\"login sucessfully welcome\")\n",
    "elif(s_id!= l_id ):\n",
    "    print(\"lnvaild id\")\n",
    "    print(\"login failed please try again\")\n",
    "elif(s_pd!=l_pd):\n",
    "    print(\"invaild password\")\n",
    "    print(\"login failed please try again\")\n"
   ]
  },
  {
   "cell_type": "code",
   "execution_count": null,
   "id": "fc35b8c8",
   "metadata": {},
   "outputs": [],
   "source": []
  },
  {
   "cell_type": "code",
   "execution_count": null,
   "id": "4afe9a20",
   "metadata": {},
   "outputs": [],
   "source": []
  },
  {
   "cell_type": "code",
   "execution_count": null,
   "id": "04ccf8b7",
   "metadata": {},
   "outputs": [],
   "source": []
  },
  {
   "cell_type": "code",
   "execution_count": null,
   "id": "bcb58c1a",
   "metadata": {},
   "outputs": [],
   "source": []
  },
  {
   "cell_type": "code",
   "execution_count": null,
   "id": "2251c35a",
   "metadata": {},
   "outputs": [],
   "source": []
  },
  {
   "cell_type": "markdown",
   "id": "74665ce9",
   "metadata": {},
   "source": [
    "# LOOP while and for "
   ]
  },
  {
   "cell_type": "code",
   "execution_count": 3,
   "id": "3e8c93ea",
   "metadata": {},
   "outputs": [
    {
     "name": "stdout",
     "output_type": "stream",
     "text": [
      "1\n",
      "2\n",
      "3\n",
      "4\n",
      "5\n",
      "6\n",
      "7\n",
      "8\n",
      "9\n",
      "10\n"
     ]
    }
   ],
   "source": [
    "#1 to 100 no print\n",
    "i=1\n",
    "while(i<=10):\n",
    "    print(i)\n",
    "    i+=1"
   ]
  },
  {
   "cell_type": "code",
   "execution_count": 1,
   "id": "01f572d5",
   "metadata": {},
   "outputs": [
    {
     "name": "stdout",
     "output_type": "stream",
     "text": [
      "spider man watch\n",
      "spider man watch\n",
      "spider man watch\n",
      "spider man watch\n",
      "spider man watch\n"
     ]
    }
   ],
   "source": [
    "i=1\n",
    "while(i<=5):\n",
    "    print(\"spider man watch\")\n",
    "    i+=1"
   ]
  },
  {
   "cell_type": "code",
   "execution_count": 3,
   "id": "232e94f8",
   "metadata": {},
   "outputs": [
    {
     "name": "stdout",
     "output_type": "stream",
     "text": [
      "hulk movie watch\n",
      "hulk movie watch\n",
      "hulk movie watch\n",
      "hulk movie watch\n",
      "hulk movie watch\n",
      "hulk movie watch\n",
      "hulk movie watch\n",
      "hulk movie watch\n",
      "hulk movie watch\n",
      "hulk movie watch\n"
     ]
    }
   ],
   "source": [
    "i=1\n",
    "while(i<=10):\n",
    "    print(\"hulk movie watch\")\n",
    "    i+=1"
   ]
  },
  {
   "cell_type": "markdown",
   "id": "547524a2",
   "metadata": {},
   "source": [
    "table print"
   ]
  },
  {
   "cell_type": "code",
   "execution_count": 4,
   "id": "eafcd455",
   "metadata": {},
   "outputs": [
    {
     "name": "stdout",
     "output_type": "stream",
     "text": [
      "5\n",
      "10\n",
      "15\n",
      "20\n",
      "25\n",
      "30\n",
      "35\n",
      "40\n",
      "45\n",
      "50\n"
     ]
    }
   ],
   "source": [
    "i=1\n",
    "num=5\n",
    "while(i<=10):\n",
    "    print(num*i)\n",
    "    i+=1"
   ]
  },
  {
   "cell_type": "code",
   "execution_count": 6,
   "id": "bb3957e4",
   "metadata": {},
   "outputs": [
    {
     "name": "stdout",
     "output_type": "stream",
     "text": [
      "entre the no:7\n",
      "7*1=7\n",
      "7*2=14\n",
      "7*3=21\n",
      "7*4=28\n",
      "7*5=35\n",
      "7*6=42\n",
      "7*7=49\n",
      "7*8=56\n",
      "7*9=63\n",
      "7*10=70\n",
      "7*11=77\n",
      "7*12=84\n",
      "7*13=91\n",
      "7*14=98\n",
      "7*15=105\n",
      "7*16=112\n",
      "7*17=119\n",
      "7*18=126\n",
      "7*19=133\n",
      "7*20=140\n",
      "7*21=147\n",
      "7*22=154\n",
      "7*23=161\n",
      "7*24=168\n",
      "7*25=175\n",
      "7*26=182\n",
      "7*27=189\n",
      "7*28=196\n",
      "7*29=203\n",
      "7*30=210\n",
      "7*31=217\n",
      "7*32=224\n",
      "7*33=231\n",
      "7*34=238\n",
      "7*35=245\n",
      "7*36=252\n",
      "7*37=259\n",
      "7*38=266\n",
      "7*39=273\n",
      "7*40=280\n",
      "7*41=287\n",
      "7*42=294\n",
      "7*43=301\n",
      "7*44=308\n",
      "7*45=315\n",
      "7*46=322\n",
      "7*47=329\n",
      "7*48=336\n",
      "7*49=343\n",
      "7*50=350\n",
      "7*51=357\n",
      "7*52=364\n",
      "7*53=371\n",
      "7*54=378\n",
      "7*55=385\n",
      "7*56=392\n",
      "7*57=399\n",
      "7*58=406\n",
      "7*59=413\n",
      "7*60=420\n",
      "7*61=427\n",
      "7*62=434\n",
      "7*63=441\n",
      "7*64=448\n",
      "7*65=455\n",
      "7*66=462\n",
      "7*67=469\n",
      "7*68=476\n",
      "7*69=483\n",
      "7*70=490\n"
     ]
    }
   ],
   "source": [
    "num=int(input(\"entre the no:\"))\n",
    "i=1\n",
    "while(i<=70):\n",
    "    print(f\"{num}*{i}={num*i}\")\n",
    "    i+=1"
   ]
  },
  {
   "cell_type": "markdown",
   "id": "e5c6ece8",
   "metadata": {},
   "source": [
    "take 10 value in input in"
   ]
  },
  {
   "cell_type": "code",
   "execution_count": 1,
   "id": "c330752a",
   "metadata": {},
   "outputs": [
    {
     "name": "stdout",
     "output_type": "stream",
     "text": [
      "entre the number12\n",
      "entre the number2\n",
      "entre the number3\n",
      "entre the number3\n",
      "entre the number4\n",
      "entre the number5\n",
      "entre the number6\n",
      "entre the number7\n",
      "entre the number87\n",
      "entre the number9\n"
     ]
    }
   ],
   "source": [
    "i=1\n",
    "while(i<=10):\n",
    "    x=int(input(\"entre the number\"))\n",
    "    i+=1"
   ]
  },
  {
   "cell_type": "markdown",
   "id": "1bc16574",
   "metadata": {},
   "source": [
    "# sum"
   ]
  },
  {
   "cell_type": "code",
   "execution_count": 6,
   "id": "4116ba40",
   "metadata": {},
   "outputs": [
    {
     "ename": "SyntaxError",
     "evalue": "invalid syntax (2184371298.py, line 10)",
     "output_type": "error",
     "traceback": [
      "\u001b[1;36m  Input \u001b[1;32mIn [6]\u001b[1;36m\u001b[0m\n\u001b[1;33m    trans=0\u001b[0m\n\u001b[1;37m    ^\u001b[0m\n\u001b[1;31mSyntaxError\u001b[0m\u001b[1;31m:\u001b[0m invalid syntax\n"
     ]
    }
   ],
   "source": [
    "bank=0\n",
    "i=1\n",
    "while(i<=3):\n",
    "    money=int(input(\"how much money you to deposite:\"))\n",
    "    bank=bank+money\n",
    "    i+=1 \n",
    "    print(\"total money:{bank}\"\n",
    "          \n",
    "\n",
    "trans=0\n",
    "i=1          \n",
    "while(i<=2):\n",
    "    tranzition=int(input(\"tansition money:\"))\n",
    "    trans=bank-tranzition\n",
    "    \n",
    "print(f\"total money in bank:{trans}\")"
   ]
  },
  {
   "cell_type": "code",
   "execution_count": 7,
   "id": "abeeb3c6",
   "metadata": {},
   "outputs": [
    {
     "name": "stdout",
     "output_type": "stream",
     "text": [
      "how many numbers do you want:3\n",
      "entre the numbers:1\n",
      "entre the numbers:2\n",
      "entre the numbers:3\n",
      "sum of all numbers:6\n",
      "averge:2.0\n"
     ]
    }
   ],
   "source": [
    "i=1\n",
    "s=0\n",
    "numbers=int(input(\"how many numbers do you want:\"))\n",
    "while(i<=numbers):\n",
    "    x=int(input(\"entre the numbers:\"))\n",
    "    s=s+x\n",
    "    i+=1\n",
    "print(f\"sum of all numbers:{s}\")\n",
    "\n",
    "\n",
    "\n",
    "\n",
    "\n",
    "\n",
    "\n",
    "\n",
    "\n",
    "\n",
    "\n",
    "\n",
    "\n",
    "\n",
    "\n",
    "\n",
    "\n",
    "\n",
    "\n",
    "\n",
    "\n",
    "\n",
    "\n",
    "\n",
    "\n",
    "\n",
    "\n",
    "\n",
    "print(f\"averge:{s/numbers}\")"
   ]
  },
  {
   "cell_type": "markdown",
   "id": "b71fbb78",
   "metadata": {},
   "source": [
    "# even no print"
   ]
  },
  {
   "cell_type": "code",
   "execution_count": 2,
   "id": "234a35cd",
   "metadata": {},
   "outputs": [
    {
     "name": "stdout",
     "output_type": "stream",
     "text": [
      "1\n",
      "3\n",
      "5\n",
      "7\n",
      "9\n",
      "11\n",
      "13\n",
      "15\n",
      "17\n",
      "19\n",
      "21\n",
      "23\n",
      "25\n",
      "27\n",
      "29\n",
      "31\n",
      "33\n",
      "35\n",
      "37\n",
      "39\n",
      "41\n",
      "43\n",
      "45\n",
      "47\n",
      "49\n",
      "51\n",
      "53\n",
      "55\n",
      "57\n",
      "59\n",
      "61\n",
      "63\n",
      "65\n",
      "67\n",
      "69\n",
      "71\n",
      "73\n",
      "75\n",
      "77\n",
      "79\n",
      "81\n",
      "83\n",
      "85\n",
      "87\n",
      "89\n",
      "91\n",
      "93\n",
      "95\n",
      "97\n",
      "99\n"
     ]
    }
   ],
   "source": [
    "i=1\n",
    "while(i<=100):\n",
    "    print(i)\n",
    "    i+=2"
   ]
  },
  {
   "cell_type": "markdown",
   "id": "c49b9d79",
   "metadata": {},
   "source": [
    "# ep13"
   ]
  },
  {
   "cell_type": "code",
   "execution_count": 6,
   "id": "8ca161f4",
   "metadata": {},
   "outputs": [
    {
     "name": "stdout",
     "output_type": "stream",
     "text": [
      "entre the number:12\n",
      "entre the number:3\n",
      "entre the number:4\n",
      "entre the number:5\n",
      "entre the number:6\n",
      "entre the number:7\n",
      "entre the number:8\n",
      "entre the number:9\n",
      "entre the number:1\n",
      "entre the number:2\n",
      "total of digit:57\n"
     ]
    }
   ],
   "source": [
    "i=1\n",
    "s=0\n",
    "while(i<=10):\n",
    "    var=int(input(\"entre the number:\"))\n",
    "    s+=var\n",
    "    i+=1\n",
    "print(f\"total of digit:{s}\")"
   ]
  },
  {
   "cell_type": "code",
   "execution_count": 16,
   "id": "d8a511b8",
   "metadata": {},
   "outputs": [
    {
     "name": "stdout",
     "output_type": "stream",
     "text": [
      "entre the number:12\n",
      "entre the number:23\n",
      "entre the number:4\n",
      "entre the number:5\n",
      "entre the number:6\n",
      "multiply of total number:165600\n"
     ]
    }
   ],
   "source": [
    "i=1\n",
    "s=1\n",
    "while(i<=5):\n",
    "    var=int(input(\"entre the number:\"))\n",
    "    s=s*var\n",
    "    v=s*i\n",
    "    i+=1\n",
    "print(f\"multiply of total number:{v}\")"
   ]
  },
  {
   "cell_type": "code",
   "execution_count": 23,
   "id": "72a70eba",
   "metadata": {},
   "outputs": [
    {
     "name": "stdout",
     "output_type": "stream",
     "text": [
      "entre the value:1\n",
      "entre the value:2\n",
      "entre the value:3\n",
      "total multiply of sum:6\n"
     ]
    }
   ],
   "source": [
    "i=1\n",
    "s=1\n",
    "while(i<=3):\n",
    "    var=int(input(\"entre the value:\"))\n",
    "    s=s*var\n",
    "    c=s+var\n",
    "    i+=1\n",
    "print(f\"total multiply of sum:{s}\")"
   ]
  },
  {
   "cell_type": "code",
   "execution_count": 24,
   "id": "77dbb9aa",
   "metadata": {},
   "outputs": [
    {
     "ename": "SyntaxError",
     "evalue": "invalid syntax (2327596422.py, line 2)",
     "output_type": "error",
     "traceback": [
      "\u001b[1;36m  Input \u001b[1;32mIn [24]\u001b[1;36m\u001b[0m\n\u001b[1;33m    while(in loop):\u001b[0m\n\u001b[1;37m          ^\u001b[0m\n\u001b[1;31mSyntaxError\u001b[0m\u001b[1;31m:\u001b[0m invalid syntax\n"
     ]
    }
   ],
   "source": [
    "s=0\n",
    "while(in loop):\n",
    "    var=int(input(\"entre the number\"))\n",
    "    s=s+var\n",
    "    quit=input(\"do you want to quit??\")\n",
    "    if(quit==\"y\"):\n",
    "        inloop=\"braks'"
   ]
  },
  {
   "cell_type": "markdown",
   "id": "4565976a",
   "metadata": {},
   "source": [
    "# break statement"
   ]
  },
  {
   "cell_type": "code",
   "execution_count": 27,
   "id": "f29e521a",
   "metadata": {},
   "outputs": [
    {
     "name": "stdout",
     "output_type": "stream",
     "text": [
      "entre the no:11\n",
      "entre the no:12\n",
      "entre the no:13\n",
      "you are in priented 3 values:\n"
     ]
    }
   ],
   "source": [
    "i=1\n",
    "while(i<=3):\n",
    "    var=int(input(\"entre the no:\"))\n",
    "    if(var<10):\n",
    "        break\n",
    "    i+=1\n",
    "else:\n",
    "    print(\"you are in priented 3 values:\")"
   ]
  },
  {
   "cell_type": "markdown",
   "id": "31153141",
   "metadata": {},
   "source": []
  },
  {
   "cell_type": "code",
   "execution_count": null,
   "id": "a7d9e005",
   "metadata": {},
   "outputs": [],
   "source": []
  },
  {
   "cell_type": "code",
   "execution_count": null,
   "id": "d89639d3",
   "metadata": {},
   "outputs": [],
   "source": []
  },
  {
   "cell_type": "code",
   "execution_count": null,
   "id": "598a07a3",
   "metadata": {},
   "outputs": [],
   "source": []
  },
  {
   "cell_type": "code",
   "execution_count": null,
   "id": "b32295ce",
   "metadata": {},
   "outputs": [],
   "source": []
  },
  {
   "cell_type": "code",
   "execution_count": null,
   "id": "30d0822e",
   "metadata": {},
   "outputs": [],
   "source": []
  },
  {
   "cell_type": "code",
   "execution_count": null,
   "id": "7127511b",
   "metadata": {},
   "outputs": [],
   "source": []
  },
  {
   "cell_type": "code",
   "execution_count": null,
   "id": "9e90ee25",
   "metadata": {},
   "outputs": [],
   "source": []
  },
  {
   "cell_type": "markdown",
   "id": "2c908f5d",
   "metadata": {},
   "source": [
    "# guess the number programe"
   ]
  },
  {
   "cell_type": "code",
   "execution_count": 1,
   "id": "4beb4b3c",
   "metadata": {},
   "outputs": [
    {
     "name": "stdout",
     "output_type": "stream",
     "text": [
      "original number:2\n",
      "entre the no:2\n",
      "you won\n"
     ]
    }
   ],
   "source": [
    "import random\n",
    "chance=1\n",
    "while(chance<=10):\n",
    "    a=random.randint(1,100)\n",
    "    print(f\"original number:{a}\")\n",
    "    guess_number=int(input(\"entre the no:\"))\n",
    "    if(guess_number==a):\n",
    "        print(\"you won\")\n",
    "        break\n",
    "    elif(guess_number>a):\n",
    "        print(\"hint:choose a lower number\")\n",
    "    else:\n",
    "        print(\"hint:choose a higher a number\")\n",
    "    print(f\"------------------------------you have:{10-chance}:chance left----------------------\")\n",
    "    chance=chance+1\n",
    "else:\n",
    "    print(f\"sorry you don't get number try again later\")"
   ]
  },
  {
   "cell_type": "markdown",
   "id": "8afefc13",
   "metadata": {},
   "source": [
    "# ep14 for loop in python"
   ]
  },
  {
   "cell_type": "code",
   "execution_count": 4,
   "id": "4cbf0a05",
   "metadata": {},
   "outputs": [
    {
     "name": "stdout",
     "output_type": "stream",
     "text": [
      "1\n",
      "2\n",
      "3\n",
      "4\n",
      "5\n",
      "6\n"
     ]
    }
   ],
   "source": [
    "d=[1,2,3,4,5,6]\n",
    "for i in d:\n",
    "    print(i)"
   ]
  },
  {
   "cell_type": "code",
   "execution_count": 5,
   "id": "6cb09bc9",
   "metadata": {},
   "outputs": [
    {
     "name": "stdout",
     "output_type": "stream",
     "text": [
      "1\n",
      "2\n",
      "3\n",
      "4\n",
      "5\n",
      "6\n",
      "7\n",
      "8\n",
      "9\n"
     ]
    }
   ],
   "source": [
    "for i in range(1,10):\n",
    "    print(i)"
   ]
  },
  {
   "cell_type": "code",
   "execution_count": 6,
   "id": "e126d323",
   "metadata": {},
   "outputs": [
    {
     "name": "stdout",
     "output_type": "stream",
     "text": [
      "1\n",
      "3\n",
      "5\n",
      "7\n",
      "9\n",
      "11\n",
      "13\n",
      "15\n",
      "17\n",
      "19\n"
     ]
    }
   ],
   "source": [
    "for i in range(1,21,2):\n",
    "    print(i)"
   ]
  },
  {
   "cell_type": "code",
   "execution_count": 10,
   "id": "df919846",
   "metadata": {},
   "outputs": [
    {
     "name": "stdout",
     "output_type": "stream",
     "text": [
      "abhi\n",
      "abhi\n",
      "abhi\n",
      "abhi\n"
     ]
    }
   ],
   "source": [
    "raj=[1,2,3,4]\n",
    "for i in raj:\n",
    "    print('abhi')"
   ]
  },
  {
   "cell_type": "code",
   "execution_count": 11,
   "id": "9649a345",
   "metadata": {},
   "outputs": [
    {
     "name": "stdout",
     "output_type": "stream",
     "text": [
      "1\n",
      "2\n",
      "3\n",
      "4\n",
      "5\n",
      "6\n",
      "7\n",
      "8\n",
      "9\n",
      "10\n"
     ]
    }
   ],
   "source": [
    "for i in range(1,11,1):\n",
    "    print(i)"
   ]
  },
  {
   "cell_type": "code",
   "execution_count": 12,
   "id": "c472fb17",
   "metadata": {},
   "outputs": [
    {
     "name": "stdout",
     "output_type": "stream",
     "text": [
      "1\n",
      "2\n",
      "3\n",
      "4\n",
      "5\n",
      "6\n",
      "7\n",
      "8\n",
      "9\n",
      "10\n"
     ]
    }
   ],
   "source": [
    "for i in range(1,11):\n",
    "    print(i)"
   ]
  },
  {
   "cell_type": "code",
   "execution_count": 13,
   "id": "10eead94",
   "metadata": {},
   "outputs": [
    {
     "name": "stdout",
     "output_type": "stream",
     "text": [
      "0\n",
      "1\n",
      "2\n",
      "3\n",
      "4\n",
      "5\n",
      "6\n",
      "7\n",
      "8\n",
      "9\n",
      "10\n"
     ]
    }
   ],
   "source": [
    "for i in range(11):\n",
    "    print(i)"
   ]
  },
  {
   "cell_type": "code",
   "execution_count": 15,
   "id": "e2a39ae3",
   "metadata": {},
   "outputs": [
    {
     "name": "stdout",
     "output_type": "stream",
     "text": [
      "5\n",
      "15\n",
      "25\n",
      "35\n",
      "45\n"
     ]
    }
   ],
   "source": [
    "for i in range(1,11,2):\n",
    "    print(i*5)"
   ]
  },
  {
   "cell_type": "code",
   "execution_count": 16,
   "id": "78a95795",
   "metadata": {},
   "outputs": [
    {
     "name": "stdout",
     "output_type": "stream",
     "text": [
      "n\n",
      "i\n",
      "k\n",
      "h\n",
      "i\n",
      "l\n"
     ]
    }
   ],
   "source": [
    "for i in \"nikhil\":\n",
    "    print(i)"
   ]
  },
  {
   "cell_type": "code",
   "execution_count": 20,
   "id": "7ff9f8f6",
   "metadata": {},
   "outputs": [
    {
     "name": "stdout",
     "output_type": "stream",
     "text": [
      "s\n",
      "a\n",
      "n\n",
      "k\n",
      "a\n",
      "r\n"
     ]
    }
   ],
   "source": [
    "for i in \"sankar\":\n",
    "    print(i)"
   ]
  },
  {
   "cell_type": "code",
   "execution_count": 23,
   "id": "ccb35276",
   "metadata": {},
   "outputs": [
    {
     "name": "stdout",
     "output_type": "stream",
     "text": [
      "r\n",
      "a\n",
      "h\n",
      "u\n",
      "l\n",
      "k\n"
     ]
    }
   ],
   "source": [
    "for i in \"rahulk\":\n",
    "    print(i)"
   ]
  },
  {
   "cell_type": "code",
   "execution_count": 25,
   "id": "4b0a4d90",
   "metadata": {},
   "outputs": [
    {
     "name": "stdout",
     "output_type": "stream",
     "text": [
      "n\n",
      "e\n",
      "e\n",
      "r\n",
      "a\n",
      "j\n"
     ]
    }
   ],
   "source": [
    "for i in \"neeraj\":\n",
    "    print(i)"
   ]
  },
  {
   "cell_type": "code",
   "execution_count": 26,
   "id": "07e6852c",
   "metadata": {},
   "outputs": [
    {
     "name": "stdout",
     "output_type": "stream",
     "text": [
      "entre the no3\n",
      "3\n",
      "6\n",
      "9\n",
      "12\n",
      "15\n",
      "18\n",
      "21\n",
      "24\n",
      "27\n",
      "30\n"
     ]
    }
   ],
   "source": [
    "num=int(input(\"entre the no:\"))\n",
    "for i in range(num,num*10+1,num):\n",
    "    print(i)"
   ]
  },
  {
   "cell_type": "code",
   "execution_count": 27,
   "id": "b6785354",
   "metadata": {},
   "outputs": [
    {
     "name": "stdout",
     "output_type": "stream",
     "text": [
      "entre the no:22\n",
      "22\n",
      "44\n",
      "66\n",
      "88\n",
      "110\n",
      "132\n",
      "154\n",
      "176\n",
      "198\n",
      "220\n"
     ]
    }
   ],
   "source": [
    "num=int(input(\"entre the no:\"))\n",
    "for i in range(num,num*10+1,num):\n",
    "    print(i)"
   ]
  },
  {
   "cell_type": "code",
   "execution_count": 30,
   "id": "c97c9b6c",
   "metadata": {},
   "outputs": [
    {
     "name": "stdout",
     "output_type": "stream",
     "text": [
      "entre the value:134\n",
      "134\n",
      "268\n",
      "402\n",
      "536\n",
      "670\n",
      "804\n",
      "938\n",
      "1072\n",
      "1206\n",
      "1340\n"
     ]
    }
   ],
   "source": [
    "num=int(input('entre the value:'))\n",
    "for i in range(num,num*10+1,num):\n",
    "    print(i)"
   ]
  },
  {
   "cell_type": "code",
   "execution_count": 34,
   "id": "11ed54d1",
   "metadata": {},
   "outputs": [
    {
     "name": "stdout",
     "output_type": "stream",
     "text": [
      "abhi\n",
      "abhi\n",
      "abhi\n",
      "abhi\n"
     ]
    }
   ],
   "source": [
    "one=[\"raj\",\"rahul\",\"rakesh\",\"raj\"]\n",
    "for i in one :\n",
    "    print(\"abhi\")"
   ]
  },
  {
   "cell_type": "code",
   "execution_count": 36,
   "id": "9557a0b8",
   "metadata": {},
   "outputs": [
    {
     "name": "stdout",
     "output_type": "stream",
     "text": [
      "n\n",
      "i\n",
      "k\n",
      "h\n",
      "i\n",
      "l\n",
      " \n",
      "p\n",
      "a\n",
      "l\n"
     ]
    }
   ],
   "source": [
    "r='nikhil pal'\n",
    "for i in 'nikhil pal':\n",
    "    print(i)"
   ]
  },
  {
   "cell_type": "code",
   "execution_count": 37,
   "id": "36d66d4e",
   "metadata": {},
   "outputs": [
    {
     "name": "stdout",
     "output_type": "stream",
     "text": [
      "nikhil pal\n",
      "nikhil pal\n",
      "nikhil pal\n",
      "nikhil pal\n",
      "nikhil pal\n",
      "nikhil pal\n",
      "nikhil pal\n"
     ]
    }
   ],
   "source": [
    "g=['qwtre','123','45778','-457','78.90','False','0']\n",
    "for i in g:\n",
    "    print(\"nikhil pal\")"
   ]
  },
  {
   "cell_type": "markdown",
   "id": "de6956b1",
   "metadata": {},
   "source": [
    "# ep 15 list"
   ]
  },
  {
   "cell_type": "code",
   "execution_count": 5,
   "id": "bed5200b",
   "metadata": {},
   "outputs": [
    {
     "name": "stdout",
     "output_type": "stream",
     "text": [
      "<class 'list'>\n"
     ]
    }
   ],
   "source": [
    "a=['nikhil','3724','28','parmanent'] #any type of data you can store in list allow duplicate vailue and result comes in list\n",
    "print(type(emp_detils))"
   ]
  },
  {
   "cell_type": "code",
   "execution_count": 6,
   "id": "0c21ed74",
   "metadata": {},
   "outputs": [
    {
     "name": "stdout",
     "output_type": "stream",
     "text": [
      "28\n"
     ]
    }
   ],
   "source": [
    "print(a[2])"
   ]
  },
  {
   "cell_type": "code",
   "execution_count": 7,
   "id": "246a3b60",
   "metadata": {},
   "outputs": [
    {
     "name": "stdout",
     "output_type": "stream",
     "text": [
      "3724\n"
     ]
    }
   ],
   "source": [
    "print(a[1])"
   ]
  },
  {
   "cell_type": "markdown",
   "id": "7ad7121a",
   "metadata": {},
   "source": [
    "# slicing"
   ]
  },
  {
   "cell_type": "code",
   "execution_count": 9,
   "id": "2477f1e8",
   "metadata": {},
   "outputs": [
    {
     "name": "stdout",
     "output_type": "stream",
     "text": [
      "['nikhil', '3724', '28']\n"
     ]
    }
   ],
   "source": [
    "a=['nikhil','3724','28','parmanent','balaji','green shirt','sitargunj']\n",
    "f=a[0:3]\n",
    "print(f)"
   ]
  },
  {
   "cell_type": "code",
   "execution_count": 10,
   "id": "df3eccd4",
   "metadata": {},
   "outputs": [
    {
     "name": "stdout",
     "output_type": "stream",
     "text": [
      "['3724', '28', 'parmanent', 'balaji', 'green shirt', 'sitargunj']\n"
     ]
    }
   ],
   "source": [
    "d=a[1::]\n",
    "print(d)"
   ]
  },
  {
   "cell_type": "code",
   "execution_count": 11,
   "id": "62d194f4",
   "metadata": {},
   "outputs": [
    {
     "name": "stdout",
     "output_type": "stream",
     "text": [
      "['nikhil', '3724', '28', 'parmanent', 'balaji', 'green shirt', 'sitargunj']\n"
     ]
    }
   ],
   "source": [
    "s=a[:7:]\n",
    "print(s)"
   ]
  },
  {
   "cell_type": "code",
   "execution_count": 12,
   "id": "149000f1",
   "metadata": {},
   "outputs": [
    {
     "name": "stdout",
     "output_type": "stream",
     "text": [
      "['nikhil', '28', 'balaji', 'sitargunj']\n"
     ]
    }
   ],
   "source": [
    "c=a[::2]\n",
    "print(c)"
   ]
  },
  {
   "cell_type": "markdown",
   "id": "5f8eac78",
   "metadata": {},
   "source": [
    "mutable data type/ changeble data type"
   ]
  },
  {
   "cell_type": "code",
   "execution_count": 14,
   "id": "14f8a14b",
   "metadata": {},
   "outputs": [
    {
     "name": "stdout",
     "output_type": "stream",
     "text": [
      "1337968454672\n",
      "1337968454704\n"
     ]
    }
   ],
   "source": [
    "d=24\n",
    "print(id(d))\n",
    "d=25\n",
    "print(id(d))"
   ]
  },
  {
   "cell_type": "markdown",
   "id": "a511e6fe",
   "metadata": {},
   "source": [
    "new value replace in list"
   ]
  },
  {
   "cell_type": "code",
   "execution_count": 15,
   "id": "78d6ef01",
   "metadata": {
    "scrolled": true
   },
   "outputs": [
    {
     "name": "stdout",
     "output_type": "stream",
     "text": [
      "['nikhil', 'ram', '28', 'parmanent', 'balaji', 'green shirt', 'sitargunj']\n"
     ]
    }
   ],
   "source": [
    "a=['nikhil','3724','28','parmanent','balaji','green shirt','sitargunj']\n",
    "a[1]=\"ram\"\n",
    "print(a)"
   ]
  },
  {
   "cell_type": "code",
   "execution_count": 16,
   "id": "a15f22e6",
   "metadata": {},
   "outputs": [
    {
     "name": "stdout",
     "output_type": "stream",
     "text": [
      "['nikhil', 'ram', '28', 'parmanent', 'love', 'green shirt', 'sitargunj']\n"
     ]
    }
   ],
   "source": [
    "a=['nikhil', 'ram', '28', 'parmanent', 'balaji', 'green shirt', 'sitargunj']\n",
    "a[4]=\"love\"\n",
    "print(a)"
   ]
  },
  {
   "cell_type": "code",
   "execution_count": 19,
   "id": "72d6e1c5",
   "metadata": {},
   "outputs": [
    {
     "name": "stdout",
     "output_type": "stream",
     "text": [
      "7\n"
     ]
    }
   ],
   "source": [
    "a=['nikhil', 'ram', '28', 'parmanent', 'balaji', 'green shirt', 'sitargunj']\n",
    "x=len(a)\n",
    "print(x)"
   ]
  },
  {
   "cell_type": "code",
   "execution_count": 22,
   "id": "77f580a2",
   "metadata": {},
   "outputs": [
    {
     "name": "stdout",
     "output_type": "stream",
     "text": [
      "sitargunj\n"
     ]
    }
   ],
   "source": [
    "a=['nikhil', 'ram', '28', 'parmanent', 'balaji', 'green shirt', 'sitargunj',\"-12\",\"-1\",\"False\",\"-12.4\"]\n",
    "x=max(a)\n",
    "print(x)"
   ]
  },
  {
   "cell_type": "code",
   "execution_count": 23,
   "id": "89e8f50f",
   "metadata": {},
   "outputs": [
    {
     "name": "stdout",
     "output_type": "stream",
     "text": [
      "-1\n"
     ]
    }
   ],
   "source": [
    "a=['nikhil', 'ram', '28', 'parmanent', 'balaji', 'green shirt', 'sitargunj',\"-12\",\"-1\",\"False\",\"-12.4\"]\n",
    "x=min(a)\n",
    "print(x)"
   ]
  },
  {
   "cell_type": "code",
   "execution_count": 24,
   "id": "b5e16f85",
   "metadata": {},
   "outputs": [
    {
     "name": "stdout",
     "output_type": "stream",
     "text": [
      "['family', 'dog', 'bike', 'work', 'tension', 'sellery']\n"
     ]
    }
   ],
   "source": [
    "# concate of two list \n",
    "home=[\"family\",\"dog\",\"bike\"]\n",
    "office=[\"work\",\"tension\",\"sellery\"]\n",
    "l=home+office\n",
    "print(l)"
   ]
  },
  {
   "cell_type": "code",
   "execution_count": 25,
   "id": "2a9f18eb",
   "metadata": {},
   "outputs": [
    {
     "name": "stdout",
     "output_type": "stream",
     "text": [
      "['nikhil', 'ram', 'rakesh', 'cricket', 'football', 'vollyboll', 'delhi', 'kanpur', 'lucknow']\n"
     ]
    }
   ],
   "source": [
    "#concate of  3 list\n",
    "name=[\"nikhil\",\"ram\",\"rakesh\"]\n",
    "game=[\"cricket\",\"football\",\"vollyboll\"]\n",
    "city=[\"delhi\",\"kanpur\",\"lucknow\"]\n",
    "x=name+game+city\n",
    "print(x)"
   ]
  },
  {
   "cell_type": "markdown",
   "id": "2a65203d",
   "metadata": {},
   "source": [
    "# work in for loop"
   ]
  },
  {
   "cell_type": "code",
   "execution_count": 26,
   "id": "d606d07b",
   "metadata": {},
   "outputs": [
    {
     "name": "stdout",
     "output_type": "stream",
     "text": [
      "1\n",
      "2\n",
      "3\n",
      "4\n",
      "5\n",
      "6\n"
     ]
    }
   ],
   "source": [
    "for i in [1,2,3,4,5,6]:\n",
    "    print(i)\n"
   ]
  },
  {
   "cell_type": "markdown",
   "id": "1e47066d",
   "metadata": {},
   "source": [
    "add the value in list-append function.append add a value at the end of the list."
   ]
  },
  {
   "cell_type": "code",
   "execution_count": 27,
   "id": "1dfae36c",
   "metadata": {},
   "outputs": [
    {
     "name": "stdout",
     "output_type": "stream",
     "text": [
      "['nikhil', 'ram', '28', 'parmanent', 'balaji', 'green shirt', 'sitargunj', '23']\n"
     ]
    }
   ],
   "source": [
    "a=['nikhil', 'ram', '28', 'parmanent', 'balaji', 'green shirt', 'sitargunj']\n",
    "a.append(\"23\")\n",
    "print(a)\n"
   ]
  },
  {
   "cell_type": "code",
   "execution_count": 28,
   "id": "7979b0c6",
   "metadata": {},
   "outputs": [
    {
     "ename": "TypeError",
     "evalue": "list.append() takes exactly one argument (2 given)",
     "output_type": "error",
     "traceback": [
      "\u001b[1;31m---------------------------------------------------------------------------\u001b[0m",
      "\u001b[1;31mTypeError\u001b[0m                                 Traceback (most recent call last)",
      "Input \u001b[1;32mIn [28]\u001b[0m, in \u001b[0;36m<cell line: 2>\u001b[1;34m()\u001b[0m\n\u001b[0;32m      1\u001b[0m a\u001b[38;5;241m=\u001b[39m[\u001b[38;5;124m'\u001b[39m\u001b[38;5;124mnikhil\u001b[39m\u001b[38;5;124m'\u001b[39m, \u001b[38;5;124m'\u001b[39m\u001b[38;5;124mram\u001b[39m\u001b[38;5;124m'\u001b[39m, \u001b[38;5;124m'\u001b[39m\u001b[38;5;124m28\u001b[39m\u001b[38;5;124m'\u001b[39m, \u001b[38;5;124m'\u001b[39m\u001b[38;5;124mparmanent\u001b[39m\u001b[38;5;124m'\u001b[39m, \u001b[38;5;124m'\u001b[39m\u001b[38;5;124mbalaji\u001b[39m\u001b[38;5;124m'\u001b[39m, \u001b[38;5;124m'\u001b[39m\u001b[38;5;124mgreen shirt\u001b[39m\u001b[38;5;124m'\u001b[39m, \u001b[38;5;124m'\u001b[39m\u001b[38;5;124msitargunj\u001b[39m\u001b[38;5;124m'\u001b[39m, \u001b[38;5;124m'\u001b[39m\u001b[38;5;124m23\u001b[39m\u001b[38;5;124m'\u001b[39m]\n\u001b[1;32m----> 2\u001b[0m \u001b[43ma\u001b[49m\u001b[38;5;241;43m.\u001b[39;49m\u001b[43mappend\u001b[49m\u001b[43m(\u001b[49m\u001b[38;5;124;43m\"\u001b[39;49m\u001b[38;5;124;43m12\u001b[39;49m\u001b[38;5;124;43m\"\u001b[39;49m\u001b[43m,\u001b[49m\u001b[38;5;124;43m\"\u001b[39;49m\u001b[38;5;124;43m13\u001b[39;49m\u001b[38;5;124;43m\"\u001b[39;49m\u001b[43m)\u001b[49m\n\u001b[0;32m      3\u001b[0m \u001b[38;5;28mprint\u001b[39m(a)\n",
      "\u001b[1;31mTypeError\u001b[0m: list.append() takes exactly one argument (2 given)"
     ]
    }
   ],
   "source": [
    "a=['nikhil', 'ram', '28', 'parmanent', 'balaji', 'green shirt', 'sitargunj', '23']\n",
    "a.append(\"12\",\"13\")\n",
    "print(a)"
   ]
  },
  {
   "cell_type": "code",
   "execution_count": 29,
   "id": "c0c368d4",
   "metadata": {},
   "outputs": [
    {
     "name": "stderr",
     "output_type": "stream",
     "text": [
      "<>:2: SyntaxWarning: str indices must be integers or slices, not tuple; perhaps you missed a comma?\n",
      "<>:2: SyntaxWarning: str indices must be integers or slices, not tuple; perhaps you missed a comma?\n",
      "C:\\Users\\nikhil pal\\AppData\\Local\\Temp\\ipykernel_13896\\971400624.py:2: SyntaxWarning: str indices must be integers or slices, not tuple; perhaps you missed a comma?\n",
      "  a.append(\"rose\"[\"a\",\"d\"])\n",
      "C:\\Users\\nikhil pal\\AppData\\Local\\Temp\\ipykernel_13896\\971400624.py:2: SyntaxWarning: str indices must be integers or slices, not tuple; perhaps you missed a comma?\n",
      "  a.append(\"rose\"[\"a\",\"d\"])\n",
      "C:\\Users\\nikhil pal\\AppData\\Local\\Temp\\ipykernel_13896\\971400624.py:2: SyntaxWarning: str indices must be integers or slices, not tuple; perhaps you missed a comma?\n",
      "  a.append(\"rose\"[\"a\",\"d\"])\n"
     ]
    },
    {
     "ename": "TypeError",
     "evalue": "string indices must be integers",
     "output_type": "error",
     "traceback": [
      "\u001b[1;31m---------------------------------------------------------------------------\u001b[0m",
      "\u001b[1;31mTypeError\u001b[0m                                 Traceback (most recent call last)",
      "Input \u001b[1;32mIn [29]\u001b[0m, in \u001b[0;36m<cell line: 2>\u001b[1;34m()\u001b[0m\n\u001b[0;32m      1\u001b[0m a\u001b[38;5;241m=\u001b[39m[\u001b[38;5;124m'\u001b[39m\u001b[38;5;124mnikhil\u001b[39m\u001b[38;5;124m'\u001b[39m, \u001b[38;5;124m'\u001b[39m\u001b[38;5;124mram\u001b[39m\u001b[38;5;124m'\u001b[39m, \u001b[38;5;124m'\u001b[39m\u001b[38;5;124m28\u001b[39m\u001b[38;5;124m'\u001b[39m, \u001b[38;5;124m'\u001b[39m\u001b[38;5;124mparmanent\u001b[39m\u001b[38;5;124m'\u001b[39m, \u001b[38;5;124m'\u001b[39m\u001b[38;5;124mbalaji\u001b[39m\u001b[38;5;124m'\u001b[39m, \u001b[38;5;124m'\u001b[39m\u001b[38;5;124mgreen shirt\u001b[39m\u001b[38;5;124m'\u001b[39m, \u001b[38;5;124m'\u001b[39m\u001b[38;5;124msitargunj\u001b[39m\u001b[38;5;124m'\u001b[39m, \u001b[38;5;124m'\u001b[39m\u001b[38;5;124m23\u001b[39m\u001b[38;5;124m'\u001b[39m]\n\u001b[1;32m----> 2\u001b[0m a\u001b[38;5;241m.\u001b[39mappend(\u001b[38;5;124;43m\"\u001b[39;49m\u001b[38;5;124;43mrose\u001b[39;49m\u001b[38;5;124;43m\"\u001b[39;49m\u001b[43m[\u001b[49m\u001b[38;5;124;43m\"\u001b[39;49m\u001b[38;5;124;43ma\u001b[39;49m\u001b[38;5;124;43m\"\u001b[39;49m\u001b[43m,\u001b[49m\u001b[38;5;124;43m\"\u001b[39;49m\u001b[38;5;124;43md\u001b[39;49m\u001b[38;5;124;43m\"\u001b[39;49m\u001b[43m]\u001b[49m)\n\u001b[0;32m      3\u001b[0m \u001b[38;5;28mprint\u001b[39m(a)\n",
      "\u001b[1;31mTypeError\u001b[0m: string indices must be integers"
     ]
    }
   ],
   "source": [
    "a=['nikhil', 'ram', '28', 'parmanent', 'balaji', 'green shirt', 'sitargunj', '23']\n",
    "a.append(\"rose\"[\"a\",\"d\"])\n",
    "print(a)"
   ]
  },
  {
   "cell_type": "code",
   "execution_count": 30,
   "id": "f76ccd5c",
   "metadata": {},
   "outputs": [
    {
     "name": "stdout",
     "output_type": "stream",
     "text": [
      "entre the value:ram\n",
      "['ram']\n"
     ]
    }
   ],
   "source": [
    "s=[]\n",
    "v=input(\"entre the value:\")\n",
    "s.append(v)\n",
    "print(s)"
   ]
  },
  {
   "cell_type": "code",
   "execution_count": 31,
   "id": "77ec9176",
   "metadata": {},
   "outputs": [
    {
     "name": "stdout",
     "output_type": "stream",
     "text": [
      "rntre the value12345566677\n",
      "[12345566677]\n"
     ]
    }
   ],
   "source": [
    "c=[]\n",
    "d=int(input(\"rntre the value\"))\n",
    "c.append(d)\n",
    "print(c)"
   ]
  },
  {
   "cell_type": "code",
   "execution_count": 32,
   "id": "2e67cdf7",
   "metadata": {},
   "outputs": [
    {
     "name": "stdout",
     "output_type": "stream",
     "text": [
      "entre the value:nikhil pal\n",
      "['nikhil pal']\n"
     ]
    }
   ],
   "source": [
    "e=[]\n",
    "d=input(\"entre the value:\")\n",
    "e.append(d)\n",
    "print(e)"
   ]
  },
  {
   "cell_type": "code",
   "execution_count": 33,
   "id": "a0e2797c",
   "metadata": {},
   "outputs": [
    {
     "name": "stdout",
     "output_type": "stream",
     "text": [
      "entre the no:8477900199\n",
      "[8477900199]\n"
     ]
    }
   ],
   "source": [
    "g=[]\n",
    "f=int(input(\"entre the no:\"))\n",
    "g.append(f)\n",
    "print(g)"
   ]
  },
  {
   "cell_type": "code",
   "execution_count": 1,
   "id": "678c06ce",
   "metadata": {},
   "outputs": [
    {
     "name": "stdout",
     "output_type": "stream",
     "text": [
      "entre the name:nikhil love deeksha\n",
      "['nikhil love deeksha']\n"
     ]
    }
   ],
   "source": [
    "g=[]\n",
    "l=input(\"entre the name:\")\n",
    "g.append(l)\n",
    "print(g)"
   ]
  },
  {
   "cell_type": "markdown",
   "id": "5709a032",
   "metadata": {},
   "source": [
    "input value the integer or alphabatic"
   ]
  },
  {
   "cell_type": "code",
   "execution_count": 6,
   "id": "bec5681a",
   "metadata": {},
   "outputs": [
    {
     "name": "stdout",
     "output_type": "stream",
     "text": [
      "entre the value:123\n",
      "entre the value:456\n",
      "entre the value:6787\n",
      "entre the value:nikhil\n",
      "entre the value:raaj\n",
      "final list:[123, 456, 6787, 'nikhil', 'raaj']\n"
     ]
    }
   ],
   "source": [
    "l=[]\n",
    "for i in range(5):\n",
    "    value=input(\"entre the value:\")\n",
    "    if(value. isnumeric()):\n",
    "        l.append(int(value))\n",
    "    else:\n",
    "        l.append(value)\n",
    "        \n",
    "\n",
    "print(f\"final list:{l}\")"
   ]
  },
  {
   "cell_type": "markdown",
   "id": "0551f493",
   "metadata": {},
   "source": [
    "# extend function()"
   ]
  },
  {
   "cell_type": "code",
   "execution_count": 7,
   "id": "522b05f1",
   "metadata": {},
   "outputs": [
    {
     "name": "stdout",
     "output_type": "stream",
     "text": [
      "['noida', 'delhi', 'noida', ['pune', 'delhi', 'noida']]\n"
     ]
    }
   ],
   "source": [
    "l=[\"noida\",'delhi','noida']\n",
    "l.append(['pune','delhi','noida'])\n",
    "print(l)\n"
   ]
  },
  {
   "cell_type": "code",
   "execution_count": 8,
   "id": "ca5ef8ae",
   "metadata": {},
   "outputs": [
    {
     "name": "stdout",
     "output_type": "stream",
     "text": [
      "['noida', 'delhi', 'noida', 'pune', 'delhi', 'noida']\n"
     ]
    }
   ],
   "source": [
    "l=[\"noida\",'delhi','noida']\n",
    "l.extend(['pune','delhi','noida'])\n",
    "print(l)"
   ]
  },
  {
   "cell_type": "code",
   "execution_count": 9,
   "id": "53b46400",
   "metadata": {},
   "outputs": [
    {
     "name": "stdout",
     "output_type": "stream",
     "text": [
      "['nikhil', 'balaji', '3724', 'love', 'sex', 'wax']\n"
     ]
    }
   ],
   "source": [
    "l=[\"nikhil\",\"balaji\",\"3724\"]\n",
    "l.extend([\"love\",'sex','wax'])\n",
    "print(l)"
   ]
  },
  {
   "cell_type": "code",
   "execution_count": null,
   "id": "29b376a2",
   "metadata": {},
   "outputs": [],
   "source": []
  },
  {
   "cell_type": "code",
   "execution_count": null,
   "id": "e69911b9",
   "metadata": {},
   "outputs": [],
   "source": []
  },
  {
   "cell_type": "markdown",
   "id": "ca2228ac",
   "metadata": {},
   "source": [
    "insert() method"
   ]
  },
  {
   "cell_type": "code",
   "execution_count": 10,
   "id": "41c39418",
   "metadata": {},
   "outputs": [
    {
     "name": "stdout",
     "output_type": "stream",
     "text": [
      "['nikhil', 'python', 'love', '670']\n"
     ]
    }
   ],
   "source": [
    "l=['nikhil','python','670']\n",
    "l.insert(2,\"love\")\n",
    "print(l)"
   ]
  },
  {
   "cell_type": "code",
   "execution_count": 11,
   "id": "bfd58968",
   "metadata": {},
   "outputs": [
    {
     "name": "stdout",
     "output_type": "stream",
     "text": [
      "['love', False, 'girl', 'bus', '-90']\n"
     ]
    }
   ],
   "source": [
    "z=['love','sex'<\"1234\",\"girl\",\"-90\"]\n",
    "z.insert(3,\"bus\")\n",
    "print(z)"
   ]
  },
  {
   "cell_type": "code",
   "execution_count": 12,
   "id": "d634881f",
   "metadata": {},
   "outputs": [
    {
     "name": "stdout",
     "output_type": "stream",
     "text": [
      "['kilo', 'has', 'nikhil', 'hi', 'v']\n"
     ]
    }
   ],
   "source": [
    "v=['kilo','has','hi','v']\n",
    "v.insert(2,\"nikhil\")\n",
    "print(v)"
   ]
  },
  {
   "cell_type": "code",
   "execution_count": null,
   "id": "e1266bad",
   "metadata": {},
   "outputs": [],
   "source": []
  },
  {
   "cell_type": "code",
   "execution_count": null,
   "id": "636e5583",
   "metadata": {},
   "outputs": [],
   "source": []
  },
  {
   "cell_type": "code",
   "execution_count": null,
   "id": "2adc9977",
   "metadata": {},
   "outputs": [],
   "source": []
  },
  {
   "cell_type": "markdown",
   "id": "59d52aff",
   "metadata": {},
   "source": [
    "remove()method"
   ]
  },
  {
   "cell_type": "code",
   "execution_count": 13,
   "id": "974958d3",
   "metadata": {},
   "outputs": [
    {
     "name": "stdout",
     "output_type": "stream",
     "text": [
      "['love', 'sex']\n"
     ]
    }
   ],
   "source": [
    "l=[\"love\",\"sex\",'girl']\n",
    "l.remove(\"girl\")\n",
    "print(l)"
   ]
  },
  {
   "cell_type": "code",
   "execution_count": 14,
   "id": "52f51e7e",
   "metadata": {},
   "outputs": [
    {
     "name": "stdout",
     "output_type": "stream",
     "text": [
      "['love', 'girl', 'gun']\n"
     ]
    }
   ],
   "source": [
    "o=[\"love\",\"girl\",\"rose\",\"gun\"]\n",
    "o.remove(\"rose\")\n",
    "print(o)"
   ]
  },
  {
   "cell_type": "markdown",
   "id": "74fb3f26",
   "metadata": {},
   "source": [
    "remove programe"
   ]
  },
  {
   "cell_type": "code",
   "execution_count": 20,
   "id": "f7f6f27e",
   "metadata": {},
   "outputs": [
    {
     "name": "stdout",
     "output_type": "stream",
     "text": [
      "entre the value:love\n",
      "entre the value:rose\n",
      "entre the value:girl\n",
      "final list:['gun']\n"
     ]
    }
   ],
   "source": [
    "o=[\"love\",\"girl\",\"rose\",\"gun\"]\n",
    "for i in range(3):\n",
    "    value=input(\"entre the value:\")\n",
    "    o.remove(value)\n",
    "print(f\"final list:{o}\")"
   ]
  },
  {
   "cell_type": "code",
   "execution_count": null,
   "id": "e4106b47",
   "metadata": {},
   "outputs": [],
   "source": []
  },
  {
   "cell_type": "code",
   "execution_count": null,
   "id": "ed1bbf97",
   "metadata": {},
   "outputs": [],
   "source": []
  },
  {
   "cell_type": "code",
   "execution_count": null,
   "id": "df68dd3d",
   "metadata": {},
   "outputs": [],
   "source": []
  },
  {
   "cell_type": "code",
   "execution_count": 21,
   "id": "79c2b1cc",
   "metadata": {},
   "outputs": [
    {
     "name": "stdout",
     "output_type": "stream",
     "text": [
      "yes\n"
     ]
    }
   ],
   "source": [
    "emp=[\"1213\",\"wer\",\"nikhil\",\"ghi\"]\n",
    "if(\"nikhil\"in emp):\n",
    "    print(\"yes\")\n",
    "else:\n",
    "    print(\"no\")"
   ]
  },
  {
   "cell_type": "code",
   "execution_count": 22,
   "id": "77a1d246",
   "metadata": {},
   "outputs": [
    {
     "name": "stdout",
     "output_type": "stream",
     "text": [
      "['1213', 'wer', 'ghi', 'rakesh']\n"
     ]
    }
   ],
   "source": [
    "emp=[\"1213\",\"wer\",\"nikhil\",\"ghi\",\"rakesh\"]\n",
    "if(\"nikhil\" in emp):\n",
    "    emp.remove(\"nikhil\")\n",
    "print(emp)"
   ]
  },
  {
   "cell_type": "code",
   "execution_count": 23,
   "id": "fb50cd66",
   "metadata": {},
   "outputs": [
    {
     "name": "stdout",
     "output_type": "stream",
     "text": [
      "['1213', 'wer', 'nikhil', 'ghi', 'rakesh', 'pandit']\n"
     ]
    }
   ],
   "source": [
    "emp=[\"1213\",\"wer\",\"nikhil\",\"ghi\",\"rakesh\",\"pandit\",\"12\"]\n",
    "if(\"12\" in emp):\n",
    "    emp.remove('12')\n",
    "print(emp)"
   ]
  },
  {
   "cell_type": "markdown",
   "id": "3eabc6fd",
   "metadata": {},
   "source": [
    "# pop()method"
   ]
  },
  {
   "cell_type": "code",
   "execution_count": 3,
   "id": "8fd016a2",
   "metadata": {},
   "outputs": [
    {
     "name": "stdout",
     "output_type": "stream",
     "text": [
      "['123', 'rahul']\n"
     ]
    }
   ],
   "source": [
    "emo=[\"123\",\"nikhil\",\"rahul\"]\n",
    "emo.pop(1)\n",
    "print(emo)"
   ]
  },
  {
   "cell_type": "code",
   "execution_count": 4,
   "id": "1072548a",
   "metadata": {},
   "outputs": [
    {
     "name": "stdout",
     "output_type": "stream",
     "text": [
      "['nikhil', 'balaji', 'yes']\n",
      "3724\n"
     ]
    }
   ],
   "source": [
    "company=[\"nikhil\",'balaji','3724','yes']\n",
    "g=company.pop(2)\n",
    "print(company)\n",
    "print(g)"
   ]
  },
  {
   "cell_type": "code",
   "execution_count": 10,
   "id": "19ce8396",
   "metadata": {},
   "outputs": [
    {
     "name": "stdout",
     "output_type": "stream",
     "text": [
      "['1213', 'wer', 'nikhil', 'rakesh', 'pandit', '12']\n",
      "ghi\n"
     ]
    }
   ],
   "source": [
    "emp=[\"1213\",\"wer\",\"nikhil\",\"ghi\",\"rakesh\",\"pandit\",\"12\"]\n",
    "k=emp.pop(3)\n",
    "print(emp)\n",
    "print(k)"
   ]
  },
  {
   "cell_type": "code",
   "execution_count": null,
   "id": "811c1736",
   "metadata": {},
   "outputs": [],
   "source": []
  },
  {
   "cell_type": "code",
   "execution_count": null,
   "id": "0b5f05c4",
   "metadata": {},
   "outputs": [],
   "source": []
  },
  {
   "cell_type": "code",
   "execution_count": null,
   "id": "af10cbca",
   "metadata": {},
   "outputs": [],
   "source": []
  },
  {
   "cell_type": "markdown",
   "id": "af739201",
   "metadata": {},
   "source": [
    "# function type "
   ]
  },
  {
   "cell_type": "code",
   "execution_count": 12,
   "id": "f1a569b9",
   "metadata": {},
   "outputs": [
    {
     "name": "stdout",
     "output_type": "stream",
     "text": [
      "nkkhkl\n"
     ]
    }
   ],
   "source": [
    "emp='nikhil'             # this type is function is return type  fuction\n",
    "x=emp.replace('i','k')\n",
    "print(x)"
   ]
  },
  {
   "cell_type": "code",
   "execution_count": 13,
   "id": "6f52910f",
   "metadata": {},
   "outputs": [
    {
     "name": "stdout",
     "output_type": "stream",
     "text": [
      "['nikhil', 'rahul', 'suresh', 'abhishek']\n"
     ]
    }
   ],
   "source": [
    "emp=[\"nikhil\",\"rahul\",\"suresh\"]       ## this type is function is not return type  fuction\n",
    "emp.append(\"abhishek\")\n",
    "print(emp)"
   ]
  },
  {
   "cell_type": "markdown",
   "id": "9511c03f",
   "metadata": {},
   "source": [
    "clear method()"
   ]
  },
  {
   "cell_type": "code",
   "execution_count": 16,
   "id": "9c13defc",
   "metadata": {},
   "outputs": [
    {
     "name": "stdout",
     "output_type": "stream",
     "text": [
      "[]\n"
     ]
    }
   ],
   "source": [
    "l=[\"nikhil\",\"mukesh\",\"123\",\"-23\"]\n",
    "l.clear()\n",
    "print(l)"
   ]
  },
  {
   "cell_type": "code",
   "execution_count": 17,
   "id": "2a98f26d",
   "metadata": {},
   "outputs": [
    {
     "name": "stdout",
     "output_type": "stream",
     "text": [
      "[]\n"
     ]
    }
   ],
   "source": [
    "l=[\"123\",\"nikhill\",\"rahul\",\"123234\"]\n",
    "l.clear()\n",
    "print(l)"
   ]
  },
  {
   "cell_type": "markdown",
   "id": "f09cceac",
   "metadata": {},
   "source": [
    "copy( method)"
   ]
  },
  {
   "cell_type": "code",
   "execution_count": 21,
   "id": "650b128f",
   "metadata": {},
   "outputs": [
    {
     "name": "stdout",
     "output_type": "stream",
     "text": [
      "2023895689648 2023895689680\n"
     ]
    }
   ],
   "source": [
    "a=5\n",
    "b=6\n",
    "print(id(a),id(b))\n"
   ]
  },
  {
   "cell_type": "code",
   "execution_count": 22,
   "id": "2117fdad",
   "metadata": {},
   "outputs": [
    {
     "name": "stdout",
     "output_type": "stream",
     "text": [
      "2023895689648 2023895689648\n"
     ]
    }
   ],
   "source": [
    "a=5\n",
    "b=a\n",
    "print(id(a),id(b))"
   ]
  },
  {
   "cell_type": "code",
   "execution_count": 28,
   "id": "9cca7adc",
   "metadata": {},
   "outputs": [
    {
     "name": "stdout",
     "output_type": "stream",
     "text": [
      "[1, 2, 3] [1, 2, 3]\n",
      "[1, 2, 3, 4] [1, 2, 3, 4]\n",
      "2024011211968 2024011211968\n"
     ]
    }
   ],
   "source": [
    "a=[1,2,3]\n",
    "b=a\n",
    "print(a,b)\n",
    "a.append(4)\n",
    "print(a,b)\n",
    "print(id(a),id(b))"
   ]
  },
  {
   "cell_type": "markdown",
   "id": "f0b7d2a0",
   "metadata": {},
   "source": [
    "list reference"
   ]
  },
  {
   "cell_type": "code",
   "execution_count": 32,
   "id": "af6717e0",
   "metadata": {},
   "outputs": [
    {
     "name": "stdout",
     "output_type": "stream",
     "text": [
      "[1, 2, 3, 4] [1, 2, 3, 4]\n",
      "[1, 2, 3, 4, 5] [1, 2, 3, 4]\n",
      "2024010835584 2024010801408\n"
     ]
    }
   ],
   "source": [
    "a=[1,2,3,4]\n",
    "b=a.copy()\n",
    "print(a,b)\n",
    "a.append(5)\n",
    "print(a,b)\n",
    "print(id(a),id(b))"
   ]
  },
  {
   "cell_type": "markdown",
   "id": "525983b5",
   "metadata": {},
   "source": [
    "reverse method"
   ]
  },
  {
   "cell_type": "code",
   "execution_count": 35,
   "id": "c855477c",
   "metadata": {},
   "outputs": [
    {
     "name": "stdout",
     "output_type": "stream",
     "text": [
      "[1, 2, 3, 4, 5, 40, 60, 456, 567]\n"
     ]
    }
   ],
   "source": [
    "a=[1,2,3,4,5,567,456,60,40] #asending order\n",
    "a.sort()\n",
    "print(a)"
   ]
  },
  {
   "cell_type": "code",
   "execution_count": 37,
   "id": "0c64d224",
   "metadata": {},
   "outputs": [
    {
     "name": "stdout",
     "output_type": "stream",
     "text": [
      "[1, 2, 2, 3, 3, 4, 4, 5, 5, 6, 6, 7, 7, 8, 8, 9, 30, 50, 55, 66, 91]\n"
     ]
    }
   ],
   "source": [
    "s=[1,2,3,4,5,6,7,8,9,3,4,5,6,7,8,91,2,50,55,66,30]\n",
    "s.sort()\n",
    "print(s)"
   ]
  },
  {
   "cell_type": "code",
   "execution_count": 38,
   "id": "92e5c5c0",
   "metadata": {},
   "outputs": [
    {
     "name": "stdout",
     "output_type": "stream",
     "text": [
      "[91, 66, 55, 50, 30, 9, 8, 8, 7, 7, 6, 6, 5, 5, 4, 4, 3, 3, 2, 2, 1]\n"
     ]
    }
   ],
   "source": [
    "a=[1,2,3,4,5,6,7,8,9,3,4,5,6,7,8,91,2,50,55,66,30] #descending order\n",
    "a.sort(reverse=True)\n",
    "print(a)"
   ]
  },
  {
   "cell_type": "code",
   "execution_count": 39,
   "id": "9c18f684",
   "metadata": {},
   "outputs": [
    {
     "name": "stdout",
     "output_type": "stream",
     "text": [
      "[678, 566, 566, 456, 456, 333, 200, 109, 100, 90, 90, 50, 45, 8, 8, 7]\n"
     ]
    }
   ],
   "source": [
    "b=[90,50,45,100,109,200,566,333,456,678,456,7,8,8,90,566]\n",
    "b.sort(reverse=True)\n",
    "print(b)"
   ]
  },
  {
   "cell_type": "markdown",
   "id": "a322f5b9",
   "metadata": {},
   "source": [
    "del() method"
   ]
  },
  {
   "cell_type": "code",
   "execution_count": 47,
   "id": "20146c3b",
   "metadata": {},
   "outputs": [
    {
     "name": "stdout",
     "output_type": "stream",
     "text": [
      "1233\n"
     ]
    },
    {
     "ename": "NameError",
     "evalue": "name 'a' is not defined",
     "output_type": "error",
     "traceback": [
      "\u001b[1;31m---------------------------------------------------------------------------\u001b[0m",
      "\u001b[1;31mNameError\u001b[0m                                 Traceback (most recent call last)",
      "Input \u001b[1;32mIn [47]\u001b[0m, in \u001b[0;36m<cell line: 4>\u001b[1;34m()\u001b[0m\n\u001b[0;32m      2\u001b[0m \u001b[38;5;28mprint\u001b[39m(\u001b[38;5;28mmax\u001b[39m(a))\n\u001b[0;32m      3\u001b[0m \u001b[38;5;28;01mdel\u001b[39;00m(a)\n\u001b[1;32m----> 4\u001b[0m \u001b[38;5;28mprint\u001b[39m(\u001b[43ma\u001b[49m)\n",
      "\u001b[1;31mNameError\u001b[0m: name 'a' is not defined"
     ]
    }
   ],
   "source": [
    "a=[1,2,3,4,5,6,78,1233,5,6,7,889]\n",
    "print(max(a))\n",
    "del(a)\n",
    "print(a)"
   ]
  },
  {
   "cell_type": "code",
   "execution_count": 46,
   "id": "17754a27",
   "metadata": {},
   "outputs": [
    {
     "ename": "NameError",
     "evalue": "name 'a' is not defined",
     "output_type": "error",
     "traceback": [
      "\u001b[1;31m---------------------------------------------------------------------------\u001b[0m",
      "\u001b[1;31mNameError\u001b[0m                                 Traceback (most recent call last)",
      "Input \u001b[1;32mIn [46]\u001b[0m, in \u001b[0;36m<cell line: 1>\u001b[1;34m()\u001b[0m\n\u001b[1;32m----> 1\u001b[0m \u001b[43ma\u001b[49m\n",
      "\u001b[1;31mNameError\u001b[0m: name 'a' is not defined"
     ]
    }
   ],
   "source": [
    "a"
   ]
  },
  {
   "cell_type": "markdown",
   "id": "35a758da",
   "metadata": {},
   "source": [
    "# take 10 integer and print then list"
   ]
  },
  {
   "cell_type": "code",
   "execution_count": 1,
   "id": "60d7b00c",
   "metadata": {},
   "outputs": [
    {
     "name": "stdout",
     "output_type": "stream",
     "text": [
      "entre the no:12\n",
      "entre the no:3\n",
      "entre the no:34\n",
      "entre the no:5\n",
      "entre the no:67\n",
      "[12, 3, 34, 5, 67]\n"
     ]
    }
   ],
   "source": [
    "a=[]\n",
    "for i in range(5):\n",
    "    var=int(input(\"entre the no:\"))\n",
    "    a.append(var)\n",
    "print(a)"
   ]
  },
  {
   "cell_type": "code",
   "execution_count": 2,
   "id": "49959917",
   "metadata": {},
   "outputs": [
    {
     "name": "stdout",
     "output_type": "stream",
     "text": [
      "entre the sentence:nikhil\n",
      "entre the sentence:love\n",
      "entre the sentence:himself\n",
      "entre the sentence:by world\n",
      "entre the sentence:in this\n",
      "['nikhil', 'love', 'himself', 'by world', 'in this']\n"
     ]
    }
   ],
   "source": [
    "a=[]\n",
    "for i in range(5):\n",
    "    var=input(\"entre the sentence:\")\n",
    "    a.append(var)\n",
    "print(a)"
   ]
  },
  {
   "cell_type": "markdown",
   "id": "a121dc4d",
   "metadata": {},
   "source": [
    "count() function"
   ]
  },
  {
   "cell_type": "code",
   "execution_count": 3,
   "id": "ea440fe4",
   "metadata": {},
   "outputs": [
    {
     "data": {
      "text/plain": [
       "3"
      ]
     },
     "execution_count": 3,
     "metadata": {},
     "output_type": "execute_result"
    }
   ],
   "source": [
    "ny=[1,2,3,4,5,6,6,6,7,7,8,9,19]\n",
    "ny.count(6)"
   ]
  },
  {
   "cell_type": "code",
   "execution_count": 5,
   "id": "dd551ac2",
   "metadata": {},
   "outputs": [
    {
     "name": "stdout",
     "output_type": "stream",
     "text": [
      "1\n"
     ]
    }
   ],
   "source": [
    "ny=[1,2,3,4,5,6,6,6,7,7,8,8,8,8,8,9,19]\n",
    "s=ny.count(9)\n",
    "print(s)"
   ]
  },
  {
   "cell_type": "markdown",
   "id": "2d027241",
   "metadata": {},
   "source": [
    "# index () function"
   ]
  },
  {
   "cell_type": "code",
   "execution_count": 6,
   "id": "189dc203",
   "metadata": {},
   "outputs": [
    {
     "data": {
      "text/plain": [
       "10"
      ]
     },
     "execution_count": 6,
     "metadata": {},
     "output_type": "execute_result"
    }
   ],
   "source": [
    "ny=[1,2,3,4,5,6,6,6,7,7,\"abhi\",8,8,8,8,8,9,19]\n",
    "ny.index(\"abhi\")\n",
    "\n"
   ]
  },
  {
   "cell_type": "code",
   "execution_count": 7,
   "id": "47f29fa2",
   "metadata": {},
   "outputs": [
    {
     "name": "stdout",
     "output_type": "stream",
     "text": [
      "17\n"
     ]
    }
   ],
   "source": [
    "ny=[1,2,3,4,5,6,6,6,7,7,\"abhi\",8,8,8,8,8,9,19]\n",
    "x=ny.index(19)\n",
    "print(x)"
   ]
  },
  {
   "cell_type": "code",
   "execution_count": 13,
   "id": "485a04f9",
   "metadata": {},
   "outputs": [
    {
     "ename": "NameError",
     "evalue": "name 'numers' is not defined",
     "output_type": "error",
     "traceback": [
      "\u001b[1;31m---------------------------------------------------------------------------\u001b[0m",
      "\u001b[1;31mNameError\u001b[0m                                 Traceback (most recent call last)",
      "Input \u001b[1;32mIn [13]\u001b[0m, in \u001b[0;36m<cell line: 6>\u001b[1;34m()\u001b[0m\n\u001b[0;32m      4\u001b[0m pos_list\u001b[38;5;241m=\u001b[39m[]\n\u001b[0;32m      5\u001b[0m neg_list\u001b[38;5;241m=\u001b[39m[]\n\u001b[1;32m----> 6\u001b[0m \u001b[38;5;28;01mfor\u001b[39;00m x \u001b[38;5;129;01min\u001b[39;00m \u001b[43mnumers\u001b[49m:\n\u001b[0;32m      7\u001b[0m     \u001b[38;5;28;01mif\u001b[39;00m (x\u001b[38;5;241m%\u001b[39m\u001b[38;5;241m2\u001b[39m\u001b[38;5;241m==\u001b[39m\u001b[38;5;241m0\u001b[39m):\n\u001b[0;32m      8\u001b[0m         even_list\u001b[38;5;241m.\u001b[39mappend(x)\n",
      "\u001b[1;31mNameError\u001b[0m: name 'numers' is not defined"
     ]
    }
   ],
   "source": [
    "x=[12,222,30,11,33,19,-12,-23,-34,56.56,55.78]\n",
    "even_list=[]\n",
    "odd_list=[]\n",
    "pos_list=[]\n",
    "neg_list=[]\n",
    "for x in numers:\n",
    "    if (x%2==0):\n",
    "        even_list.append(x)\n",
    "    else:\n",
    "        odd_list.append(x)\n",
    "    if(x<0):\n",
    "         pos_list.append(x)\n",
    "    else:\n",
    "         neg_list.append(x)"
   ]
  },
  {
   "cell_type": "markdown",
   "id": "83a5c94d",
   "metadata": {},
   "source": [
    "tuple ()"
   ]
  },
  {
   "cell_type": "code",
   "execution_count": 8,
   "id": "aee96c0c",
   "metadata": {},
   "outputs": [
    {
     "name": "stdout",
     "output_type": "stream",
     "text": [
      "('nikhil', 'ram', 'mohit', 12, 'mohit')\n",
      "<class 'tuple'>\n"
     ]
    }
   ],
   "source": [
    "name=('nikhil',\"ram\",\"mohit\",12,\"mohit\")\n",
    "print(name)\n",
    "print(type(name))"
   ]
  },
  {
   "cell_type": "code",
   "execution_count": 4,
   "id": "3e2f9f9e",
   "metadata": {},
   "outputs": [
    {
     "data": {
      "text/plain": [
       "('nikhil', 'ram', 'mohit')"
      ]
     },
     "execution_count": 4,
     "metadata": {},
     "output_type": "execute_result"
    }
   ],
   "source": [
    "name[0:3]"
   ]
  },
  {
   "cell_type": "code",
   "execution_count": 5,
   "id": "b19bebff",
   "metadata": {},
   "outputs": [
    {
     "data": {
      "text/plain": [
       "('nikhil', 'ram', 'mohit', 12)"
      ]
     },
     "execution_count": 5,
     "metadata": {},
     "output_type": "execute_result"
    }
   ],
   "source": [
    "name[:4]"
   ]
  },
  {
   "cell_type": "code",
   "execution_count": 6,
   "id": "9830ab05",
   "metadata": {},
   "outputs": [
    {
     "data": {
      "text/plain": [
       "('nikhil', 'ram', 'mohit', 12)"
      ]
     },
     "execution_count": 6,
     "metadata": {},
     "output_type": "execute_result"
    }
   ],
   "source": [
    "name[0:]"
   ]
  },
  {
   "cell_type": "code",
   "execution_count": 7,
   "id": "fecf89f9",
   "metadata": {},
   "outputs": [
    {
     "data": {
      "text/plain": [
       "('nikhil', 'mohit')"
      ]
     },
     "execution_count": 7,
     "metadata": {},
     "output_type": "execute_result"
    }
   ],
   "source": [
    "name[::2]"
   ]
  },
  {
   "cell_type": "markdown",
   "id": "a4a2eeba",
   "metadata": {},
   "source": [
    "two tuple add them"
   ]
  },
  {
   "cell_type": "code",
   "execution_count": 11,
   "id": "89c5ac29",
   "metadata": {},
   "outputs": [
    {
     "name": "stdout",
     "output_type": "stream",
     "text": [
      "nikhil\n",
      "ram\n",
      "mohit\n",
      "12\n",
      "mohit\n"
     ]
    }
   ],
   "source": [
    "for i in name:\n",
    "    print(i)\n",
    "    name.count(\"mohit\")"
   ]
  },
  {
   "cell_type": "code",
   "execution_count": 13,
   "id": "bbbc99f2",
   "metadata": {},
   "outputs": [
    {
     "name": "stdout",
     "output_type": "stream",
     "text": [
      "<class 'tuple'>\n"
     ]
    }
   ],
   "source": [
    "names=(4,5)+(6,7)\n",
    "print(type(names))"
   ]
  },
  {
   "cell_type": "code",
   "execution_count": 16,
   "id": "e1204a1d",
   "metadata": {},
   "outputs": [
    {
     "name": "stdout",
     "output_type": "stream",
     "text": [
      "10\n",
      "<class 'int'>\n"
     ]
    }
   ],
   "source": [
    "name=(4)+(6)\n",
    "print(name)\n",
    "print(type(name))"
   ]
  },
  {
   "cell_type": "code",
   "execution_count": 17,
   "id": "52d7cb5c",
   "metadata": {},
   "outputs": [
    {
     "name": "stdout",
     "output_type": "stream",
     "text": [
      "(4, 6)\n"
     ]
    }
   ],
   "source": [
    "name=(4,)+(6,)\n",
    "print(name)"
   ]
  },
  {
   "cell_type": "code",
   "execution_count": 18,
   "id": "463415e6",
   "metadata": {},
   "outputs": [
    {
     "name": "stdout",
     "output_type": "stream",
     "text": [
      "<class 'tuple'>\n"
     ]
    }
   ],
   "source": [
    "print(type(name))"
   ]
  },
  {
   "cell_type": "markdown",
   "id": "ed551cf3",
   "metadata": {},
   "source": [
    "# dict()"
   ]
  },
  {
   "cell_type": "code",
   "execution_count": 19,
   "id": "9145d37f",
   "metadata": {},
   "outputs": [],
   "source": [
    "emp={\"name\":\"nikhil\",\"emp_code\":\"3724\"}\n"
   ]
  },
  {
   "cell_type": "code",
   "execution_count": 20,
   "id": "6528f0b4",
   "metadata": {},
   "outputs": [],
   "source": [
    "emp[\"name\"]=\"mohit\""
   ]
  },
  {
   "cell_type": "code",
   "execution_count": 21,
   "id": "8fec6e10",
   "metadata": {},
   "outputs": [
    {
     "data": {
      "text/plain": [
       "{'name': 'mohit', 'emp_code': '3724'}"
      ]
     },
     "execution_count": 21,
     "metadata": {},
     "output_type": "execute_result"
    }
   ],
   "source": [
    "emp"
   ]
  },
  {
   "cell_type": "code",
   "execution_count": 24,
   "id": "25f5f178",
   "metadata": {},
   "outputs": [
    {
     "name": "stdout",
     "output_type": "stream",
     "text": [
      "welcome\n"
     ]
    }
   ],
   "source": [
    "n=emp[\"name\"]\n",
    "if(n=='mohit'):\n",
    "    print(\"welcome\")\n",
    "else:\n",
    "    print(\"not welcome\")"
   ]
  },
  {
   "cell_type": "code",
   "execution_count": 4,
   "id": "79e0e817",
   "metadata": {},
   "outputs": [
    {
     "name": "stdout",
     "output_type": "stream",
     "text": [
      "entre the empolyee namenikhil\n",
      "present in our data\n"
     ]
    }
   ],
   "source": [
    "emp_detils={\n",
    "    \"name\":[\"nikhil\",'mohit','mukesh',\"rahul\"],\n",
    "    \"company\":['genpact','lg','cyinet','maq'],\n",
    "    \"leave\":[10,12,17,20],\n",
    "}\n",
    "empolyee=input(\"entre the empolyee name\")\n",
    "empolyees= emp_detils['name']\n",
    "if(empolyee in empolyees):\n",
    "    print(\"present in our data\")\n",
    "else:\n",
    "    print(\"not is our data\")"
   ]
  },
  {
   "cell_type": "code",
   "execution_count": 4,
   "id": "c1ef1cfc",
   "metadata": {},
   "outputs": [
    {
     "name": "stdout",
     "output_type": "stream",
     "text": [
      "entre the empolyee name:rahul\n",
      "Employee company name:maq Balance leave:20\n"
     ]
    }
   ],
   "source": [
    "emp_detils={\n",
    "    \"name\":[\"nikhil\",'mohit','mukesh',\"rahul\"],\n",
    "    \"company\":['genpact','lg','cyinet','maq'],\n",
    "    \"leave\":[10,12,17,20],\n",
    "}\n",
    "empolyee=input(\"entre the empolyee name:\")\n",
    "empolyees= emp_detils['name']\n",
    "companies=emp_detils['company']\n",
    "leaves=emp_detils[\"leave\"]\n",
    "if(empolyee in empolyees):\n",
    "    pos=empolyees.index(empolyee)\n",
    "    company=companies[pos]\n",
    "    leave=leaves[pos]\n",
    "    print(f\"Employee company name:{company} Balance leave:{leave}\")\n",
    "else:\n",
    "    print(\"not in our data\")"
   ]
  },
  {
   "cell_type": "markdown",
   "id": "c904f61a",
   "metadata": {},
   "source": [
    "# tuple to list()"
   ]
  },
  {
   "cell_type": "code",
   "execution_count": 10,
   "id": "7e4c4b74",
   "metadata": {},
   "outputs": [
    {
     "name": "stdout",
     "output_type": "stream",
     "text": [
      "<class 'list'>\n"
     ]
    }
   ],
   "source": [
    "t=(1,2,3)\n",
    "x=list(t)\n",
    "print(type(x))"
   ]
  },
  {
   "cell_type": "code",
   "execution_count": 12,
   "id": "615e887b",
   "metadata": {},
   "outputs": [
    {
     "name": "stdout",
     "output_type": "stream",
     "text": [
      "(1, 2, 3, 4, 5, 6)\n"
     ]
    }
   ],
   "source": [
    "t=(1,2,3,4,5,6)\n",
    "l=list(t)\n",
    "t=tuple(l)\n",
    "print(t)"
   ]
  },
  {
   "cell_type": "code",
   "execution_count": 5,
   "id": "6e7aabed",
   "metadata": {},
   "outputs": [
    {
     "name": "stdout",
     "output_type": "stream",
     "text": [
      "['name', 'company', 'leave']\n"
     ]
    }
   ],
   "source": [
    "emp_detils={\n",
    "    \"name\":[\"nikhil\",'mohit','mukesh',\"rahul\"],\n",
    "    \"company\":['genpact','lg','cyinet','maq'],\n",
    "    \"leave\":[10,12,17,20],\n",
    "} \n",
    "\n",
    "print(list(emp_detils.keys()))"
   ]
  },
  {
   "cell_type": "markdown",
   "id": "f39e825a",
   "metadata": {},
   "source": [
    "# dict some method"
   ]
  },
  {
   "cell_type": "code",
   "execution_count": 26,
   "id": "e986887a",
   "metadata": {},
   "outputs": [],
   "source": [
    "d={\n",
    "    \"name\":\"raj\",\n",
    "    \"company\":\"genpact\",\n",
    "    \"leave\": 10\n",
    "}"
   ]
  },
  {
   "cell_type": "code",
   "execution_count": 27,
   "id": "27a530ae",
   "metadata": {},
   "outputs": [
    {
     "name": "stdout",
     "output_type": "stream",
     "text": [
      "{'name': 'nikhil', 'company': 'genpact', 'leave': 10}\n"
     ]
    }
   ],
   "source": [
    "d[\"name\"]=\"nikhil\"\n",
    "print(d)"
   ]
  },
  {
   "cell_type": "code",
   "execution_count": 18,
   "id": "1a5fc311",
   "metadata": {},
   "outputs": [
    {
     "name": "stdout",
     "output_type": "stream",
     "text": [
      "dict_keys(['name'])\n"
     ]
    }
   ],
   "source": [
    "k=d.keys()\n",
    "print(k)"
   ]
  },
  {
   "cell_type": "code",
   "execution_count": 6,
   "id": "024f063a",
   "metadata": {},
   "outputs": [
    {
     "name": "stdout",
     "output_type": "stream",
     "text": [
      "dict_values(['nikhil', 'genpact', 10])\n"
     ]
    }
   ],
   "source": [
    "print(d.values())"
   ]
  },
  {
   "cell_type": "markdown",
   "id": "5c191a0f",
   "metadata": {},
   "source": [
    "# making dict to help of user input"
   ]
  },
  {
   "cell_type": "markdown",
   "id": "caf084b5",
   "metadata": {},
   "source": []
  },
  {
   "cell_type": "code",
   "execution_count": null,
   "id": "8de3ba81",
   "metadata": {},
   "outputs": [],
   "source": [
    "d={}\n",
    "for i in range(3):\n",
    "    k=input(\"entre the key:\")\n",
    "    v=input(\"entre the value:\")\n",
    "    d[k]=v\n",
    "    print(d)"
   ]
  },
  {
   "cell_type": "code",
   "execution_count": 6,
   "id": "3e26a0c3",
   "metadata": {},
   "outputs": [],
   "source": [
    "d={\n",
    "    \"name\":\"nikhil\",\n",
    "    \"company\":\"balaji\",\n",
    "    \"roll\":\"paramrnt\",\n",
    "    \"city\":\"sitargunj\",\n",
    "    \"pin_no\":262543\n",
    "}\n",
    "\n",
    "\n",
    "\n",
    "\n"
   ]
  },
  {
   "cell_type": "code",
   "execution_count": 16,
   "id": "1e84326e",
   "metadata": {},
   "outputs": [
    {
     "name": "stdout",
     "output_type": "stream",
     "text": [
      "{}\n"
     ]
    }
   ],
   "source": [
    "print(d)"
   ]
  },
  {
   "cell_type": "code",
   "execution_count": 3,
   "id": "04c23b64",
   "metadata": {},
   "outputs": [
    {
     "name": "stdout",
     "output_type": "stream",
     "text": [
      "{'company': 'balaji', 'roll': 'paramrnt'}\n"
     ]
    }
   ],
   "source": [
    "d.pop(\"name\")\n",
    "print(d)"
   ]
  },
  {
   "cell_type": "code",
   "execution_count": 4,
   "id": "2e738664",
   "metadata": {},
   "outputs": [
    {
     "name": "stdout",
     "output_type": "stream",
     "text": [
      "{'company': 'balaji', 'roll_no': 'paramrnt'}\n"
     ]
    }
   ],
   "source": [
    "v=d.pop(\"roll\")\n",
    "d[\"roll_no\"]=v\n",
    "print(d)"
   ]
  },
  {
   "cell_type": "code",
   "execution_count": 5,
   "id": "f58e5775",
   "metadata": {},
   "outputs": [
    {
     "name": "stdout",
     "output_type": "stream",
     "text": [
      "{'roll_no': 'paramrnt', 'company name': 'balaji'}\n"
     ]
    }
   ],
   "source": [
    "d[\"company name\"]=d.pop(\"company\")\n",
    "print(d)"
   ]
  },
  {
   "cell_type": "code",
   "execution_count": 15,
   "id": "8c90c879",
   "metadata": {},
   "outputs": [
    {
     "name": "stdout",
     "output_type": "stream",
     "text": [
      "{}\n"
     ]
    }
   ],
   "source": [
    "print(d) "
   ]
  },
  {
   "cell_type": "code",
   "execution_count": 9,
   "id": "e6d29635",
   "metadata": {},
   "outputs": [
    {
     "name": "stdout",
     "output_type": "stream",
     "text": [
      "{'name': 'nikhil', 'company': 'balaji', 'roll': 'paramrnt', 'city': 'sitargunj', 'pin_code_no': 262543}\n"
     ]
    }
   ],
   "source": [
    "d[\"pin_code_no\"]=d.pop(\"pin_no\")\n",
    "print(d)"
   ]
  },
  {
   "cell_type": "markdown",
   "id": "2ca09a55",
   "metadata": {},
   "source": [
    "pop item"
   ]
  },
  {
   "cell_type": "code",
   "execution_count": 11,
   "id": "a16ca021",
   "metadata": {},
   "outputs": [
    {
     "name": "stdout",
     "output_type": "stream",
     "text": [
      "('pin_code_no', 262543)\n"
     ]
    }
   ],
   "source": [
    "print(d.popitem())"
   ]
  },
  {
   "cell_type": "code",
   "execution_count": 12,
   "id": "93308e55",
   "metadata": {},
   "outputs": [
    {
     "name": "stdout",
     "output_type": "stream",
     "text": [
      "{'name': 'nikhil', 'company': 'balaji', 'roll': 'paramrnt', 'city': 'sitargunj'}\n"
     ]
    }
   ],
   "source": [
    "print(d)"
   ]
  },
  {
   "cell_type": "markdown",
   "id": "14141456",
   "metadata": {},
   "source": [
    "clear()"
   ]
  },
  {
   "cell_type": "code",
   "execution_count": 13,
   "id": "a2cd4c90",
   "metadata": {},
   "outputs": [
    {
     "name": "stdout",
     "output_type": "stream",
     "text": [
      "None\n"
     ]
    }
   ],
   "source": [
    "print(d.clear())"
   ]
  },
  {
   "cell_type": "code",
   "execution_count": 14,
   "id": "c356074a",
   "metadata": {},
   "outputs": [
    {
     "name": "stdout",
     "output_type": "stream",
     "text": [
      "{}\n"
     ]
    }
   ],
   "source": [
    "print(d)"
   ]
  },
  {
   "cell_type": "code",
   "execution_count": 21,
   "id": "4fcd6ffa",
   "metadata": {},
   "outputs": [
    {
     "name": "stdout",
     "output_type": "stream",
     "text": [
      "{'name': 'nikhil', 'company': 'genpact', 'leave': 10}\n"
     ]
    }
   ],
   "source": [
    "print(d)"
   ]
  },
  {
   "cell_type": "code",
   "execution_count": 29,
   "id": "778098c6",
   "metadata": {},
   "outputs": [
    {
     "name": "stdout",
     "output_type": "stream",
     "text": [
      "{'name': 'nikhil', 'company': 'genpact', 'leave': 10}\n"
     ]
    }
   ],
   "source": [
    "r=d.copy()\n",
    "print(r)"
   ]
  },
  {
   "cell_type": "code",
   "execution_count": 30,
   "id": "2eb57a2d",
   "metadata": {},
   "outputs": [
    {
     "name": "stdout",
     "output_type": "stream",
     "text": [
      "None\n"
     ]
    }
   ],
   "source": [
    "print(d.clear())"
   ]
  },
  {
   "cell_type": "code",
   "execution_count": 31,
   "id": "e4d7213e",
   "metadata": {},
   "outputs": [
    {
     "name": "stdout",
     "output_type": "stream",
     "text": [
      "{}\n"
     ]
    }
   ],
   "source": [
    "print(d)"
   ]
  },
  {
   "cell_type": "code",
   "execution_count": 32,
   "id": "be7c7744",
   "metadata": {},
   "outputs": [
    {
     "name": "stdout",
     "output_type": "stream",
     "text": [
      "{'name': 'nikhil', 'company': 'genpact', 'leave': 10}\n"
     ]
    }
   ],
   "source": [
    "print(r)"
   ]
  },
  {
   "cell_type": "markdown",
   "id": "8f302c16",
   "metadata": {},
   "source": [
    "# function()"
   ]
  },
  {
   "cell_type": "code",
   "execution_count": 37,
   "id": "70f3220f",
   "metadata": {},
   "outputs": [],
   "source": [
    "def devendra():           #build function\n",
    "    print('go away')\n",
    "def nikhil ():\n",
    "    print(\"do it now\")"
   ]
  },
  {
   "cell_type": "code",
   "execution_count": 35,
   "id": "0392a332",
   "metadata": {},
   "outputs": [
    {
     "name": "stdout",
     "output_type": "stream",
     "text": [
      "go away\n"
     ]
    }
   ],
   "source": [
    "devendra ()                  # calling function   #user defined fuction"
   ]
  },
  {
   "cell_type": "code",
   "execution_count": 38,
   "id": "904bd4dc",
   "metadata": {},
   "outputs": [
    {
     "name": "stdout",
     "output_type": "stream",
     "text": [
      "do it now\n"
     ]
    }
   ],
   "source": [
    "nikhil()         #calling fucntion   #user defined fuction"
   ]
  },
  {
   "cell_type": "code",
   "execution_count": 44,
   "id": "2cc582ef",
   "metadata": {},
   "outputs": [],
   "source": [
    "\n",
    "def nikhil(food):\n",
    "    print(f\"i serve {food}\" )     #that is parameter"
   ]
  },
  {
   "cell_type": "code",
   "execution_count": 42,
   "id": "76fb70a2",
   "metadata": {},
   "outputs": [
    {
     "name": "stdout",
     "output_type": "stream",
     "text": [
      "i serve chowin\n"
     ]
    }
   ],
   "source": [
    "nikhil(\"chowin\")          # that is arugment"
   ]
  },
  {
   "cell_type": "code",
   "execution_count": 6,
   "id": "f23e4646",
   "metadata": {},
   "outputs": [],
   "source": [
    "def cal(sum):\n",
    "    t=sum*10\n",
    "    print(t)"
   ]
  },
  {
   "cell_type": "code",
   "execution_count": 7,
   "id": "f774d36d",
   "metadata": {},
   "outputs": [
    {
     "name": "stdout",
     "output_type": "stream",
     "text": [
      "4560\n"
     ]
    }
   ],
   "source": [
    "cal(456)"
   ]
  },
  {
   "cell_type": "code",
   "execution_count": 8,
   "id": "255edf44",
   "metadata": {},
   "outputs": [
    {
     "name": "stdout",
     "output_type": "stream",
     "text": [
      "200\n"
     ]
    }
   ],
   "source": [
    "cal(20)"
   ]
  },
  {
   "cell_type": "code",
   "execution_count": 22,
   "id": "8daeb34a",
   "metadata": {},
   "outputs": [
    {
     "name": "stdout",
     "output_type": "stream",
     "text": [
      "900\n"
     ]
    }
   ],
   "source": [
    "import userdefination as us\n",
    "call(90)"
   ]
  },
  {
   "cell_type": "code",
   "execution_count": 3,
   "id": "0b2102ea",
   "metadata": {},
   "outputs": [
    {
     "name": "stdout",
     "output_type": "stream",
     "text": [
      "130\n"
     ]
    }
   ],
   "source": [
    "import import_ipynb\n",
    "import my_mod\n",
    "from my_mod import *\n",
    "add(5,5)"
   ]
  },
  {
   "cell_type": "code",
   "execution_count": 1,
   "id": "e85bb46f",
   "metadata": {},
   "outputs": [
    {
     "name": "stdout",
     "output_type": "stream",
     "text": [
      "importing Jupyter notebook from plan.ipynb\n",
      "-8\n"
     ]
    }
   ],
   "source": [
    "import import_ipynb\n",
    "import plan\n",
    "from plan import *\n",
    "result(5,6,7)"
   ]
  },
  {
   "cell_type": "code",
   "execution_count": 2,
   "id": "fea47750",
   "metadata": {},
   "outputs": [
    {
     "name": "stdout",
     "output_type": "stream",
     "text": [
      "-7\n"
     ]
    }
   ],
   "source": [
    "result(2,4,5)"
   ]
  },
  {
   "cell_type": "markdown",
   "id": "2b584a87",
   "metadata": {},
   "source": [
    "# return type function"
   ]
  },
  {
   "cell_type": "code",
   "execution_count": 12,
   "id": "e82e2ccd",
   "metadata": {},
   "outputs": [
    {
     "name": "stdout",
     "output_type": "stream",
     "text": [
      "you can't vote\n"
     ]
    }
   ],
   "source": [
    "import import_ipynb\n",
    "import xxx\n",
    "from xxx import *\n",
    "c=vote(17)\n",
    "if(c==True):\n",
    "    print('you can vote')\n",
    "else:\n",
    "    print(\"you can't vote\")"
   ]
  },
  {
   "cell_type": "markdown",
   "id": "405999e3",
   "metadata": {},
   "source": [
    "# making sum type function"
   ]
  },
  {
   "cell_type": "code",
   "execution_count": 5,
   "id": "cae063f5",
   "metadata": {},
   "outputs": [
    {
     "name": "stdout",
     "output_type": "stream",
     "text": [
      "the value sum is:28\n"
     ]
    }
   ],
   "source": [
    "import import_ipynb\n",
    "import xxx\n",
    "from xxx import *\n",
    "x=[1,2,3,4,5,'abhi',6,'nikhil',7]\n",
    "s=sum(x)\n",
    "print(f\"the value sum is:{s}\")\n"
   ]
  },
  {
   "cell_type": "code",
   "execution_count": 6,
   "id": "80ae372c",
   "metadata": {},
   "outputs": [
    {
     "name": "stdout",
     "output_type": "stream",
     "text": [
      "8\n",
      "value of no:(15, 5, 50, 2.0)\n"
     ]
    },
    {
     "data": {
      "text/plain": [
       "tuple"
      ]
     },
     "execution_count": 6,
     "metadata": {},
     "output_type": "execute_result"
    }
   ],
   "source": [
    "import import_ipynb\n",
    "import xxx\n",
    "from xxx import *\n",
    "print(adds(3,5))\n",
    "calc(10,5)\n",
    "y=calc(10,5)\n",
    "print(f\"value of no:{y}\")\n",
    "type(y)"
   ]
  },
  {
   "cell_type": "code",
   "execution_count": 1,
   "id": "43512e03",
   "metadata": {},
   "outputs": [
    {
     "name": "stdout",
     "output_type": "stream",
     "text": [
      "importing Jupyter notebook from xxx.ipynb\n",
      "15\n",
      "5\n",
      "15\n",
      "2.0\n"
     ]
    }
   ],
   "source": [
    "import import_ipynb\n",
    "import xxx\n",
    "from xxx import *\n",
    "add,sub,mul,div=cal(10,5)\n",
    "print(add)\n",
    "print(sub)\n",
    "print(mul)\n",
    "print(div)"
   ]
  },
  {
   "cell_type": "code",
   "execution_count": 2,
   "id": "82965963",
   "metadata": {},
   "outputs": [
    {
     "name": "stdout",
     "output_type": "stream",
     "text": [
      "4\n"
     ]
    }
   ],
   "source": [
    "import import_ipynb\n",
    "import xxx\n",
    "from xxx import *\n",
    "s=nik(4)\n",
    "print(s)"
   ]
  },
  {
   "cell_type": "markdown",
   "id": "7f4dbe21",
   "metadata": {},
   "source": [
    "# making fraction to find factor"
   ]
  },
  {
   "cell_type": "code",
   "execution_count": 6,
   "id": "74a7a9d7",
   "metadata": {},
   "outputs": [
    {
     "name": "stdout",
     "output_type": "stream",
     "text": [
      "1\n",
      "2\n",
      "3\n",
      "4\n",
      "5\n",
      "factor of numbers:None\n"
     ]
    }
   ],
   "source": [
    "import import_ipynb\n",
    "import factor\n",
    "from factor import *\n",
    "s=fact(6)\n",
    "print(f\"factor of numbers:{s}\")"
   ]
  },
  {
   "cell_type": "markdown",
   "id": "90465e30",
   "metadata": {},
   "source": [
    "# find perfect no"
   ]
  },
  {
   "cell_type": "code",
   "execution_count": 10,
   "id": "61fa6796",
   "metadata": {},
   "outputs": [
    {
     "ename": "SyntaxError",
     "evalue": "invalid syntax (2345499871.py, line 5)",
     "output_type": "error",
     "traceback": [
      "\u001b[1;36m  Input \u001b[1;32mIn [10]\u001b[1;36m\u001b[0m\n\u001b[1;33m    if check==:\u001b[0m\n\u001b[1;37m              ^\u001b[0m\n\u001b[1;31mSyntaxError\u001b[0m\u001b[1;31m:\u001b[0m invalid syntax\n"
     ]
    }
   ],
   "source": [
    "import import_ipynb\n",
    "import factor\n",
    "from factor import *\n",
    "check=perfect(6)\n",
    "if check==:\n",
    "    print(\"its is perfect no\")\n",
    "else:\n",
    "    print(\"not perfect\")"
   ]
  },
  {
   "cell_type": "code",
   "execution_count": 3,
   "id": "c9bb0744",
   "metadata": {},
   "outputs": [
    {
     "name": "stdout",
     "output_type": "stream",
     "text": [
      "entre the no:6\n",
      "the factor of given no [1, 2, 3]\n",
      "entre the no:12\n"
     ]
    },
    {
     "ename": "NameError",
     "evalue": "name 'factor' is not defined",
     "output_type": "error",
     "traceback": [
      "\u001b[1;31m---------------------------------------------------------------------------\u001b[0m",
      "\u001b[1;31mNameError\u001b[0m                                 Traceback (most recent call last)",
      "Input \u001b[1;32mIn [3]\u001b[0m, in \u001b[0;36m<cell line: 11>\u001b[1;34m()\u001b[0m\n\u001b[0;32m      9\u001b[0m \u001b[38;5;28;01mfrom\u001b[39;00m \u001b[38;5;21;01mfactor\u001b[39;00m \u001b[38;5;28;01mimport\u001b[39;00m \u001b[38;5;241m*\u001b[39m\n\u001b[0;32m     10\u001b[0m n\u001b[38;5;241m=\u001b[39m\u001b[38;5;28mint\u001b[39m(\u001b[38;5;28minput\u001b[39m(\u001b[38;5;124m\"\u001b[39m\u001b[38;5;124mentre the no:\u001b[39m\u001b[38;5;124m\"\u001b[39m))\n\u001b[1;32m---> 11\u001b[0m d\u001b[38;5;241m=\u001b[39m\u001b[43mper\u001b[49m\u001b[43m(\u001b[49m\u001b[43mn\u001b[49m\u001b[43m)\u001b[49m\n\u001b[0;32m     12\u001b[0m \u001b[38;5;28;01mif\u001b[39;00m d\u001b[38;5;241m==\u001b[39mtrue:\n\u001b[0;32m     13\u001b[0m     \u001b[38;5;28mprint\u001b[39m(\u001b[38;5;124m\"\u001b[39m\u001b[38;5;124mits is perfect no:\u001b[39m\u001b[38;5;124m\"\u001b[39m)\n",
      "File \u001b[1;32m<string>:12\u001b[0m, in \u001b[0;36mper\u001b[1;34m(n)\u001b[0m\n",
      "\u001b[1;31mNameError\u001b[0m: name 'factor' is not defined"
     ]
    }
   ],
   "source": [
    "import import_ipynb\n",
    "import factor\n",
    "from factor import *\n",
    "num=int(input(\"entre the no:\"))\n",
    "s=fact(num)\n",
    "print(f\"the factor of given no {s}\")\n",
    "import import_ipynb\n",
    "import factor\n",
    "from factor import *\n",
    "n=int(input(\"entre the no:\"))\n",
    "d=per(n)\n",
    "if d==true:\n",
    "    print(\"its is perfect no:\")"
   ]
  },
  {
   "cell_type": "code",
   "execution_count": 2,
   "id": "915ee97e",
   "metadata": {},
   "outputs": [
    {
     "name": "stdout",
     "output_type": "stream",
     "text": [
      "9\n"
     ]
    }
   ],
   "source": [
    "import import_ipynb\n",
    "import factor\n",
    "from factor import *\n",
    "x=plus(4,5)\n",
    "print(x)"
   ]
  },
  {
   "cell_type": "markdown",
   "id": "baf8fcd3",
   "metadata": {},
   "source": [
    "# lambda fuction"
   ]
  },
  {
   "cell_type": "code",
   "execution_count": 2,
   "id": "397e51a1",
   "metadata": {},
   "outputs": [
    {
     "name": "stdout",
     "output_type": "stream",
     "text": [
      "the bmi of man:2.0761245674740487\n"
     ]
    }
   ],
   "source": [
    "import import_ipynb\n",
    "import factor\n",
    "from factor import *\n",
    "s=bmi(60,170)\n",
    "print(f\"the bmi of man:{s}\")"
   ]
  },
  {
   "cell_type": "code",
   "execution_count": 2,
   "id": "2b64d769",
   "metadata": {},
   "outputs": [
    {
     "data": {
      "text/plain": [
       "7"
      ]
     },
     "execution_count": 2,
     "metadata": {},
     "output_type": "execute_result"
    }
   ],
   "source": [
    "import import_ipynb\n",
    "import factor\n",
    "from factor import *\n",
    "beby(2,5)"
   ]
  },
  {
   "cell_type": "code",
   "execution_count": null,
   "id": "8db0a335",
   "metadata": {},
   "outputs": [],
   "source": [
    "# import import_ipynb\n",
    "import factor\n",
    "from factor import *\n",
    "print(cal(3,4,\"a\"))"
   ]
  },
  {
   "cell_type": "markdown",
   "id": "0b7bedf8",
   "metadata": {},
   "source": [
    "# file handling"
   ]
  },
  {
   "cell_type": "code",
   "execution_count": 5,
   "id": "6c331db7",
   "metadata": {},
   "outputs": [],
   "source": [
    "f=open(r\"C:\\Users\\nikhil pal\\Desktop\\myfile1.txt\",\"a\")\n",
    "f.write(\"hi my name is nikhil pal\")\n",
    "f.close()"
   ]
  },
  {
   "cell_type": "code",
   "execution_count": 1,
   "id": "99f0a4e8",
   "metadata": {},
   "outputs": [
    {
     "name": "stdout",
     "output_type": "stream",
     "text": [
      "The electric eels are a genus, Electrophorus, of tropical freshwater fish from South America in the family Gymnotidae. They are electric fish, and can stun their prey by delivering shocks at up to 860 volts. Their electrical capabilities were first studied in 1775, contributing to the invention in 1800 of the electric battery. Despite their name, they are not closely related to the true eels (order Anguilliformes) but are electroreceptive knifefish (order Gymnotiformes), more closely related to catfish. Previously, the genus was believed to be monotypic, containing only Electrophorus electricus. In 2019 it was discovered that there were three species. They are nocturnal, air-breathing animals, with poor vision\n"
     ]
    }
   ],
   "source": [
    "g=open(r\"C:\\Users\\nikhil pal\\Desktop\\myfile.txt\",\"r\")\n",
    "h=g.read()\n",
    "print(h)"
   ]
  },
  {
   "cell_type": "code",
   "execution_count": 8,
   "id": "14f68ecd",
   "metadata": {},
   "outputs": [
    {
     "name": "stdout",
     "output_type": "stream",
     "text": [
      "The Electric Eels Are A Genus, Electrophorus, Of Tropical Freshwater Fish From South America In The Family Gymnotidae. They Are Electric Fish, And Can Stun Their Prey By Delivering Shocks At Up To 860 Volts. Their Electrical Capabilities Were First Studied In 1775, Contributing To The Invention In 1800 Of The Electric Battery. Despite Their Name, They Are Not Closely Related To The True Eels (Order Anguilliformes) But Are Electroreceptive Knifefish (Order Gymnotiformes), More Closely Related To Catfish. Previously, The Genus Was Believed To Be Monotypic, Containing Only Electrophorus Electricus. In 2019 It Was Discovered That There Were Three Species. They Are Nocturnal, Air-Breathing Animals, With Poor Visioni Love You Nikhil\n"
     ]
    }
   ],
   "source": [
    "g=open(r\"C:\\Users\\nikhil pal\\Desktop\\myfile.txt\",\"r\")\n",
    "h=g.read()\n",
    "t=h.title()\n",
    "print(t)"
   ]
  },
  {
   "cell_type": "code",
   "execution_count": 3,
   "id": "a48a3f0a",
   "metadata": {},
   "outputs": [
    {
     "name": "stdout",
     "output_type": "stream",
     "text": [
      "<_io.TextIOWrapper name='C:\\\\Users\\\\nikhil pal\\\\Desktop\\\\myfile.txt' mode='r' encoding='cp1252'>\n"
     ]
    }
   ],
   "source": [
    "print(g)"
   ]
  },
  {
   "cell_type": "code",
   "execution_count": 4,
   "id": "85aa86c7",
   "metadata": {},
   "outputs": [],
   "source": [
    "f=open(r\"C:\\Users\\nikhil pal\\Desktop\\myfile.txt\",\"a\") # a permission is only append worlds/ no. is file\n",
    "f.write(\"i love you nikhil\")\n",
    "f.close()"
   ]
  },
  {
   "cell_type": "code",
   "execution_count": 9,
   "id": "569d228d",
   "metadata": {},
   "outputs": [],
   "source": [
    "h=open (r\"C:\\Users\\nikhil pal\\Desktop\\myfile1.txt\",\"w\")  # w permission is create and write world and no.\n",
    "h.write(\"love you my self\")\n",
    "h.close()"
   ]
  },
  {
   "cell_type": "code",
   "execution_count": 10,
   "id": "ef23149f",
   "metadata": {},
   "outputs": [],
   "source": [
    "d=open(r\"C:\\Users\\nikhil pal\\Desktop\\data.txt\",\"x\")\n",
    "d.write(\"12344556677787899836536438494509505059578575658584949049474675658549409303039438757565874894\")\n",
    "d.close()"
   ]
  },
  {
   "cell_type": "code",
   "execution_count": 1,
   "id": "f980f220",
   "metadata": {},
   "outputs": [
    {
     "data": {
      "text/plain": [
       "33"
      ]
     },
     "execution_count": 1,
     "metadata": {},
     "output_type": "execute_result"
    }
   ],
   "source": [
    "d=open(r\"C:\\Users\\nikhil pal\\Desktop\\data.txt\",\"r\")\n",
    "x=d.read()\n",
    "d.close()\n",
    "s=0\n",
    "for i in x:\n",
    "    if(i.isnumeric()==True):\n",
    "        number=int(i)\n",
    "        s=s+number\n",
    "f=open(r\"C:\\Users\\nikhil pal\\Desktop\\data.txt\",\"a\")\n",
    "f.write(f\"\\nsum of all the number in file{s}\")"
   ]
  },
  {
   "cell_type": "code",
   "execution_count": 16,
   "id": "84cf2e8d",
   "metadata": {},
   "outputs": [],
   "source": [
    "s=open(r\"C:\\Users\\nikhil pal\\Desktop\\newdata2.txt\",\"x\")\n",
    "s.write(\"nikhil 4000,raj 5000, rakesh 55000, bhuwan 6000\")\n",
    "s.close()"
   ]
  },
  {
   "cell_type": "code",
   "execution_count": 27,
   "id": "8114e5bf",
   "metadata": {},
   "outputs": [
    {
     "name": "stdout",
     "output_type": "stream",
     "text": [
      "nikhil 4000 raj 5000 rakesh 55000 bhuwan 6000\n"
     ]
    }
   ],
   "source": [
    "f=open(r\"C:\\Users\\nikhil pal\\Desktop\\newdata1.txt\",\"r\")\n",
    "content=f.read()\n",
    "f.close()\n",
    "print(content)"
   ]
  },
  {
   "cell_type": "code",
   "execution_count": 30,
   "id": "983e2428",
   "metadata": {},
   "outputs": [
    {
     "name": "stdout",
     "output_type": "stream",
     "text": [
      "nikhil 4000 raj 5000 rakesh 55000 bhuwan 6000\n",
      "6000\n",
      "[4000, 5000, 55000, 6000]\n",
      "rakesh has maxium sallery of 55000\n"
     ]
    }
   ],
   "source": [
    "content1=content.split(' ')\n",
    "\n",
    "print(content)\n",
    "names=[]\n",
    "sellery=[]\n",
    "for i in content1:\n",
    "    if(i.isnumeric()==True):\n",
    "        sellery.append(int(i))\n",
    "    else:\n",
    "        names.append(i)\n",
    "print(i)\n",
    "print(sellery)\n",
    "max_sellery=max(sellery)\n",
    "ind=sellery.index(max_sellery)\n",
    "print(f\"{names[ind]} has maxium sallery of {max_sellery}\")\n",
    "    \n",
    "        "
   ]
  },
  {
   "cell_type": "code",
   "execution_count": 39,
   "id": "aa3c2c94",
   "metadata": {},
   "outputs": [
    {
     "name": "stdout",
     "output_type": "stream",
     "text": [
      "['abhi', 'raj', 'suresh']\n",
      "[20]\n",
      "[20, 30]\n",
      "[20, 30, 63]\n"
     ]
    }
   ],
   "source": [
    "x={\n",
    "    \"abhi\":[10,20,30],\n",
    "     \"raj\":[20,30,40],\n",
    "     \"suresh\":[40,80,70]\n",
    "}\n",
    "student=list(x.keys())\n",
    "print(student)\n",
    "avg=[]\n",
    "for i in x.values():\n",
    "    avg.append(round(sum(i)/3))\n",
    "\n",
    "    print(avg)"
   ]
  },
  {
   "cell_type": "code",
   "execution_count": 43,
   "id": "e07099ce",
   "metadata": {},
   "outputs": [
    {
     "name": "stdout",
     "output_type": "stream",
     "text": [
      "{'abhi': 20, 'raj': 30, 'suresh': 63}\n"
     ]
    }
   ],
   "source": [
    "c=[]\n",
    "for i in zip(student,avg):\n",
    "    c.append(i)\n",
    "print(dict(c))"
   ]
  },
  {
   "cell_type": "code",
   "execution_count": 6,
   "id": "777fdc32",
   "metadata": {},
   "outputs": [],
   "source": [
    "with open(r\"C:\\Users\\nikhil pal\\Desktop\\newdata.txt\",\"a\") as f:\n",
    "    f.write(\"nikhil\")\n",
    "    \n",
    "    \n"
   ]
  },
  {
   "cell_type": "code",
   "execution_count": 9,
   "id": "b1a1ba52",
   "metadata": {},
   "outputs": [],
   "source": [
    "import os\n",
    "os.path.exists(r\"C:\\Users\\nikhil pal\\Desktop\\newdata.txt\")\n",
    "os.remove(r\"C:\\Users\\nikhil pal\\Desktop\\newdata.txt\")"
   ]
  },
  {
   "cell_type": "code",
   "execution_count": 10,
   "id": "0083b900",
   "metadata": {},
   "outputs": [
    {
     "data": {
      "text/plain": [
       "True"
      ]
     },
     "execution_count": 10,
     "metadata": {},
     "output_type": "execute_result"
    }
   ],
   "source": [
    "import os\n",
    "os.path.exists(r\"C:\\Users\\nikhil pal\\Desktop\\newdata2.txt\")"
   ]
  },
  {
   "cell_type": "code",
   "execution_count": 11,
   "id": "a57a0877",
   "metadata": {},
   "outputs": [],
   "source": [
    "import os\n",
    "os.remove(r\"C:\\Users\\nikhil pal\\Desktop\\newdata2.txt\")"
   ]
  },
  {
   "cell_type": "code",
   "execution_count": 12,
   "id": "56612717",
   "metadata": {},
   "outputs": [],
   "source": [
    "import os\n",
    "os.mkdir(r\"C:\\Users\\nikhil pal\\Desktop\\newdata5.txt\")"
   ]
  },
  {
   "cell_type": "code",
   "execution_count": 16,
   "id": "808e574c",
   "metadata": {},
   "outputs": [
    {
     "ename": "FileExistsError",
     "evalue": "[Errno 17] File exists: 'C:\\\\Users\\\\nikhil pal\\\\Desktop\\\\newdata5.txt\\\\nikhil'",
     "output_type": "error",
     "traceback": [
      "\u001b[1;31m---------------------------------------------------------------------------\u001b[0m",
      "\u001b[1;31mFileExistsError\u001b[0m                           Traceback (most recent call last)",
      "Input \u001b[1;32mIn [16]\u001b[0m, in \u001b[0;36m<cell line: 1>\u001b[1;34m()\u001b[0m\n\u001b[1;32m----> 1\u001b[0m f\u001b[38;5;241m=\u001b[39m\u001b[38;5;28;43mopen\u001b[39;49m\u001b[43m(\u001b[49m\u001b[38;5;124;43mr\u001b[39;49m\u001b[38;5;124;43m\"\u001b[39;49m\u001b[38;5;124;43mC:\u001b[39;49m\u001b[38;5;124;43m\\\u001b[39;49m\u001b[38;5;124;43mUsers\u001b[39;49m\u001b[38;5;124;43m\\\u001b[39;49m\u001b[38;5;124;43mnikhil pal\u001b[39;49m\u001b[38;5;124;43m\\\u001b[39;49m\u001b[38;5;124;43mDesktop\u001b[39;49m\u001b[38;5;124;43m\\\u001b[39;49m\u001b[38;5;124;43mnewdata5.txt\u001b[39;49m\u001b[38;5;124;43m\\\u001b[39;49m\u001b[38;5;124;43mnikhil\u001b[39;49m\u001b[38;5;124;43m\"\u001b[39;49m\u001b[43m,\u001b[49m\u001b[38;5;124;43m\"\u001b[39;49m\u001b[38;5;124;43mx\u001b[39;49m\u001b[38;5;124;43m\"\u001b[39;49m\u001b[43m)\u001b[49m\n\u001b[0;32m      2\u001b[0m f\u001b[38;5;241m.\u001b[39mwrite(\u001b[38;5;124m\"\u001b[39m\u001b[38;5;124mlove you\u001b[39m\u001b[38;5;124m\"\u001b[39m)\n\u001b[0;32m      3\u001b[0m f\u001b[38;5;241m.\u001b[39mclose()\n",
      "\u001b[1;31mFileExistsError\u001b[0m: [Errno 17] File exists: 'C:\\\\Users\\\\nikhil pal\\\\Desktop\\\\newdata5.txt\\\\nikhil'"
     ]
    }
   ],
   "source": [
    "f=open(r\"C:\\Users\\nikhil pal\\Desktop\\newdata5.txt\\nikhil\",\"x\")\n",
    "f.write(\"love you\")\n",
    "f.close()"
   ]
  },
  {
   "cell_type": "code",
   "execution_count": 4,
   "id": "a6e95c3b",
   "metadata": {},
   "outputs": [],
   "source": [
    "import os\n",
    "os.remove(r\"C:\\Users\\nikhil pal\\Desktop\\newdata5.txt\\nik\")"
   ]
  },
  {
   "cell_type": "markdown",
   "id": "4245b37e",
   "metadata": {},
   "source": [
    "# ep22 numpy"
   ]
  },
  {
   "cell_type": "code",
   "execution_count": 2,
   "id": "2157f096",
   "metadata": {},
   "outputs": [
    {
     "name": "stdout",
     "output_type": "stream",
     "text": [
      "<class 'list'>\n"
     ]
    },
    {
     "data": {
      "text/plain": [
       "2"
      ]
     },
     "execution_count": 2,
     "metadata": {},
     "output_type": "execute_result"
    }
   ],
   "source": [
    "x=[[1,2],[3,4],[5,6]]\n",
    "print(type(x))\n",
    "x[0][1]\n"
   ]
  },
  {
   "cell_type": "code",
   "execution_count": 5,
   "id": "68640936",
   "metadata": {},
   "outputs": [],
   "source": [
    "y=[\n",
    "  [6,4,3],\n",
    "  [1,6,7]]  \n",
    "\n"
   ]
  },
  {
   "cell_type": "code",
   "execution_count": 8,
   "id": "e06f66fc",
   "metadata": {},
   "outputs": [
    {
     "data": {
      "text/plain": [
       "[6, 4, 3]"
      ]
     },
     "execution_count": 8,
     "metadata": {},
     "output_type": "execute_result"
    }
   ],
   "source": [
    "y[0]\n",
    "    \n"
   ]
  },
  {
   "cell_type": "code",
   "execution_count": 11,
   "id": "214b9bc3",
   "metadata": {},
   "outputs": [
    {
     "data": {
      "text/plain": [
       "7"
      ]
     },
     "execution_count": 11,
     "metadata": {},
     "output_type": "execute_result"
    }
   ],
   "source": [
    "y[1][2]"
   ]
  },
  {
   "cell_type": "code",
   "execution_count": 12,
   "id": "9473f6a6",
   "metadata": {},
   "outputs": [
    {
     "data": {
      "text/plain": [
       "[1, 6, 7]"
      ]
     },
     "execution_count": 12,
     "metadata": {},
     "output_type": "execute_result"
    }
   ],
   "source": [
    "y[1]"
   ]
  },
  {
   "cell_type": "code",
   "execution_count": 13,
   "id": "b854fd87",
   "metadata": {},
   "outputs": [
    {
     "data": {
      "text/plain": [
       "[6, 4, 3]"
      ]
     },
     "execution_count": 13,
     "metadata": {},
     "output_type": "execute_result"
    }
   ],
   "source": [
    "y[0]"
   ]
  },
  {
   "cell_type": "code",
   "execution_count": 14,
   "id": "0bc7b757",
   "metadata": {},
   "outputs": [],
   "source": [
    "c=[\n",
    " [1,4,5,6],\n",
    " [5,6,7,8],\n",
    " [56,67,88,99]   \n",
    "]"
   ]
  },
  {
   "cell_type": "code",
   "execution_count": 15,
   "id": "afdf288d",
   "metadata": {},
   "outputs": [
    {
     "data": {
      "text/plain": [
       "4"
      ]
     },
     "execution_count": 15,
     "metadata": {},
     "output_type": "execute_result"
    }
   ],
   "source": [
    "c[0][1]"
   ]
  },
  {
   "cell_type": "code",
   "execution_count": 16,
   "id": "cbcc5edc",
   "metadata": {},
   "outputs": [
    {
     "data": {
      "text/plain": [
       "8"
      ]
     },
     "execution_count": 16,
     "metadata": {},
     "output_type": "execute_result"
    }
   ],
   "source": [
    "c[1][3]"
   ]
  },
  {
   "cell_type": "code",
   "execution_count": 17,
   "id": "bbc63bbb",
   "metadata": {},
   "outputs": [
    {
     "data": {
      "text/plain": [
       "88"
      ]
     },
     "execution_count": 17,
     "metadata": {},
     "output_type": "execute_result"
    }
   ],
   "source": [
    "c[2][2]"
   ]
  },
  {
   "cell_type": "code",
   "execution_count": 18,
   "id": "c71883e2",
   "metadata": {},
   "outputs": [
    {
     "data": {
      "text/plain": [
       "[1, 4, 5, 6]"
      ]
     },
     "execution_count": 18,
     "metadata": {},
     "output_type": "execute_result"
    }
   ],
   "source": [
    "c[0]"
   ]
  },
  {
   "cell_type": "code",
   "execution_count": 19,
   "id": "0a1edb2d",
   "metadata": {},
   "outputs": [
    {
     "data": {
      "text/plain": [
       "[5, 6, 7, 8]"
      ]
     },
     "execution_count": 19,
     "metadata": {},
     "output_type": "execute_result"
    }
   ],
   "source": [
    "c[1]"
   ]
  },
  {
   "cell_type": "code",
   "execution_count": 20,
   "id": "c95b8aef",
   "metadata": {},
   "outputs": [
    {
     "data": {
      "text/plain": [
       "[56, 67, 88, 99]"
      ]
     },
     "execution_count": 20,
     "metadata": {},
     "output_type": "execute_result"
    }
   ],
   "source": [
    "c[2]"
   ]
  },
  {
   "cell_type": "code",
   "execution_count": 25,
   "id": "b4b5f56e",
   "metadata": {},
   "outputs": [
    {
     "name": "stdout",
     "output_type": "stream",
     "text": [
      "[[ 1  4  5  6]\n",
      " [ 5  6  7  8]\n",
      " [56 67 88 99]]\n"
     ]
    }
   ],
   "source": [
    "import numpy as np\n",
    "cr=np.array(c)\n",
    "print(cr)"
   ]
  },
  {
   "cell_type": "code",
   "execution_count": 26,
   "id": "552d7250",
   "metadata": {},
   "outputs": [
    {
     "name": "stdout",
     "output_type": "stream",
     "text": [
      "<class 'numpy.ndarray'>\n"
     ]
    }
   ],
   "source": [
    "print(type(cr))"
   ]
  },
  {
   "cell_type": "code",
   "execution_count": 29,
   "id": "4085071c",
   "metadata": {},
   "outputs": [
    {
     "name": "stdout",
     "output_type": "stream",
     "text": [
      "(3, 4)\n"
     ]
    }
   ],
   "source": [
    "print(cr.shape)"
   ]
  },
  {
   "cell_type": "code",
   "execution_count": 30,
   "id": "7fec76ac",
   "metadata": {},
   "outputs": [
    {
     "name": "stdout",
     "output_type": "stream",
     "text": [
      "2\n"
     ]
    }
   ],
   "source": [
    "print(cr.ndim)"
   ]
  },
  {
   "cell_type": "code",
   "execution_count": 43,
   "id": "80e36f7b",
   "metadata": {},
   "outputs": [
    {
     "name": "stdout",
     "output_type": "stream",
     "text": [
      "[[ 1  4  5  6]\n",
      " [ 5  6  7  8]\n",
      " [56 67 88 99]]\n"
     ]
    }
   ],
   "source": [
    "h=np.array(cr,dtype=int)\n",
    "print(h)"
   ]
  },
  {
   "cell_type": "code",
   "execution_count": 46,
   "id": "9de1184b",
   "metadata": {},
   "outputs": [
    {
     "name": "stdout",
     "output_type": "stream",
     "text": [
      "number of plyers:3\n",
      "number of matches:4\n"
     ]
    }
   ],
   "source": [
    "no_of_players=cr.shape[0]\n",
    "no_of_matchs=cr.shape[1]\n",
    "print(f\"number of plyers:{no_of_players}\")\n",
    "print(f\"number of matches:{no_of_matchs}\")"
   ]
  },
  {
   "cell_type": "code",
   "execution_count": 47,
   "id": "fc285e79",
   "metadata": {},
   "outputs": [
    {
     "name": "stdout",
     "output_type": "stream",
     "text": [
      "[[ 1  4  5  6]\n",
      " [ 5  6  7  8]\n",
      " [56 67 88 99]]\n"
     ]
    }
   ],
   "source": [
    "print(cr)"
   ]
  },
  {
   "cell_type": "code",
   "execution_count": 48,
   "id": "92fdc3ed",
   "metadata": {},
   "outputs": [
    {
     "name": "stdout",
     "output_type": "stream",
     "text": [
      "4\n"
     ]
    }
   ],
   "source": [
    "print(cr[0,1])"
   ]
  },
  {
   "cell_type": "code",
   "execution_count": 49,
   "id": "cf256e2d",
   "metadata": {},
   "outputs": [
    {
     "name": "stdout",
     "output_type": "stream",
     "text": [
      "6\n"
     ]
    }
   ],
   "source": [
    "print(cr[0,3])"
   ]
  },
  {
   "cell_type": "code",
   "execution_count": 50,
   "id": "f891bd55",
   "metadata": {},
   "outputs": [
    {
     "name": "stdout",
     "output_type": "stream",
     "text": [
      "[1 4 5 6]\n"
     ]
    }
   ],
   "source": [
    "print(cr[0])"
   ]
  },
  {
   "cell_type": "code",
   "execution_count": 51,
   "id": "61d529c3",
   "metadata": {},
   "outputs": [
    {
     "name": "stdout",
     "output_type": "stream",
     "text": [
      "5\n"
     ]
    }
   ],
   "source": [
    "print(cr[1,0])"
   ]
  },
  {
   "cell_type": "code",
   "execution_count": 52,
   "id": "749b8409",
   "metadata": {},
   "outputs": [
    {
     "name": "stdout",
     "output_type": "stream",
     "text": [
      "6\n"
     ]
    }
   ],
   "source": [
    "print(cr[1,1])"
   ]
  },
  {
   "cell_type": "code",
   "execution_count": 53,
   "id": "636c3a43",
   "metadata": {},
   "outputs": [
    {
     "data": {
      "text/plain": [
       "array([[ 1,  4,  5,  6],\n",
       "       [ 5,  6,  7,  8],\n",
       "       [56, 67, 88, 99]])"
      ]
     },
     "execution_count": 53,
     "metadata": {},
     "output_type": "execute_result"
    }
   ],
   "source": [
    " cr"
   ]
  },
  {
   "cell_type": "code",
   "execution_count": 54,
   "id": "ae0b60f0",
   "metadata": {},
   "outputs": [
    {
     "name": "stdout",
     "output_type": "stream",
     "text": [
      "[5 6 7 8]\n"
     ]
    }
   ],
   "source": [
    "print(cr[1])"
   ]
  },
  {
   "cell_type": "code",
   "execution_count": 55,
   "id": "35f410af",
   "metadata": {},
   "outputs": [
    {
     "name": "stdout",
     "output_type": "stream",
     "text": [
      "56\n"
     ]
    }
   ],
   "source": [
    "print(cr[2,0])"
   ]
  },
  {
   "cell_type": "code",
   "execution_count": 56,
   "id": "c23c70cc",
   "metadata": {},
   "outputs": [
    {
     "name": "stdout",
     "output_type": "stream",
     "text": [
      "88\n"
     ]
    }
   ],
   "source": [
    "print(cr[2,2])"
   ]
  },
  {
   "cell_type": "code",
   "execution_count": 57,
   "id": "87673864",
   "metadata": {},
   "outputs": [
    {
     "data": {
      "text/plain": [
       "array([[ 1,  4,  5,  6],\n",
       "       [ 5,  6,  7,  8],\n",
       "       [56, 67, 88, 99]])"
      ]
     },
     "execution_count": 57,
     "metadata": {},
     "output_type": "execute_result"
    }
   ],
   "source": [
    "cr"
   ]
  },
  {
   "cell_type": "code",
   "execution_count": 58,
   "id": "be41c64c",
   "metadata": {},
   "outputs": [
    {
     "name": "stdout",
     "output_type": "stream",
     "text": [
      "[56 67 88 99]\n"
     ]
    }
   ],
   "source": [
    "print(cr[2])"
   ]
  },
  {
   "cell_type": "code",
   "execution_count": 60,
   "id": "b51ea92a",
   "metadata": {},
   "outputs": [
    {
     "name": "stdout",
     "output_type": "stream",
     "text": [
      "99\n"
     ]
    }
   ],
   "source": [
    "print(cr[2,3])"
   ]
  },
  {
   "cell_type": "markdown",
   "id": "a242860c",
   "metadata": {},
   "source": [
    "# slicing"
   ]
  },
  {
   "cell_type": "code",
   "execution_count": 61,
   "id": "a06216bb",
   "metadata": {},
   "outputs": [
    {
     "data": {
      "text/plain": [
       "array([[ 1,  4,  5,  6],\n",
       "       [ 5,  6,  7,  8],\n",
       "       [56, 67, 88, 99]])"
      ]
     },
     "execution_count": 61,
     "metadata": {},
     "output_type": "execute_result"
    }
   ],
   "source": [
    "cr"
   ]
  },
  {
   "cell_type": "code",
   "execution_count": 64,
   "id": "a37a66b9",
   "metadata": {},
   "outputs": [
    {
     "data": {
      "text/plain": [
       "array([[1, 4, 5],\n",
       "       [5, 6, 7]])"
      ]
     },
     "execution_count": 64,
     "metadata": {},
     "output_type": "execute_result"
    }
   ],
   "source": [
    "x=cr[0:2,0:3]\n",
    "x"
   ]
  },
  {
   "cell_type": "code",
   "execution_count": 63,
   "id": "21814b6e",
   "metadata": {},
   "outputs": [
    {
     "data": {
      "text/plain": [
       "array([[ 4,  5,  6],\n",
       "       [ 6,  7,  8],\n",
       "       [67, 88, 99]])"
      ]
     },
     "execution_count": 63,
     "metadata": {},
     "output_type": "execute_result"
    }
   ],
   "source": [
    "v=cr[0:,1:]\n",
    "v"
   ]
  },
  {
   "cell_type": "code",
   "execution_count": 65,
   "id": "4976e197",
   "metadata": {},
   "outputs": [
    {
     "data": {
      "text/plain": [
       "array([[ 7,  8],\n",
       "       [88, 99]])"
      ]
     },
     "execution_count": 65,
     "metadata": {},
     "output_type": "execute_result"
    }
   ],
   "source": [
    "c=cr[1:,2:]\n",
    "c"
   ]
  },
  {
   "cell_type": "code",
   "execution_count": 66,
   "id": "26112ea5",
   "metadata": {},
   "outputs": [
    {
     "data": {
      "text/plain": [
       "array([[ 1,  4,  5,  6],\n",
       "       [ 5,  6,  7,  8],\n",
       "       [56, 67, 88, 99]])"
      ]
     },
     "execution_count": 66,
     "metadata": {},
     "output_type": "execute_result"
    }
   ],
   "source": [
    "cr"
   ]
  },
  {
   "cell_type": "code",
   "execution_count": 67,
   "id": "94150aab",
   "metadata": {},
   "outputs": [],
   "source": [
    "c=[[1,2,4,5],\n",
    "   [3,8,9,2],\n",
    "   [6,8,9,34],\n",
    "   [56,78,88,99]]"
   ]
  },
  {
   "cell_type": "code",
   "execution_count": 68,
   "id": "2c5a964e",
   "metadata": {},
   "outputs": [
    {
     "data": {
      "text/plain": [
       "array([[ 1,  2,  4,  5],\n",
       "       [ 3,  8,  9,  2],\n",
       "       [ 6,  8,  9, 34],\n",
       "       [56, 78, 88, 99]])"
      ]
     },
     "execution_count": 68,
     "metadata": {},
     "output_type": "execute_result"
    }
   ],
   "source": [
    "import numpy as np\n",
    "v=np.array(c)\n",
    "v"
   ]
  },
  {
   "cell_type": "code",
   "execution_count": 69,
   "id": "309e5d04",
   "metadata": {},
   "outputs": [
    {
     "name": "stdout",
     "output_type": "stream",
     "text": [
      "(4, 4)\n"
     ]
    }
   ],
   "source": [
    "print(v.shape)"
   ]
  },
  {
   "cell_type": "code",
   "execution_count": 70,
   "id": "a0b39b8f",
   "metadata": {},
   "outputs": [
    {
     "name": "stdout",
     "output_type": "stream",
     "text": [
      "2\n"
     ]
    }
   ],
   "source": [
    "print(v.ndim)"
   ]
  },
  {
   "cell_type": "code",
   "execution_count": 71,
   "id": "6df5c781",
   "metadata": {},
   "outputs": [
    {
     "name": "stdout",
     "output_type": "stream",
     "text": [
      "<class 'numpy.ndarray'>\n"
     ]
    }
   ],
   "source": [
    "print(type(v))"
   ]
  },
  {
   "cell_type": "code",
   "execution_count": 72,
   "id": "36499b21",
   "metadata": {},
   "outputs": [
    {
     "data": {
      "text/plain": [
       "array([[ 1,  2,  4,  5],\n",
       "       [ 3,  8,  9,  2],\n",
       "       [ 6,  8,  9, 34],\n",
       "       [56, 78, 88, 99]])"
      ]
     },
     "execution_count": 72,
     "metadata": {},
     "output_type": "execute_result"
    }
   ],
   "source": [
    "v"
   ]
  },
  {
   "cell_type": "code",
   "execution_count": 75,
   "id": "9821388f",
   "metadata": {},
   "outputs": [
    {
     "data": {
      "text/plain": [
       "2"
      ]
     },
     "execution_count": 75,
     "metadata": {},
     "output_type": "execute_result"
    }
   ],
   "source": [
    "c=v[0][1]\n",
    "c"
   ]
  },
  {
   "cell_type": "code",
   "execution_count": 76,
   "id": "bc342ec9",
   "metadata": {},
   "outputs": [
    {
     "data": {
      "text/plain": [
       "4"
      ]
     },
     "execution_count": 76,
     "metadata": {},
     "output_type": "execute_result"
    }
   ],
   "source": [
    "g=v[0][2]\n",
    "g"
   ]
  },
  {
   "cell_type": "code",
   "execution_count": 77,
   "id": "a9c80d5f",
   "metadata": {},
   "outputs": [
    {
     "data": {
      "text/plain": [
       "5"
      ]
     },
     "execution_count": 77,
     "metadata": {},
     "output_type": "execute_result"
    }
   ],
   "source": [
    "b=v[0][3]\n",
    "b"
   ]
  },
  {
   "cell_type": "code",
   "execution_count": 79,
   "id": "77668e3b",
   "metadata": {},
   "outputs": [
    {
     "data": {
      "text/plain": [
       "array([1, 2, 4, 5])"
      ]
     },
     "execution_count": 79,
     "metadata": {},
     "output_type": "execute_result"
    }
   ],
   "source": [
    "j=v[0]\n",
    "j"
   ]
  },
  {
   "cell_type": "code",
   "execution_count": 81,
   "id": "ac809196",
   "metadata": {},
   "outputs": [
    {
     "data": {
      "text/plain": [
       "99"
      ]
     },
     "execution_count": 81,
     "metadata": {},
     "output_type": "execute_result"
    }
   ],
   "source": [
    "d=v[3][3]\n",
    "d"
   ]
  },
  {
   "cell_type": "code",
   "execution_count": 82,
   "id": "74e78985",
   "metadata": {},
   "outputs": [
    {
     "data": {
      "text/plain": [
       "array([[ 1,  2,  4,  5],\n",
       "       [ 3,  8,  9,  2],\n",
       "       [ 6,  8,  9, 34],\n",
       "       [56, 78, 88, 99]])"
      ]
     },
     "execution_count": 82,
     "metadata": {},
     "output_type": "execute_result"
    }
   ],
   "source": [
    "v"
   ]
  },
  {
   "cell_type": "code",
   "execution_count": 83,
   "id": "47e291ac",
   "metadata": {},
   "outputs": [
    {
     "name": "stdout",
     "output_type": "stream",
     "text": [
      "[[ 1  2  4]\n",
      " [ 3  8  9]\n",
      " [ 6  8  9]\n",
      " [56 78 88]]\n"
     ]
    }
   ],
   "source": [
    "print(v[0:,0:3])\n"
   ]
  },
  {
   "cell_type": "code",
   "execution_count": 84,
   "id": "5342f65e",
   "metadata": {},
   "outputs": [
    {
     "name": "stdout",
     "output_type": "stream",
     "text": [
      "[[ 8  9]\n",
      " [ 8  9]\n",
      " [78 88]]\n"
     ]
    }
   ],
   "source": [
    "print(v[1:,1:3])\n"
   ]
  },
  {
   "cell_type": "code",
   "execution_count": 85,
   "id": "0ac49334",
   "metadata": {},
   "outputs": [
    {
     "data": {
      "text/plain": [
       "array([[ 1,  2,  4,  5],\n",
       "       [ 3,  8,  9,  2],\n",
       "       [ 6,  8,  9, 34],\n",
       "       [56, 78, 88, 99]])"
      ]
     },
     "execution_count": 85,
     "metadata": {},
     "output_type": "execute_result"
    }
   ],
   "source": [
    "v"
   ]
  },
  {
   "cell_type": "code",
   "execution_count": 86,
   "id": "b1d23a94",
   "metadata": {},
   "outputs": [
    {
     "name": "stdout",
     "output_type": "stream",
     "text": [
      "[[ 9  2]\n",
      " [ 9 34]\n",
      " [88 99]]\n"
     ]
    }
   ],
   "source": [
    "print(v[1:,2:])\n"
   ]
  },
  {
   "cell_type": "code",
   "execution_count": 87,
   "id": "3dc44f23",
   "metadata": {},
   "outputs": [
    {
     "name": "stdout",
     "output_type": "stream",
     "text": [
      "[[56 78 88 99]]\n"
     ]
    }
   ],
   "source": [
    "print(v[3:])"
   ]
  },
  {
   "cell_type": "code",
   "execution_count": 88,
   "id": "316e936d",
   "metadata": {},
   "outputs": [
    {
     "data": {
      "text/plain": [
       "array([[ 1,  2,  4,  5],\n",
       "       [ 3,  8,  9,  2],\n",
       "       [ 6,  8,  9, 34],\n",
       "       [56, 78, 88, 99]])"
      ]
     },
     "execution_count": 88,
     "metadata": {},
     "output_type": "execute_result"
    }
   ],
   "source": [
    "v\n"
   ]
  },
  {
   "cell_type": "code",
   "execution_count": 89,
   "id": "3a3f10a5",
   "metadata": {},
   "outputs": [
    {
     "name": "stdout",
     "output_type": "stream",
     "text": [
      "[ 66  96 110 140]\n"
     ]
    }
   ],
   "source": [
    "print(v.sum(axis=0))"
   ]
  },
  {
   "cell_type": "code",
   "execution_count": 90,
   "id": "4130791e",
   "metadata": {},
   "outputs": [
    {
     "name": "stdout",
     "output_type": "stream",
     "text": [
      "[ 12  22  57 321]\n"
     ]
    }
   ],
   "source": [
    "print(v.sum(axis=1))"
   ]
  },
  {
   "cell_type": "code",
   "execution_count": null,
   "id": "4698692c",
   "metadata": {},
   "outputs": [],
   "source": [
    " "
   ]
  },
  {
   "cell_type": "code",
   "execution_count": null,
   "id": "a1b51113",
   "metadata": {},
   "outputs": [],
   "source": []
  },
  {
   "cell_type": "code",
   "execution_count": null,
   "id": "2960b574",
   "metadata": {},
   "outputs": [],
   "source": []
  },
  {
   "cell_type": "code",
   "execution_count": null,
   "id": "c206bd63",
   "metadata": {},
   "outputs": [],
   "source": []
  },
  {
   "cell_type": "code",
   "execution_count": null,
   "id": "40fcb23f",
   "metadata": {},
   "outputs": [],
   "source": []
  },
  {
   "cell_type": "code",
   "execution_count": null,
   "id": "ff5a03ab",
   "metadata": {},
   "outputs": [],
   "source": []
  },
  {
   "cell_type": "code",
   "execution_count": null,
   "id": "fd3a0f08",
   "metadata": {},
   "outputs": [],
   "source": [
    "\n"
   ]
  },
  {
   "cell_type": "markdown",
   "id": "0addc9d7",
   "metadata": {},
   "source": [
    "# web screaping "
   ]
  },
  {
   "cell_type": "code",
   "execution_count": 2,
   "id": "20c861b4",
   "metadata": {},
   "outputs": [
    {
     "data": {
      "text/html": [
       "<div>\n",
       "<style scoped>\n",
       "    .dataframe tbody tr th:only-of-type {\n",
       "        vertical-align: middle;\n",
       "    }\n",
       "\n",
       "    .dataframe tbody tr th {\n",
       "        vertical-align: top;\n",
       "    }\n",
       "\n",
       "    .dataframe thead th {\n",
       "        text-align: right;\n",
       "    }\n",
       "</style>\n",
       "<table border=\"1\" class=\"dataframe\">\n",
       "  <thead>\n",
       "    <tr style=\"text-align: right;\">\n",
       "      <th></th>\n",
       "      <th>Names</th>\n",
       "      <th>Price</th>\n",
       "      <th>Rating</th>\n",
       "    </tr>\n",
       "  </thead>\n",
       "  <tbody>\n",
       "  </tbody>\n",
       "</table>\n",
       "</div>"
      ],
      "text/plain": [
       "Empty DataFrame\n",
       "Columns: [Names, Price, Rating]\n",
       "Index: []"
      ]
     },
     "execution_count": 2,
     "metadata": {},
     "output_type": "execute_result"
    }
   ],
   "source": [
    "from bs4 import BeautifulSoup\n",
    "import requests\n",
    "import lxml\n",
    "import pandas as pd\n",
    "filpkart_phons={}\n",
    "name_list=[]\n",
    "price_list=[]\n",
    "rating_list=[]\n",
    "for page in range(1,10):\n",
    "    url=f\"https://www.flipkart.com/search?q=phon&otracker=search&otracker1=search&marketplace=FLIPKART&as-show=on&as=off&page={page}\"\n",
    "\n",
    "    html=requests.get(url).content\n",
    "    soup=BeautifulSoup(html,\"lxml\")\n",
    "    phons=soup.find_all('div','_3pLy-c row')\n",
    "\n",
    "    for phon in phons:\n",
    "        name=phon.find('div','_4rR01T').get_text()\n",
    "        price=int(phon.find('div','_30jeq3 _1_WHN1').get_text().replace('₹','').replace(',',''))\n",
    "        rating=float(phon.find('div','_3LWZlK').get_text())\n",
    "        name_list.append(name)\n",
    "        price_list.append(price)\n",
    "        rating_list.append(rating)\n",
    "\n",
    "filpkart_phons['name']=name_list\n",
    "filpkart_phons['price']=price_list\n",
    "filpkart_phons['rating']=rating_list\n",
    "file=pd.DataFrame(filpkart_phons,columns=[\"Names\",\"Price\",\"Rating\"])\n",
    "file\n",
    "                "
   ]
  },
  {
   "cell_type": "markdown",
   "id": "4352e90f",
   "metadata": {},
   "source": [
    "# web secraping (timesjob)"
   ]
  },
  {
   "cell_type": "code",
   "execution_count": 8,
   "id": "4e36d9a8",
   "metadata": {},
   "outputs": [
    {
     "name": "stdout",
     "output_type": "stream",
     "text": [
      "<Response [503]>\n"
     ]
    }
   ],
   "source": [
    "from bs4 import BeautifulSoup\n",
    "import requests\n",
    "import lxml\n",
    "import pandas as pd\n",
    "amazon_phon={}\n",
    "name_list=[]\n",
    "price_list=[]\n",
    "rating_list=[]\n",
    "url=\"https://www.amazon.in/s?k=phon&crid=AXVQAVI32YIB&qid=1670435831&sprefix=phon%2Caps%2C331&ref=sr_pg_1\"\n",
    "\n",
    "\n"
   ]
  },
  {
   "cell_type": "code",
   "execution_count": 8,
   "id": "8a57d8f8",
   "metadata": {},
   "outputs": [
    {
     "ename": "ConnectionError",
     "evalue": "HTTPSConnectionPool(host='www.timesjobs.com', port=443): Max retries exceeded with url: /candidate/job-search.html?from=submit&actualTxtKeywords=Data%20Science&searchBy=0&rdoOperator=OR&searchType=personalizedSearch&txtLocation=Delhi&luceneResultSize=25&postWeek=60&txtKeywords=data%20science&cboWorkExp1=0&pDate=I&sequence=1&startPage=1 (Caused by NewConnectionError('<urllib3.connection.HTTPSConnection object at 0x0000019BD60B7D90>: Failed to establish a new connection: [WinError 10060] A connection attempt failed because the connected party did not properly respond after a period of time, or established connection failed because connected host has failed to respond'))",
     "output_type": "error",
     "traceback": [
      "\u001b[1;31m---------------------------------------------------------------------------\u001b[0m",
      "\u001b[1;31mTimeoutError\u001b[0m                              Traceback (most recent call last)",
      "File \u001b[1;32m~\\.conda\\lib\\site-packages\\urllib3\\connection.py:174\u001b[0m, in \u001b[0;36mHTTPConnection._new_conn\u001b[1;34m(self)\u001b[0m\n\u001b[0;32m    173\u001b[0m \u001b[38;5;28;01mtry\u001b[39;00m:\n\u001b[1;32m--> 174\u001b[0m     conn \u001b[38;5;241m=\u001b[39m connection\u001b[38;5;241m.\u001b[39mcreate_connection(\n\u001b[0;32m    175\u001b[0m         (\u001b[38;5;28mself\u001b[39m\u001b[38;5;241m.\u001b[39m_dns_host, \u001b[38;5;28mself\u001b[39m\u001b[38;5;241m.\u001b[39mport), \u001b[38;5;28mself\u001b[39m\u001b[38;5;241m.\u001b[39mtimeout, \u001b[38;5;241m*\u001b[39m\u001b[38;5;241m*\u001b[39mextra_kw\n\u001b[0;32m    176\u001b[0m     )\n\u001b[0;32m    178\u001b[0m \u001b[38;5;28;01mexcept\u001b[39;00m SocketTimeout:\n",
      "File \u001b[1;32m~\\.conda\\lib\\site-packages\\urllib3\\util\\connection.py:95\u001b[0m, in \u001b[0;36mcreate_connection\u001b[1;34m(address, timeout, source_address, socket_options)\u001b[0m\n\u001b[0;32m     94\u001b[0m \u001b[38;5;28;01mif\u001b[39;00m err \u001b[38;5;129;01mis\u001b[39;00m \u001b[38;5;129;01mnot\u001b[39;00m \u001b[38;5;28;01mNone\u001b[39;00m:\n\u001b[1;32m---> 95\u001b[0m     \u001b[38;5;28;01mraise\u001b[39;00m err\n\u001b[0;32m     97\u001b[0m \u001b[38;5;28;01mraise\u001b[39;00m socket\u001b[38;5;241m.\u001b[39merror(\u001b[38;5;124m\"\u001b[39m\u001b[38;5;124mgetaddrinfo returns an empty list\u001b[39m\u001b[38;5;124m\"\u001b[39m)\n",
      "File \u001b[1;32m~\\.conda\\lib\\site-packages\\urllib3\\util\\connection.py:85\u001b[0m, in \u001b[0;36mcreate_connection\u001b[1;34m(address, timeout, source_address, socket_options)\u001b[0m\n\u001b[0;32m     84\u001b[0m     sock\u001b[38;5;241m.\u001b[39mbind(source_address)\n\u001b[1;32m---> 85\u001b[0m \u001b[43msock\u001b[49m\u001b[38;5;241;43m.\u001b[39;49m\u001b[43mconnect\u001b[49m\u001b[43m(\u001b[49m\u001b[43msa\u001b[49m\u001b[43m)\u001b[49m\n\u001b[0;32m     86\u001b[0m \u001b[38;5;28;01mreturn\u001b[39;00m sock\n",
      "\u001b[1;31mTimeoutError\u001b[0m: [WinError 10060] A connection attempt failed because the connected party did not properly respond after a period of time, or established connection failed because connected host has failed to respond",
      "\nDuring handling of the above exception, another exception occurred:\n",
      "\u001b[1;31mNewConnectionError\u001b[0m                        Traceback (most recent call last)",
      "File \u001b[1;32m~\\.conda\\lib\\site-packages\\urllib3\\connectionpool.py:703\u001b[0m, in \u001b[0;36mHTTPConnectionPool.urlopen\u001b[1;34m(self, method, url, body, headers, retries, redirect, assert_same_host, timeout, pool_timeout, release_conn, chunked, body_pos, **response_kw)\u001b[0m\n\u001b[0;32m    702\u001b[0m \u001b[38;5;66;03m# Make the request on the httplib connection object.\u001b[39;00m\n\u001b[1;32m--> 703\u001b[0m httplib_response \u001b[38;5;241m=\u001b[39m \u001b[38;5;28;43mself\u001b[39;49m\u001b[38;5;241;43m.\u001b[39;49m\u001b[43m_make_request\u001b[49m\u001b[43m(\u001b[49m\n\u001b[0;32m    704\u001b[0m \u001b[43m    \u001b[49m\u001b[43mconn\u001b[49m\u001b[43m,\u001b[49m\n\u001b[0;32m    705\u001b[0m \u001b[43m    \u001b[49m\u001b[43mmethod\u001b[49m\u001b[43m,\u001b[49m\n\u001b[0;32m    706\u001b[0m \u001b[43m    \u001b[49m\u001b[43murl\u001b[49m\u001b[43m,\u001b[49m\n\u001b[0;32m    707\u001b[0m \u001b[43m    \u001b[49m\u001b[43mtimeout\u001b[49m\u001b[38;5;241;43m=\u001b[39;49m\u001b[43mtimeout_obj\u001b[49m\u001b[43m,\u001b[49m\n\u001b[0;32m    708\u001b[0m \u001b[43m    \u001b[49m\u001b[43mbody\u001b[49m\u001b[38;5;241;43m=\u001b[39;49m\u001b[43mbody\u001b[49m\u001b[43m,\u001b[49m\n\u001b[0;32m    709\u001b[0m \u001b[43m    \u001b[49m\u001b[43mheaders\u001b[49m\u001b[38;5;241;43m=\u001b[39;49m\u001b[43mheaders\u001b[49m\u001b[43m,\u001b[49m\n\u001b[0;32m    710\u001b[0m \u001b[43m    \u001b[49m\u001b[43mchunked\u001b[49m\u001b[38;5;241;43m=\u001b[39;49m\u001b[43mchunked\u001b[49m\u001b[43m,\u001b[49m\n\u001b[0;32m    711\u001b[0m \u001b[43m\u001b[49m\u001b[43m)\u001b[49m\n\u001b[0;32m    713\u001b[0m \u001b[38;5;66;03m# If we're going to release the connection in ``finally:``, then\u001b[39;00m\n\u001b[0;32m    714\u001b[0m \u001b[38;5;66;03m# the response doesn't need to know about the connection. Otherwise\u001b[39;00m\n\u001b[0;32m    715\u001b[0m \u001b[38;5;66;03m# it will also try to release it and we'll have a double-release\u001b[39;00m\n\u001b[0;32m    716\u001b[0m \u001b[38;5;66;03m# mess.\u001b[39;00m\n",
      "File \u001b[1;32m~\\.conda\\lib\\site-packages\\urllib3\\connectionpool.py:386\u001b[0m, in \u001b[0;36mHTTPConnectionPool._make_request\u001b[1;34m(self, conn, method, url, timeout, chunked, **httplib_request_kw)\u001b[0m\n\u001b[0;32m    385\u001b[0m \u001b[38;5;28;01mtry\u001b[39;00m:\n\u001b[1;32m--> 386\u001b[0m     \u001b[38;5;28;43mself\u001b[39;49m\u001b[38;5;241;43m.\u001b[39;49m\u001b[43m_validate_conn\u001b[49m\u001b[43m(\u001b[49m\u001b[43mconn\u001b[49m\u001b[43m)\u001b[49m\n\u001b[0;32m    387\u001b[0m \u001b[38;5;28;01mexcept\u001b[39;00m (SocketTimeout, BaseSSLError) \u001b[38;5;28;01mas\u001b[39;00m e:\n\u001b[0;32m    388\u001b[0m     \u001b[38;5;66;03m# Py2 raises this as a BaseSSLError, Py3 raises it as socket timeout.\u001b[39;00m\n",
      "File \u001b[1;32m~\\.conda\\lib\\site-packages\\urllib3\\connectionpool.py:1040\u001b[0m, in \u001b[0;36mHTTPSConnectionPool._validate_conn\u001b[1;34m(self, conn)\u001b[0m\n\u001b[0;32m   1039\u001b[0m \u001b[38;5;28;01mif\u001b[39;00m \u001b[38;5;129;01mnot\u001b[39;00m \u001b[38;5;28mgetattr\u001b[39m(conn, \u001b[38;5;124m\"\u001b[39m\u001b[38;5;124msock\u001b[39m\u001b[38;5;124m\"\u001b[39m, \u001b[38;5;28;01mNone\u001b[39;00m):  \u001b[38;5;66;03m# AppEngine might not have  `.sock`\u001b[39;00m\n\u001b[1;32m-> 1040\u001b[0m     \u001b[43mconn\u001b[49m\u001b[38;5;241;43m.\u001b[39;49m\u001b[43mconnect\u001b[49m\u001b[43m(\u001b[49m\u001b[43m)\u001b[49m\n\u001b[0;32m   1042\u001b[0m \u001b[38;5;28;01mif\u001b[39;00m \u001b[38;5;129;01mnot\u001b[39;00m conn\u001b[38;5;241m.\u001b[39mis_verified:\n",
      "File \u001b[1;32m~\\.conda\\lib\\site-packages\\urllib3\\connection.py:358\u001b[0m, in \u001b[0;36mHTTPSConnection.connect\u001b[1;34m(self)\u001b[0m\n\u001b[0;32m    356\u001b[0m \u001b[38;5;28;01mdef\u001b[39;00m \u001b[38;5;21mconnect\u001b[39m(\u001b[38;5;28mself\u001b[39m):\n\u001b[0;32m    357\u001b[0m     \u001b[38;5;66;03m# Add certificate verification\u001b[39;00m\n\u001b[1;32m--> 358\u001b[0m     \u001b[38;5;28mself\u001b[39m\u001b[38;5;241m.\u001b[39msock \u001b[38;5;241m=\u001b[39m conn \u001b[38;5;241m=\u001b[39m \u001b[38;5;28;43mself\u001b[39;49m\u001b[38;5;241;43m.\u001b[39;49m\u001b[43m_new_conn\u001b[49m\u001b[43m(\u001b[49m\u001b[43m)\u001b[49m\n\u001b[0;32m    359\u001b[0m     hostname \u001b[38;5;241m=\u001b[39m \u001b[38;5;28mself\u001b[39m\u001b[38;5;241m.\u001b[39mhost\n",
      "File \u001b[1;32m~\\.conda\\lib\\site-packages\\urllib3\\connection.py:186\u001b[0m, in \u001b[0;36mHTTPConnection._new_conn\u001b[1;34m(self)\u001b[0m\n\u001b[0;32m    185\u001b[0m \u001b[38;5;28;01mexcept\u001b[39;00m SocketError \u001b[38;5;28;01mas\u001b[39;00m e:\n\u001b[1;32m--> 186\u001b[0m     \u001b[38;5;28;01mraise\u001b[39;00m NewConnectionError(\n\u001b[0;32m    187\u001b[0m         \u001b[38;5;28mself\u001b[39m, \u001b[38;5;124m\"\u001b[39m\u001b[38;5;124mFailed to establish a new connection: \u001b[39m\u001b[38;5;132;01m%s\u001b[39;00m\u001b[38;5;124m\"\u001b[39m \u001b[38;5;241m%\u001b[39m e\n\u001b[0;32m    188\u001b[0m     )\n\u001b[0;32m    190\u001b[0m \u001b[38;5;28;01mreturn\u001b[39;00m conn\n",
      "\u001b[1;31mNewConnectionError\u001b[0m: <urllib3.connection.HTTPSConnection object at 0x0000019BD60B7D90>: Failed to establish a new connection: [WinError 10060] A connection attempt failed because the connected party did not properly respond after a period of time, or established connection failed because connected host has failed to respond",
      "\nDuring handling of the above exception, another exception occurred:\n",
      "\u001b[1;31mMaxRetryError\u001b[0m                             Traceback (most recent call last)",
      "File \u001b[1;32m~\\.conda\\lib\\site-packages\\requests\\adapters.py:440\u001b[0m, in \u001b[0;36mHTTPAdapter.send\u001b[1;34m(self, request, stream, timeout, verify, cert, proxies)\u001b[0m\n\u001b[0;32m    439\u001b[0m \u001b[38;5;28;01mif\u001b[39;00m \u001b[38;5;129;01mnot\u001b[39;00m chunked:\n\u001b[1;32m--> 440\u001b[0m     resp \u001b[38;5;241m=\u001b[39m \u001b[43mconn\u001b[49m\u001b[38;5;241;43m.\u001b[39;49m\u001b[43murlopen\u001b[49m\u001b[43m(\u001b[49m\n\u001b[0;32m    441\u001b[0m \u001b[43m        \u001b[49m\u001b[43mmethod\u001b[49m\u001b[38;5;241;43m=\u001b[39;49m\u001b[43mrequest\u001b[49m\u001b[38;5;241;43m.\u001b[39;49m\u001b[43mmethod\u001b[49m\u001b[43m,\u001b[49m\n\u001b[0;32m    442\u001b[0m \u001b[43m        \u001b[49m\u001b[43murl\u001b[49m\u001b[38;5;241;43m=\u001b[39;49m\u001b[43murl\u001b[49m\u001b[43m,\u001b[49m\n\u001b[0;32m    443\u001b[0m \u001b[43m        \u001b[49m\u001b[43mbody\u001b[49m\u001b[38;5;241;43m=\u001b[39;49m\u001b[43mrequest\u001b[49m\u001b[38;5;241;43m.\u001b[39;49m\u001b[43mbody\u001b[49m\u001b[43m,\u001b[49m\n\u001b[0;32m    444\u001b[0m \u001b[43m        \u001b[49m\u001b[43mheaders\u001b[49m\u001b[38;5;241;43m=\u001b[39;49m\u001b[43mrequest\u001b[49m\u001b[38;5;241;43m.\u001b[39;49m\u001b[43mheaders\u001b[49m\u001b[43m,\u001b[49m\n\u001b[0;32m    445\u001b[0m \u001b[43m        \u001b[49m\u001b[43mredirect\u001b[49m\u001b[38;5;241;43m=\u001b[39;49m\u001b[38;5;28;43;01mFalse\u001b[39;49;00m\u001b[43m,\u001b[49m\n\u001b[0;32m    446\u001b[0m \u001b[43m        \u001b[49m\u001b[43massert_same_host\u001b[49m\u001b[38;5;241;43m=\u001b[39;49m\u001b[38;5;28;43;01mFalse\u001b[39;49;00m\u001b[43m,\u001b[49m\n\u001b[0;32m    447\u001b[0m \u001b[43m        \u001b[49m\u001b[43mpreload_content\u001b[49m\u001b[38;5;241;43m=\u001b[39;49m\u001b[38;5;28;43;01mFalse\u001b[39;49;00m\u001b[43m,\u001b[49m\n\u001b[0;32m    448\u001b[0m \u001b[43m        \u001b[49m\u001b[43mdecode_content\u001b[49m\u001b[38;5;241;43m=\u001b[39;49m\u001b[38;5;28;43;01mFalse\u001b[39;49;00m\u001b[43m,\u001b[49m\n\u001b[0;32m    449\u001b[0m \u001b[43m        \u001b[49m\u001b[43mretries\u001b[49m\u001b[38;5;241;43m=\u001b[39;49m\u001b[38;5;28;43mself\u001b[39;49m\u001b[38;5;241;43m.\u001b[39;49m\u001b[43mmax_retries\u001b[49m\u001b[43m,\u001b[49m\n\u001b[0;32m    450\u001b[0m \u001b[43m        \u001b[49m\u001b[43mtimeout\u001b[49m\u001b[38;5;241;43m=\u001b[39;49m\u001b[43mtimeout\u001b[49m\n\u001b[0;32m    451\u001b[0m \u001b[43m    \u001b[49m\u001b[43m)\u001b[49m\n\u001b[0;32m    453\u001b[0m \u001b[38;5;66;03m# Send the request.\u001b[39;00m\n\u001b[0;32m    454\u001b[0m \u001b[38;5;28;01melse\u001b[39;00m:\n",
      "File \u001b[1;32m~\\.conda\\lib\\site-packages\\urllib3\\connectionpool.py:785\u001b[0m, in \u001b[0;36mHTTPConnectionPool.urlopen\u001b[1;34m(self, method, url, body, headers, retries, redirect, assert_same_host, timeout, pool_timeout, release_conn, chunked, body_pos, **response_kw)\u001b[0m\n\u001b[0;32m    783\u001b[0m     e \u001b[38;5;241m=\u001b[39m ProtocolError(\u001b[38;5;124m\"\u001b[39m\u001b[38;5;124mConnection aborted.\u001b[39m\u001b[38;5;124m\"\u001b[39m, e)\n\u001b[1;32m--> 785\u001b[0m retries \u001b[38;5;241m=\u001b[39m \u001b[43mretries\u001b[49m\u001b[38;5;241;43m.\u001b[39;49m\u001b[43mincrement\u001b[49m\u001b[43m(\u001b[49m\n\u001b[0;32m    786\u001b[0m \u001b[43m    \u001b[49m\u001b[43mmethod\u001b[49m\u001b[43m,\u001b[49m\u001b[43m \u001b[49m\u001b[43murl\u001b[49m\u001b[43m,\u001b[49m\u001b[43m \u001b[49m\u001b[43merror\u001b[49m\u001b[38;5;241;43m=\u001b[39;49m\u001b[43me\u001b[49m\u001b[43m,\u001b[49m\u001b[43m \u001b[49m\u001b[43m_pool\u001b[49m\u001b[38;5;241;43m=\u001b[39;49m\u001b[38;5;28;43mself\u001b[39;49m\u001b[43m,\u001b[49m\u001b[43m \u001b[49m\u001b[43m_stacktrace\u001b[49m\u001b[38;5;241;43m=\u001b[39;49m\u001b[43msys\u001b[49m\u001b[38;5;241;43m.\u001b[39;49m\u001b[43mexc_info\u001b[49m\u001b[43m(\u001b[49m\u001b[43m)\u001b[49m\u001b[43m[\u001b[49m\u001b[38;5;241;43m2\u001b[39;49m\u001b[43m]\u001b[49m\n\u001b[0;32m    787\u001b[0m \u001b[43m\u001b[49m\u001b[43m)\u001b[49m\n\u001b[0;32m    788\u001b[0m retries\u001b[38;5;241m.\u001b[39msleep()\n",
      "File \u001b[1;32m~\\.conda\\lib\\site-packages\\urllib3\\util\\retry.py:592\u001b[0m, in \u001b[0;36mRetry.increment\u001b[1;34m(self, method, url, response, error, _pool, _stacktrace)\u001b[0m\n\u001b[0;32m    591\u001b[0m \u001b[38;5;28;01mif\u001b[39;00m new_retry\u001b[38;5;241m.\u001b[39mis_exhausted():\n\u001b[1;32m--> 592\u001b[0m     \u001b[38;5;28;01mraise\u001b[39;00m MaxRetryError(_pool, url, error \u001b[38;5;129;01mor\u001b[39;00m ResponseError(cause))\n\u001b[0;32m    594\u001b[0m log\u001b[38;5;241m.\u001b[39mdebug(\u001b[38;5;124m\"\u001b[39m\u001b[38;5;124mIncremented Retry for (url=\u001b[39m\u001b[38;5;124m'\u001b[39m\u001b[38;5;132;01m%s\u001b[39;00m\u001b[38;5;124m'\u001b[39m\u001b[38;5;124m): \u001b[39m\u001b[38;5;132;01m%r\u001b[39;00m\u001b[38;5;124m\"\u001b[39m, url, new_retry)\n",
      "\u001b[1;31mMaxRetryError\u001b[0m: HTTPSConnectionPool(host='www.timesjobs.com', port=443): Max retries exceeded with url: /candidate/job-search.html?from=submit&actualTxtKeywords=Data%20Science&searchBy=0&rdoOperator=OR&searchType=personalizedSearch&txtLocation=Delhi&luceneResultSize=25&postWeek=60&txtKeywords=data%20science&cboWorkExp1=0&pDate=I&sequence=1&startPage=1 (Caused by NewConnectionError('<urllib3.connection.HTTPSConnection object at 0x0000019BD60B7D90>: Failed to establish a new connection: [WinError 10060] A connection attempt failed because the connected party did not properly respond after a period of time, or established connection failed because connected host has failed to respond'))",
      "\nDuring handling of the above exception, another exception occurred:\n",
      "\u001b[1;31mConnectionError\u001b[0m                           Traceback (most recent call last)",
      "Input \u001b[1;32mIn [8]\u001b[0m, in \u001b[0;36m<cell line: 13>\u001b[1;34m()\u001b[0m\n\u001b[0;32m      9\u001b[0m experience_list\u001b[38;5;241m=\u001b[39m[]\n\u001b[0;32m     12\u001b[0m url\u001b[38;5;241m=\u001b[39m\u001b[38;5;124m\"\u001b[39m\u001b[38;5;124mhttps://www.timesjobs.com/candidate/job-search.html?from=submit&actualTxtKeywords=Data\u001b[39m\u001b[38;5;124m%\u001b[39m\u001b[38;5;124m20Science&searchBy=0&rdoOperator=OR&searchType=personalizedSearch&txtLocation=Delhi&luceneResultSize=25&postWeek=60&txtKeywords=data\u001b[39m\u001b[38;5;132;01m%20s\u001b[39;00m\u001b[38;5;124mcience&cboWorkExp1=0&pDate=I&sequence=1&startPage=1\u001b[39m\u001b[38;5;124m\"\u001b[39m\n\u001b[1;32m---> 13\u001b[0m html\u001b[38;5;241m=\u001b[39m\u001b[43mrequests\u001b[49m\u001b[38;5;241;43m.\u001b[39;49m\u001b[43mget\u001b[49m\u001b[43m(\u001b[49m\u001b[43murl\u001b[49m\u001b[43m)\u001b[49m\u001b[38;5;241m.\u001b[39mcontent\n\u001b[0;32m     14\u001b[0m soup\u001b[38;5;241m=\u001b[39mBeautifulSoup(html,\u001b[38;5;124m\"\u001b[39m\u001b[38;5;124mlxml\u001b[39m\u001b[38;5;124m\"\u001b[39m)\n\u001b[0;32m     15\u001b[0m job\u001b[38;5;241m=\u001b[39msoup\u001b[38;5;241m.\u001b[39mfind(\u001b[38;5;124m\"\u001b[39m\u001b[38;5;124mli\u001b[39m\u001b[38;5;124m\"\u001b[39m\u001b[38;5;124m\"\u001b[39m\u001b[38;5;124mclearfix job-bx wht-shd-bx\u001b[39m\u001b[38;5;124m\"\u001b[39m)\n",
      "File \u001b[1;32m~\\.conda\\lib\\site-packages\\requests\\api.py:75\u001b[0m, in \u001b[0;36mget\u001b[1;34m(url, params, **kwargs)\u001b[0m\n\u001b[0;32m     64\u001b[0m \u001b[38;5;28;01mdef\u001b[39;00m \u001b[38;5;21mget\u001b[39m(url, params\u001b[38;5;241m=\u001b[39m\u001b[38;5;28;01mNone\u001b[39;00m, \u001b[38;5;241m*\u001b[39m\u001b[38;5;241m*\u001b[39mkwargs):\n\u001b[0;32m     65\u001b[0m     \u001b[38;5;124mr\u001b[39m\u001b[38;5;124;03m\"\"\"Sends a GET request.\u001b[39;00m\n\u001b[0;32m     66\u001b[0m \n\u001b[0;32m     67\u001b[0m \u001b[38;5;124;03m    :param url: URL for the new :class:`Request` object.\u001b[39;00m\n\u001b[1;32m   (...)\u001b[0m\n\u001b[0;32m     72\u001b[0m \u001b[38;5;124;03m    :rtype: requests.Response\u001b[39;00m\n\u001b[0;32m     73\u001b[0m \u001b[38;5;124;03m    \"\"\"\u001b[39;00m\n\u001b[1;32m---> 75\u001b[0m     \u001b[38;5;28;01mreturn\u001b[39;00m request(\u001b[38;5;124m'\u001b[39m\u001b[38;5;124mget\u001b[39m\u001b[38;5;124m'\u001b[39m, url, params\u001b[38;5;241m=\u001b[39mparams, \u001b[38;5;241m*\u001b[39m\u001b[38;5;241m*\u001b[39mkwargs)\n",
      "File \u001b[1;32m~\\.conda\\lib\\site-packages\\requests\\api.py:61\u001b[0m, in \u001b[0;36mrequest\u001b[1;34m(method, url, **kwargs)\u001b[0m\n\u001b[0;32m     57\u001b[0m \u001b[38;5;66;03m# By using the 'with' statement we are sure the session is closed, thus we\u001b[39;00m\n\u001b[0;32m     58\u001b[0m \u001b[38;5;66;03m# avoid leaving sockets open which can trigger a ResourceWarning in some\u001b[39;00m\n\u001b[0;32m     59\u001b[0m \u001b[38;5;66;03m# cases, and look like a memory leak in others.\u001b[39;00m\n\u001b[0;32m     60\u001b[0m \u001b[38;5;28;01mwith\u001b[39;00m sessions\u001b[38;5;241m.\u001b[39mSession() \u001b[38;5;28;01mas\u001b[39;00m session:\n\u001b[1;32m---> 61\u001b[0m     \u001b[38;5;28;01mreturn\u001b[39;00m session\u001b[38;5;241m.\u001b[39mrequest(method\u001b[38;5;241m=\u001b[39mmethod, url\u001b[38;5;241m=\u001b[39murl, \u001b[38;5;241m*\u001b[39m\u001b[38;5;241m*\u001b[39mkwargs)\n",
      "File \u001b[1;32m~\\.conda\\lib\\site-packages\\requests\\sessions.py:529\u001b[0m, in \u001b[0;36mSession.request\u001b[1;34m(self, method, url, params, data, headers, cookies, files, auth, timeout, allow_redirects, proxies, hooks, stream, verify, cert, json)\u001b[0m\n\u001b[0;32m    524\u001b[0m send_kwargs \u001b[38;5;241m=\u001b[39m {\n\u001b[0;32m    525\u001b[0m     \u001b[38;5;124m'\u001b[39m\u001b[38;5;124mtimeout\u001b[39m\u001b[38;5;124m'\u001b[39m: timeout,\n\u001b[0;32m    526\u001b[0m     \u001b[38;5;124m'\u001b[39m\u001b[38;5;124mallow_redirects\u001b[39m\u001b[38;5;124m'\u001b[39m: allow_redirects,\n\u001b[0;32m    527\u001b[0m }\n\u001b[0;32m    528\u001b[0m send_kwargs\u001b[38;5;241m.\u001b[39mupdate(settings)\n\u001b[1;32m--> 529\u001b[0m resp \u001b[38;5;241m=\u001b[39m \u001b[38;5;28mself\u001b[39m\u001b[38;5;241m.\u001b[39msend(prep, \u001b[38;5;241m*\u001b[39m\u001b[38;5;241m*\u001b[39msend_kwargs)\n\u001b[0;32m    531\u001b[0m \u001b[38;5;28;01mreturn\u001b[39;00m resp\n",
      "File \u001b[1;32m~\\.conda\\lib\\site-packages\\requests\\sessions.py:645\u001b[0m, in \u001b[0;36mSession.send\u001b[1;34m(self, request, **kwargs)\u001b[0m\n\u001b[0;32m    642\u001b[0m start \u001b[38;5;241m=\u001b[39m preferred_clock()\n\u001b[0;32m    644\u001b[0m \u001b[38;5;66;03m# Send the request\u001b[39;00m\n\u001b[1;32m--> 645\u001b[0m r \u001b[38;5;241m=\u001b[39m adapter\u001b[38;5;241m.\u001b[39msend(request, \u001b[38;5;241m*\u001b[39m\u001b[38;5;241m*\u001b[39mkwargs)\n\u001b[0;32m    647\u001b[0m \u001b[38;5;66;03m# Total elapsed time of the request (approximately)\u001b[39;00m\n\u001b[0;32m    648\u001b[0m elapsed \u001b[38;5;241m=\u001b[39m preferred_clock() \u001b[38;5;241m-\u001b[39m start\n",
      "File \u001b[1;32m~\\.conda\\lib\\site-packages\\requests\\adapters.py:519\u001b[0m, in \u001b[0;36mHTTPAdapter.send\u001b[1;34m(self, request, stream, timeout, verify, cert, proxies)\u001b[0m\n\u001b[0;32m    515\u001b[0m     \u001b[38;5;28;01mif\u001b[39;00m \u001b[38;5;28misinstance\u001b[39m(e\u001b[38;5;241m.\u001b[39mreason, _SSLError):\n\u001b[0;32m    516\u001b[0m         \u001b[38;5;66;03m# This branch is for urllib3 v1.22 and later.\u001b[39;00m\n\u001b[0;32m    517\u001b[0m         \u001b[38;5;28;01mraise\u001b[39;00m SSLError(e, request\u001b[38;5;241m=\u001b[39mrequest)\n\u001b[1;32m--> 519\u001b[0m     \u001b[38;5;28;01mraise\u001b[39;00m \u001b[38;5;167;01mConnectionError\u001b[39;00m(e, request\u001b[38;5;241m=\u001b[39mrequest)\n\u001b[0;32m    521\u001b[0m \u001b[38;5;28;01mexcept\u001b[39;00m ClosedPoolError \u001b[38;5;28;01mas\u001b[39;00m e:\n\u001b[0;32m    522\u001b[0m     \u001b[38;5;28;01mraise\u001b[39;00m \u001b[38;5;167;01mConnectionError\u001b[39;00m(e, request\u001b[38;5;241m=\u001b[39mrequest)\n",
      "\u001b[1;31mConnectionError\u001b[0m: HTTPSConnectionPool(host='www.timesjobs.com', port=443): Max retries exceeded with url: /candidate/job-search.html?from=submit&actualTxtKeywords=Data%20Science&searchBy=0&rdoOperator=OR&searchType=personalizedSearch&txtLocation=Delhi&luceneResultSize=25&postWeek=60&txtKeywords=data%20science&cboWorkExp1=0&pDate=I&sequence=1&startPage=1 (Caused by NewConnectionError('<urllib3.connection.HTTPSConnection object at 0x0000019BD60B7D90>: Failed to establish a new connection: [WinError 10060] A connection attempt failed because the connected party did not properly respond after a period of time, or established connection failed because connected host has failed to respond'))"
     ]
    }
   ],
   "source": [
    "from bs4 import BeautifulSoup\n",
    "import requests\n",
    "import lxml\n",
    "import pandas as pd\n",
    "amazon_phon={}\n",
    "jobname_list=[]\n",
    "sellery_list=[]\n",
    "location_list=[]\n",
    "experience_list=[]\n",
    "\n",
    "\n",
    "url=\"https://www.timesjobs.com/candidate/job-search.html?from=submit&actualTxtKeywords=Data%20Science&searchBy=0&rdoOperator=OR&searchType=personalizedSearch&txtLocation=Delhi&luceneResultSize=25&postWeek=60&txtKeywords=data%20science&cboWorkExp1=0&pDate=I&sequence=1&startPage=1\"\n",
    "html=requests.get(url).content\n",
    "soup=BeautifulSoup(html,\"lxml\")\n",
    "job=soup.find(\"li\"\"clearfix job-bx wht-shd-bx\")\n",
    "jobname=job.find(\"li\",\"clearfix\")\n",
    "sellery=job.find(\"li\",\"material-icons rupee\")\n",
    "location=job.find(\"li\",\"material-icons\")\n",
    "experience=job.find(\"li\",\"material-icons\")\n",
    "print(sellery)\n",
    "\n"
   ]
  },
  {
   "cell_type": "code",
   "execution_count": null,
   "id": "eaf183de",
   "metadata": {},
   "outputs": [],
   "source": []
  }
 ],
 "metadata": {
  "kernelspec": {
   "display_name": "Python 3 (ipykernel)",
   "language": "python",
   "name": "python3"
  },
  "language_info": {
   "codemirror_mode": {
    "name": "ipython",
    "version": 3
   },
   "file_extension": ".py",
   "mimetype": "text/x-python",
   "name": "python",
   "nbconvert_exporter": "python",
   "pygments_lexer": "ipython3",
   "version": "3.9.12"
  }
 },
 "nbformat": 4,
 "nbformat_minor": 5
}
